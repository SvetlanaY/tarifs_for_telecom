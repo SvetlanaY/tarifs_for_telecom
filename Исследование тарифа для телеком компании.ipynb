{
 "cells": [
  {
   "cell_type": "markdown",
   "metadata": {},
   "source": [
    "# Определение перспективного тарифа для телеком-компании\n",
    "\n",
    "**Входные данные** Данные 500 пользователей «Мегалайна»: кто они, откуда, каким тарифом пользуются, сколько звонков и сообщений каждый отправил за 2018 год.  \n",
    "\n",
    "\n",
    "*Описание тарифов:*  \n",
    "**Тариф «Смарт»**  \n",
    "Ежемесячная плата: 550 рублей  \n",
    "Включено 500 минут разговора, 50 сообщений и 15 Гб интернет-трафика  \n",
    "Стоимость услуг сверх тарифного пакета:  \n",
    "1. минута разговора: 3 рубля («Мегалайн» всегда округляет вверх значения минут и мегабайтов. Если пользователь проговорил всего 1 секунду, в тарифе засчитывается целая минута);  \n",
    "2. сообщение: 3 рубля;\n",
    "3. 1 Гб интернет-трафика: 200 рублей.  \n",
    "**Тариф «Ультра»**  \n",
    "Ежемесячная плата: 1950 рублей  \n",
    "Включено 3000 минут разговора, 1000 сообщений и 30 Гб интернет-трафика  \n",
    "Стоимость услуг сверх тарифного пакета:  \n",
    "1. минута разговора: 1 рубль;  \n",
    "2. сообщение: 1 рубль;  \n",
    "3. 1 Гб интернет-трафика: 150 рублей.\n",
    "*Примечание:*  \n",
    "«Мегалайн» всегда округляет секунды до минут, а мегабайты — до гигабайт. Каждый звонок округляется отдельно: даже если он длился всего 1 секунду, будет засчитан как 1 минута.\n",
    "Для веб-трафика отдельные сессии не считаются. Вместо этого общая сумма за месяц округляется в бо́льшую сторону. Если абонент использует 1025 мегабайт в этом месяце, с него возьмут плату за 2 гигабайта.\n",
    "\n",
    "\n",
    "**Цель исследования** Сделать предварительный анализ тарифов на небольшой выборке клиентов. Клиентам предлагают два тарифных плана: «Смарт» и «Ультра». Чтобы скорректировать рекламный бюджет, коммерческий департамент хочет понять, какой тариф приносит больше денег.\n",
    "\n",
    "\n",
    "**Результаты исследования**  Проанализировать поведение клиентов и сделать вывод — какой тариф приносит больше денег.\n",
    "\n",
    "\n",
    "**Ход исследования**\n",
    "Данные получаем из файлов:  \n",
    "Яндекс Практикума  \n",
    "\n",
    "О качестве данных ничего не известно. Поэтому понадобится обзор данных. \n",
    "Таким образом, исследование пройдёт по следующим этапам:  \n",
    "1. Обзор данных.\n",
    "2. Подготовка данных.\n",
    "3. Анализ данных.\n",
    "4. Проверка гипотез.\n",
    "5. Общий вывод."
   ]
  },
  {
   "cell_type": "markdown",
   "metadata": {},
   "source": [
    "## Обзор данных."
   ]
  },
  {
   "cell_type": "code",
   "execution_count": 1,
   "metadata": {},
   "outputs": [],
   "source": [
    "import pandas as pd\n",
    "import numpy as np\n",
    "import matplotlib.pyplot as plt\n",
    "import seaborn as sns\n",
    "from scipy import stats as st\n",
    "from math import ceil\n",
    "import warnings"
   ]
  },
  {
   "cell_type": "code",
   "execution_count": 2,
   "metadata": {},
   "outputs": [],
   "source": [
    "# отключить некритические предупреждения в коде\n",
    "warnings.filterwarnings(\"ignore\")"
   ]
  },
  {
   "cell_type": "code",
   "execution_count": 3,
   "metadata": {},
   "outputs": [],
   "source": [
    "# убрать экспонентациальные формы при выводе данных\n",
    "pd.set_option('display.float_format', '{:,.2f}'.format)"
   ]
  },
  {
   "cell_type": "code",
   "execution_count": 4,
   "metadata": {},
   "outputs": [],
   "source": [
    "# сбросим ограничение на количество выводимых столбцов, что бы просмотреть все столбцы\n",
    "pd.set_option('display.max_columns', None)"
   ]
  },
  {
   "cell_type": "code",
   "execution_count": 5,
   "metadata": {},
   "outputs": [],
   "source": [
    "# чтение файлов с данными и сохранение в DataFrame\n",
    "calls = pd.read_csv('***')\n",
    "internet = pd.read_csv('***', index_col=0)\n",
    "messages = pd.read_csv('***')\n",
    "tariffs = pd.read_csv('***')\n",
    "users = pd.read_csv('***')"
   ]
  },
  {
   "cell_type": "code",
   "execution_count": 6,
   "metadata": {},
   "outputs": [
    {
     "data": {
      "text/html": [
       "<div>\n",
       "<style scoped>\n",
       "    .dataframe tbody tr th:only-of-type {\n",
       "        vertical-align: middle;\n",
       "    }\n",
       "\n",
       "    .dataframe tbody tr th {\n",
       "        vertical-align: top;\n",
       "    }\n",
       "\n",
       "    .dataframe thead th {\n",
       "        text-align: right;\n",
       "    }\n",
       "</style>\n",
       "<table border=\"1\" class=\"dataframe\">\n",
       "  <thead>\n",
       "    <tr style=\"text-align: right;\">\n",
       "      <th></th>\n",
       "      <th>id</th>\n",
       "      <th>call_date</th>\n",
       "      <th>duration</th>\n",
       "      <th>user_id</th>\n",
       "    </tr>\n",
       "  </thead>\n",
       "  <tbody>\n",
       "    <tr>\n",
       "      <th>0</th>\n",
       "      <td>1000_0</td>\n",
       "      <td>2018-07-25</td>\n",
       "      <td>0.00</td>\n",
       "      <td>1000</td>\n",
       "    </tr>\n",
       "    <tr>\n",
       "      <th>1</th>\n",
       "      <td>1000_1</td>\n",
       "      <td>2018-08-17</td>\n",
       "      <td>0.00</td>\n",
       "      <td>1000</td>\n",
       "    </tr>\n",
       "    <tr>\n",
       "      <th>2</th>\n",
       "      <td>1000_2</td>\n",
       "      <td>2018-06-11</td>\n",
       "      <td>2.85</td>\n",
       "      <td>1000</td>\n",
       "    </tr>\n",
       "    <tr>\n",
       "      <th>3</th>\n",
       "      <td>1000_3</td>\n",
       "      <td>2018-09-21</td>\n",
       "      <td>13.80</td>\n",
       "      <td>1000</td>\n",
       "    </tr>\n",
       "    <tr>\n",
       "      <th>4</th>\n",
       "      <td>1000_4</td>\n",
       "      <td>2018-12-15</td>\n",
       "      <td>5.18</td>\n",
       "      <td>1000</td>\n",
       "    </tr>\n",
       "  </tbody>\n",
       "</table>\n",
       "</div>"
      ],
      "text/plain": [
       "       id   call_date  duration  user_id\n",
       "0  1000_0  2018-07-25      0.00     1000\n",
       "1  1000_1  2018-08-17      0.00     1000\n",
       "2  1000_2  2018-06-11      2.85     1000\n",
       "3  1000_3  2018-09-21     13.80     1000\n",
       "4  1000_4  2018-12-15      5.18     1000"
      ]
     },
     "execution_count": 6,
     "metadata": {},
     "output_type": "execute_result"
    }
   ],
   "source": [
    "# получение первых 5 строк таблицы calls\n",
    "calls.head()"
   ]
  },
  {
   "cell_type": "code",
   "execution_count": 7,
   "metadata": {},
   "outputs": [
    {
     "name": "stdout",
     "output_type": "stream",
     "text": [
      "<class 'pandas.core.frame.DataFrame'>\n",
      "RangeIndex: 202607 entries, 0 to 202606\n",
      "Data columns (total 4 columns):\n",
      " #   Column     Non-Null Count   Dtype  \n",
      "---  ------     --------------   -----  \n",
      " 0   id         202607 non-null  object \n",
      " 1   call_date  202607 non-null  object \n",
      " 2   duration   202607 non-null  float64\n",
      " 3   user_id    202607 non-null  int64  \n",
      "dtypes: float64(1), int64(1), object(2)\n",
      "memory usage: 6.2+ MB\n"
     ]
    }
   ],
   "source": [
    "calls.info()"
   ]
  },
  {
   "cell_type": "code",
   "execution_count": 8,
   "metadata": {},
   "outputs": [
    {
     "data": {
      "text/html": [
       "<div>\n",
       "<style scoped>\n",
       "    .dataframe tbody tr th:only-of-type {\n",
       "        vertical-align: middle;\n",
       "    }\n",
       "\n",
       "    .dataframe tbody tr th {\n",
       "        vertical-align: top;\n",
       "    }\n",
       "\n",
       "    .dataframe thead th {\n",
       "        text-align: right;\n",
       "    }\n",
       "</style>\n",
       "<table border=\"1\" class=\"dataframe\">\n",
       "  <thead>\n",
       "    <tr style=\"text-align: right;\">\n",
       "      <th></th>\n",
       "      <th>id</th>\n",
       "      <th>mb_used</th>\n",
       "      <th>session_date</th>\n",
       "      <th>user_id</th>\n",
       "    </tr>\n",
       "  </thead>\n",
       "  <tbody>\n",
       "    <tr>\n",
       "      <th>0</th>\n",
       "      <td>1000_0</td>\n",
       "      <td>112.95</td>\n",
       "      <td>2018-11-25</td>\n",
       "      <td>1000</td>\n",
       "    </tr>\n",
       "    <tr>\n",
       "      <th>1</th>\n",
       "      <td>1000_1</td>\n",
       "      <td>1,052.81</td>\n",
       "      <td>2018-09-07</td>\n",
       "      <td>1000</td>\n",
       "    </tr>\n",
       "    <tr>\n",
       "      <th>2</th>\n",
       "      <td>1000_2</td>\n",
       "      <td>1,197.26</td>\n",
       "      <td>2018-06-25</td>\n",
       "      <td>1000</td>\n",
       "    </tr>\n",
       "    <tr>\n",
       "      <th>3</th>\n",
       "      <td>1000_3</td>\n",
       "      <td>550.27</td>\n",
       "      <td>2018-08-22</td>\n",
       "      <td>1000</td>\n",
       "    </tr>\n",
       "    <tr>\n",
       "      <th>4</th>\n",
       "      <td>1000_4</td>\n",
       "      <td>302.56</td>\n",
       "      <td>2018-09-24</td>\n",
       "      <td>1000</td>\n",
       "    </tr>\n",
       "  </tbody>\n",
       "</table>\n",
       "</div>"
      ],
      "text/plain": [
       "       id  mb_used session_date  user_id\n",
       "0  1000_0   112.95   2018-11-25     1000\n",
       "1  1000_1 1,052.81   2018-09-07     1000\n",
       "2  1000_2 1,197.26   2018-06-25     1000\n",
       "3  1000_3   550.27   2018-08-22     1000\n",
       "4  1000_4   302.56   2018-09-24     1000"
      ]
     },
     "execution_count": 8,
     "metadata": {},
     "output_type": "execute_result"
    }
   ],
   "source": [
    "internet.head()"
   ]
  },
  {
   "cell_type": "code",
   "execution_count": 9,
   "metadata": {},
   "outputs": [
    {
     "name": "stdout",
     "output_type": "stream",
     "text": [
      "<class 'pandas.core.frame.DataFrame'>\n",
      "Int64Index: 149396 entries, 0 to 149395\n",
      "Data columns (total 4 columns):\n",
      " #   Column        Non-Null Count   Dtype  \n",
      "---  ------        --------------   -----  \n",
      " 0   id            149396 non-null  object \n",
      " 1   mb_used       149396 non-null  float64\n",
      " 2   session_date  149396 non-null  object \n",
      " 3   user_id       149396 non-null  int64  \n",
      "dtypes: float64(1), int64(1), object(2)\n",
      "memory usage: 5.7+ MB\n"
     ]
    }
   ],
   "source": [
    "internet.info()"
   ]
  },
  {
   "cell_type": "code",
   "execution_count": 10,
   "metadata": {},
   "outputs": [
    {
     "data": {
      "text/html": [
       "<div>\n",
       "<style scoped>\n",
       "    .dataframe tbody tr th:only-of-type {\n",
       "        vertical-align: middle;\n",
       "    }\n",
       "\n",
       "    .dataframe tbody tr th {\n",
       "        vertical-align: top;\n",
       "    }\n",
       "\n",
       "    .dataframe thead th {\n",
       "        text-align: right;\n",
       "    }\n",
       "</style>\n",
       "<table border=\"1\" class=\"dataframe\">\n",
       "  <thead>\n",
       "    <tr style=\"text-align: right;\">\n",
       "      <th></th>\n",
       "      <th>id</th>\n",
       "      <th>message_date</th>\n",
       "      <th>user_id</th>\n",
       "    </tr>\n",
       "  </thead>\n",
       "  <tbody>\n",
       "    <tr>\n",
       "      <th>0</th>\n",
       "      <td>1000_0</td>\n",
       "      <td>2018-06-27</td>\n",
       "      <td>1000</td>\n",
       "    </tr>\n",
       "    <tr>\n",
       "      <th>1</th>\n",
       "      <td>1000_1</td>\n",
       "      <td>2018-10-08</td>\n",
       "      <td>1000</td>\n",
       "    </tr>\n",
       "    <tr>\n",
       "      <th>2</th>\n",
       "      <td>1000_2</td>\n",
       "      <td>2018-08-04</td>\n",
       "      <td>1000</td>\n",
       "    </tr>\n",
       "    <tr>\n",
       "      <th>3</th>\n",
       "      <td>1000_3</td>\n",
       "      <td>2018-06-16</td>\n",
       "      <td>1000</td>\n",
       "    </tr>\n",
       "    <tr>\n",
       "      <th>4</th>\n",
       "      <td>1000_4</td>\n",
       "      <td>2018-12-05</td>\n",
       "      <td>1000</td>\n",
       "    </tr>\n",
       "  </tbody>\n",
       "</table>\n",
       "</div>"
      ],
      "text/plain": [
       "       id message_date  user_id\n",
       "0  1000_0   2018-06-27     1000\n",
       "1  1000_1   2018-10-08     1000\n",
       "2  1000_2   2018-08-04     1000\n",
       "3  1000_3   2018-06-16     1000\n",
       "4  1000_4   2018-12-05     1000"
      ]
     },
     "execution_count": 10,
     "metadata": {},
     "output_type": "execute_result"
    }
   ],
   "source": [
    "messages.head()"
   ]
  },
  {
   "cell_type": "code",
   "execution_count": 11,
   "metadata": {},
   "outputs": [
    {
     "name": "stdout",
     "output_type": "stream",
     "text": [
      "<class 'pandas.core.frame.DataFrame'>\n",
      "RangeIndex: 123036 entries, 0 to 123035\n",
      "Data columns (total 3 columns):\n",
      " #   Column        Non-Null Count   Dtype \n",
      "---  ------        --------------   ----- \n",
      " 0   id            123036 non-null  object\n",
      " 1   message_date  123036 non-null  object\n",
      " 2   user_id       123036 non-null  int64 \n",
      "dtypes: int64(1), object(2)\n",
      "memory usage: 2.8+ MB\n"
     ]
    }
   ],
   "source": [
    "messages.info()"
   ]
  },
  {
   "cell_type": "code",
   "execution_count": 12,
   "metadata": {},
   "outputs": [
    {
     "data": {
      "text/html": [
       "<div>\n",
       "<style scoped>\n",
       "    .dataframe tbody tr th:only-of-type {\n",
       "        vertical-align: middle;\n",
       "    }\n",
       "\n",
       "    .dataframe tbody tr th {\n",
       "        vertical-align: top;\n",
       "    }\n",
       "\n",
       "    .dataframe thead th {\n",
       "        text-align: right;\n",
       "    }\n",
       "</style>\n",
       "<table border=\"1\" class=\"dataframe\">\n",
       "  <thead>\n",
       "    <tr style=\"text-align: right;\">\n",
       "      <th></th>\n",
       "      <th>messages_included</th>\n",
       "      <th>mb_per_month_included</th>\n",
       "      <th>minutes_included</th>\n",
       "      <th>rub_monthly_fee</th>\n",
       "      <th>rub_per_gb</th>\n",
       "      <th>rub_per_message</th>\n",
       "      <th>rub_per_minute</th>\n",
       "      <th>tariff_name</th>\n",
       "    </tr>\n",
       "  </thead>\n",
       "  <tbody>\n",
       "    <tr>\n",
       "      <th>0</th>\n",
       "      <td>50</td>\n",
       "      <td>15360</td>\n",
       "      <td>500</td>\n",
       "      <td>550</td>\n",
       "      <td>200</td>\n",
       "      <td>3</td>\n",
       "      <td>3</td>\n",
       "      <td>smart</td>\n",
       "    </tr>\n",
       "    <tr>\n",
       "      <th>1</th>\n",
       "      <td>1000</td>\n",
       "      <td>30720</td>\n",
       "      <td>3000</td>\n",
       "      <td>1950</td>\n",
       "      <td>150</td>\n",
       "      <td>1</td>\n",
       "      <td>1</td>\n",
       "      <td>ultra</td>\n",
       "    </tr>\n",
       "  </tbody>\n",
       "</table>\n",
       "</div>"
      ],
      "text/plain": [
       "   messages_included  mb_per_month_included  minutes_included  \\\n",
       "0                 50                  15360               500   \n",
       "1               1000                  30720              3000   \n",
       "\n",
       "   rub_monthly_fee  rub_per_gb  rub_per_message  rub_per_minute tariff_name  \n",
       "0              550         200                3               3       smart  \n",
       "1             1950         150                1               1       ultra  "
      ]
     },
     "execution_count": 12,
     "metadata": {},
     "output_type": "execute_result"
    }
   ],
   "source": [
    "tariffs.head()"
   ]
  },
  {
   "cell_type": "code",
   "execution_count": 13,
   "metadata": {},
   "outputs": [
    {
     "name": "stdout",
     "output_type": "stream",
     "text": [
      "<class 'pandas.core.frame.DataFrame'>\n",
      "RangeIndex: 2 entries, 0 to 1\n",
      "Data columns (total 8 columns):\n",
      " #   Column                 Non-Null Count  Dtype \n",
      "---  ------                 --------------  ----- \n",
      " 0   messages_included      2 non-null      int64 \n",
      " 1   mb_per_month_included  2 non-null      int64 \n",
      " 2   minutes_included       2 non-null      int64 \n",
      " 3   rub_monthly_fee        2 non-null      int64 \n",
      " 4   rub_per_gb             2 non-null      int64 \n",
      " 5   rub_per_message        2 non-null      int64 \n",
      " 6   rub_per_minute         2 non-null      int64 \n",
      " 7   tariff_name            2 non-null      object\n",
      "dtypes: int64(7), object(1)\n",
      "memory usage: 256.0+ bytes\n"
     ]
    }
   ],
   "source": [
    "tariffs.info()"
   ]
  },
  {
   "cell_type": "code",
   "execution_count": 14,
   "metadata": {},
   "outputs": [
    {
     "data": {
      "text/html": [
       "<div>\n",
       "<style scoped>\n",
       "    .dataframe tbody tr th:only-of-type {\n",
       "        vertical-align: middle;\n",
       "    }\n",
       "\n",
       "    .dataframe tbody tr th {\n",
       "        vertical-align: top;\n",
       "    }\n",
       "\n",
       "    .dataframe thead th {\n",
       "        text-align: right;\n",
       "    }\n",
       "</style>\n",
       "<table border=\"1\" class=\"dataframe\">\n",
       "  <thead>\n",
       "    <tr style=\"text-align: right;\">\n",
       "      <th></th>\n",
       "      <th>user_id</th>\n",
       "      <th>age</th>\n",
       "      <th>churn_date</th>\n",
       "      <th>city</th>\n",
       "      <th>first_name</th>\n",
       "      <th>last_name</th>\n",
       "      <th>reg_date</th>\n",
       "      <th>tariff</th>\n",
       "    </tr>\n",
       "  </thead>\n",
       "  <tbody>\n",
       "    <tr>\n",
       "      <th>0</th>\n",
       "      <td>1000</td>\n",
       "      <td>52</td>\n",
       "      <td>NaN</td>\n",
       "      <td>Краснодар</td>\n",
       "      <td>Рафаил</td>\n",
       "      <td>Верещагин</td>\n",
       "      <td>2018-05-25</td>\n",
       "      <td>ultra</td>\n",
       "    </tr>\n",
       "    <tr>\n",
       "      <th>1</th>\n",
       "      <td>1001</td>\n",
       "      <td>41</td>\n",
       "      <td>NaN</td>\n",
       "      <td>Москва</td>\n",
       "      <td>Иван</td>\n",
       "      <td>Ежов</td>\n",
       "      <td>2018-11-01</td>\n",
       "      <td>smart</td>\n",
       "    </tr>\n",
       "    <tr>\n",
       "      <th>2</th>\n",
       "      <td>1002</td>\n",
       "      <td>59</td>\n",
       "      <td>NaN</td>\n",
       "      <td>Стерлитамак</td>\n",
       "      <td>Евгений</td>\n",
       "      <td>Абрамович</td>\n",
       "      <td>2018-06-17</td>\n",
       "      <td>smart</td>\n",
       "    </tr>\n",
       "    <tr>\n",
       "      <th>3</th>\n",
       "      <td>1003</td>\n",
       "      <td>23</td>\n",
       "      <td>NaN</td>\n",
       "      <td>Москва</td>\n",
       "      <td>Белла</td>\n",
       "      <td>Белякова</td>\n",
       "      <td>2018-08-17</td>\n",
       "      <td>ultra</td>\n",
       "    </tr>\n",
       "    <tr>\n",
       "      <th>4</th>\n",
       "      <td>1004</td>\n",
       "      <td>68</td>\n",
       "      <td>NaN</td>\n",
       "      <td>Новокузнецк</td>\n",
       "      <td>Татьяна</td>\n",
       "      <td>Авдеенко</td>\n",
       "      <td>2018-05-14</td>\n",
       "      <td>ultra</td>\n",
       "    </tr>\n",
       "  </tbody>\n",
       "</table>\n",
       "</div>"
      ],
      "text/plain": [
       "   user_id  age churn_date         city first_name  last_name    reg_date  \\\n",
       "0     1000   52        NaN    Краснодар     Рафаил  Верещагин  2018-05-25   \n",
       "1     1001   41        NaN       Москва       Иван       Ежов  2018-11-01   \n",
       "2     1002   59        NaN  Стерлитамак    Евгений  Абрамович  2018-06-17   \n",
       "3     1003   23        NaN       Москва      Белла   Белякова  2018-08-17   \n",
       "4     1004   68        NaN  Новокузнецк    Татьяна   Авдеенко  2018-05-14   \n",
       "\n",
       "  tariff  \n",
       "0  ultra  \n",
       "1  smart  \n",
       "2  smart  \n",
       "3  ultra  \n",
       "4  ultra  "
      ]
     },
     "execution_count": 14,
     "metadata": {},
     "output_type": "execute_result"
    }
   ],
   "source": [
    "users.head()"
   ]
  },
  {
   "cell_type": "code",
   "execution_count": 15,
   "metadata": {},
   "outputs": [
    {
     "name": "stdout",
     "output_type": "stream",
     "text": [
      "<class 'pandas.core.frame.DataFrame'>\n",
      "RangeIndex: 500 entries, 0 to 499\n",
      "Data columns (total 8 columns):\n",
      " #   Column      Non-Null Count  Dtype \n",
      "---  ------      --------------  ----- \n",
      " 0   user_id     500 non-null    int64 \n",
      " 1   age         500 non-null    int64 \n",
      " 2   churn_date  38 non-null     object\n",
      " 3   city        500 non-null    object\n",
      " 4   first_name  500 non-null    object\n",
      " 5   last_name   500 non-null    object\n",
      " 6   reg_date    500 non-null    object\n",
      " 7   tariff      500 non-null    object\n",
      "dtypes: int64(2), object(6)\n",
      "memory usage: 31.4+ KB\n"
     ]
    }
   ],
   "source": [
    "users.info()"
   ]
  },
  {
   "cell_type": "markdown",
   "metadata": {},
   "source": [
    "Согласно документации к данным:  \n",
    "**Таблица users (информация о пользователях):**  \n",
    "user_id — уникальный идентификатор пользователя  \n",
    "first_name — имя пользователя  \n",
    "last_name — фамилия пользователя  \n",
    "age — возраст пользователя (годы)  \n",
    "reg_date — дата подключения тарифа (день, месяц, год)  \n",
    "churn_date — дата прекращения пользования тарифом (если значение пропущено, то тариф ещё действовал на момент выгрузки данных)  \n",
    "city — город проживания пользователя  \n",
    "tarif — название тарифного плана  \n",
    "\n",
    "**Таблица calls (информация о звонках):**  \n",
    "id — уникальный номер звонка  \n",
    "call_date — дата звонка  \n",
    "duration — длительность звонка в минутах  \n",
    "user_id — идентификатор пользователя, сделавшего звонок  \n",
    "\n",
    "**Таблица messages (информация о сообщениях):**  \n",
    "id — уникальный номер сообщения  \n",
    "message_date — дата сообщения  \n",
    "user_id — идентификатор пользователя, отправившего сообщение  \n",
    "\n",
    "**Таблица internet (информация об интернет-сессиях):**  \n",
    "id — уникальный номер сессии  \n",
    "mb_used — объём потраченного за сессию интернет-трафика (в мегабайтах)  \n",
    "session_date — дата интернет-сессии  \n",
    "user_id — идентификатор пользователя  \n",
    "\n",
    "**Таблица tariffs (информация о тарифах):**  \n",
    "tariff_name — название тарифа  \n",
    "rub_monthly_fee — ежемесячная абонентская плата в рублях  \n",
    "minutes_included — количество минут разговора в месяц, включённых в абонентскую плату  \n",
    "messages_included — количество сообщений в месяц, включённых в абонентскую плату  \n",
    "mb_per_month_included — объём интернет-трафика, включённого в абонентскую плату (в мегабайтах)  \n",
    "rub_per_minute — стоимость минуты разговора сверх тарифного пакета (например, если в тарифе 100 минут разговора в месяц, то со 101 минуты будет взиматься плата)  \n",
    "rub_per_message — стоимость отправки сообщения сверх тарифного пакета  \n",
    "rub_per_gb — стоимость дополнительного гигабайта интернет-трафика сверх тарифного пакета (1 гигабайт = 1024 мегабайта)  \n",
    "\n",
    "В названиях колонок нарушений стиля нет. \n",
    "Названия колонок соответствуют документации.  \n",
    "Типы данных: по всем столбцам, где дата , необходимо изменить тип данных object.  \n",
    "Количество значений в столбцах совпадает. Значит, в данных нет пропущенных значений. По столбцу churn_date — дата прекращения пользования тарифом (если значение пропущено, то тариф ещё действовал на момент выгрузки данных).\n",
    "\n"
   ]
  },
  {
   "cell_type": "markdown",
   "metadata": {},
   "source": [
    "**Выводы**  \n",
    "Предварительно можно утверждать, что, данных достаточно для  анализа поведения клиентов, что бы определить какой тариф приносит больше денег компании.\n",
    "\n",
    "*Необходимо*:  \n",
    "\n",
    "    - изменить тип данных по столбцам, где это необходимо  \n",
    "    - проанализировать данные на наличие аномалий и ошибок    \n",
    "    - сгруппировать таблицы (звонки, трафик, сообщения) по пользователю и месяцу и объединить в единую таблицу с таблицей информации о пользователях для удобства работы.     \n",
    "\n",
    "Чтобы двигаться дальше, нужно устранить проблемы в данных."
   ]
  },
  {
   "cell_type": "markdown",
   "metadata": {},
   "source": [
    "## Подготовка данных."
   ]
  },
  {
   "cell_type": "markdown",
   "metadata": {},
   "source": [
    "### Изменение типа данных"
   ]
  },
  {
   "cell_type": "code",
   "execution_count": 16,
   "metadata": {},
   "outputs": [],
   "source": [
    "# заменим тип данных `object` на `datetime64` методом pd.to_datetime()\",\n",
    "calls['call_date'] = pd.to_datetime(calls['call_date'],format='%Y-%m-%d')\n",
    "internet['session_date'] = pd.to_datetime(internet['session_date'],format='%Y-%m-%d')\n",
    "messages['message_date'] = pd.to_datetime(messages['message_date'],format='%Y-%m-%d')\n",
    "users['reg_date'] = pd.to_datetime(users['reg_date'],format='%Y-%m-%d')"
   ]
  },
  {
   "cell_type": "code",
   "execution_count": 17,
   "metadata": {},
   "outputs": [],
   "source": [
    "# добавим столбцы год, месяц в таблицы, где есть дата\n",
    "calls['year'] =pd.DatetimeIndex(calls['call_date']).year\n",
    "internet['year'] = pd.DatetimeIndex(internet['session_date']).year\n",
    "messages['year'] = pd.DatetimeIndex(messages['message_date']).year\n",
    "users['year_start'] = pd.DatetimeIndex(users['reg_date']).year\n",
    "calls['month'] =pd.DatetimeIndex(calls['call_date']).month\n",
    "internet['month'] = pd.DatetimeIndex(internet['session_date']).month\n",
    "messages['month'] = pd.DatetimeIndex(messages['message_date']).month\n",
    "users['month_start'] = pd.DatetimeIndex(users['reg_date']).month"
   ]
  },
  {
   "cell_type": "markdown",
   "metadata": {},
   "source": [
    "Изменен тип данных в столбцах с датами, добавлены столбцы месяц и год в таблицы с датами."
   ]
  },
  {
   "cell_type": "markdown",
   "metadata": {},
   "source": [
    "### проанализировать данные на наличие аномалий и ошибок"
   ]
  },
  {
   "cell_type": "code",
   "execution_count": 18,
   "metadata": {},
   "outputs": [
    {
     "data": {
      "text/html": [
       "<div>\n",
       "<style scoped>\n",
       "    .dataframe tbody tr th:only-of-type {\n",
       "        vertical-align: middle;\n",
       "    }\n",
       "\n",
       "    .dataframe tbody tr th {\n",
       "        vertical-align: top;\n",
       "    }\n",
       "\n",
       "    .dataframe thead th {\n",
       "        text-align: right;\n",
       "    }\n",
       "</style>\n",
       "<table border=\"1\" class=\"dataframe\">\n",
       "  <thead>\n",
       "    <tr style=\"text-align: right;\">\n",
       "      <th></th>\n",
       "      <th>duration</th>\n",
       "      <th>user_id</th>\n",
       "      <th>year</th>\n",
       "      <th>month</th>\n",
       "    </tr>\n",
       "  </thead>\n",
       "  <tbody>\n",
       "    <tr>\n",
       "      <th>count</th>\n",
       "      <td>202,607.00</td>\n",
       "      <td>202,607.00</td>\n",
       "      <td>202,607.00</td>\n",
       "      <td>202,607.00</td>\n",
       "    </tr>\n",
       "    <tr>\n",
       "      <th>mean</th>\n",
       "      <td>6.76</td>\n",
       "      <td>1,253.94</td>\n",
       "      <td>2,018.00</td>\n",
       "      <td>8.57</td>\n",
       "    </tr>\n",
       "    <tr>\n",
       "      <th>std</th>\n",
       "      <td>5.84</td>\n",
       "      <td>144.72</td>\n",
       "      <td>0.00</td>\n",
       "      <td>2.79</td>\n",
       "    </tr>\n",
       "    <tr>\n",
       "      <th>min</th>\n",
       "      <td>0.00</td>\n",
       "      <td>1,000.00</td>\n",
       "      <td>2,018.00</td>\n",
       "      <td>1.00</td>\n",
       "    </tr>\n",
       "    <tr>\n",
       "      <th>25%</th>\n",
       "      <td>1.30</td>\n",
       "      <td>1,126.00</td>\n",
       "      <td>2,018.00</td>\n",
       "      <td>7.00</td>\n",
       "    </tr>\n",
       "    <tr>\n",
       "      <th>50%</th>\n",
       "      <td>6.00</td>\n",
       "      <td>1,260.00</td>\n",
       "      <td>2,018.00</td>\n",
       "      <td>9.00</td>\n",
       "    </tr>\n",
       "    <tr>\n",
       "      <th>75%</th>\n",
       "      <td>10.70</td>\n",
       "      <td>1,379.00</td>\n",
       "      <td>2,018.00</td>\n",
       "      <td>11.00</td>\n",
       "    </tr>\n",
       "    <tr>\n",
       "      <th>max</th>\n",
       "      <td>38.00</td>\n",
       "      <td>1,499.00</td>\n",
       "      <td>2,018.00</td>\n",
       "      <td>12.00</td>\n",
       "    </tr>\n",
       "  </tbody>\n",
       "</table>\n",
       "</div>"
      ],
      "text/plain": [
       "        duration    user_id       year      month\n",
       "count 202,607.00 202,607.00 202,607.00 202,607.00\n",
       "mean        6.76   1,253.94   2,018.00       8.57\n",
       "std         5.84     144.72       0.00       2.79\n",
       "min         0.00   1,000.00   2,018.00       1.00\n",
       "25%         1.30   1,126.00   2,018.00       7.00\n",
       "50%         6.00   1,260.00   2,018.00       9.00\n",
       "75%        10.70   1,379.00   2,018.00      11.00\n",
       "max        38.00   1,499.00   2,018.00      12.00"
      ]
     },
     "execution_count": 18,
     "metadata": {},
     "output_type": "execute_result"
    }
   ],
   "source": [
    "calls.describe()"
   ]
  },
  {
   "cell_type": "code",
   "execution_count": 19,
   "metadata": {},
   "outputs": [
    {
     "data": {
      "text/html": [
       "<div>\n",
       "<style scoped>\n",
       "    .dataframe tbody tr th:only-of-type {\n",
       "        vertical-align: middle;\n",
       "    }\n",
       "\n",
       "    .dataframe tbody tr th {\n",
       "        vertical-align: top;\n",
       "    }\n",
       "\n",
       "    .dataframe thead th {\n",
       "        text-align: right;\n",
       "    }\n",
       "</style>\n",
       "<table border=\"1\" class=\"dataframe\">\n",
       "  <thead>\n",
       "    <tr style=\"text-align: right;\">\n",
       "      <th></th>\n",
       "      <th>mb_used</th>\n",
       "      <th>user_id</th>\n",
       "      <th>year</th>\n",
       "      <th>month</th>\n",
       "    </tr>\n",
       "  </thead>\n",
       "  <tbody>\n",
       "    <tr>\n",
       "      <th>count</th>\n",
       "      <td>149,396.00</td>\n",
       "      <td>149,396.00</td>\n",
       "      <td>149,396.00</td>\n",
       "      <td>149,396.00</td>\n",
       "    </tr>\n",
       "    <tr>\n",
       "      <th>mean</th>\n",
       "      <td>370.19</td>\n",
       "      <td>1,252.10</td>\n",
       "      <td>2,018.00</td>\n",
       "      <td>8.56</td>\n",
       "    </tr>\n",
       "    <tr>\n",
       "      <th>std</th>\n",
       "      <td>278.30</td>\n",
       "      <td>144.05</td>\n",
       "      <td>0.00</td>\n",
       "      <td>2.79</td>\n",
       "    </tr>\n",
       "    <tr>\n",
       "      <th>min</th>\n",
       "      <td>0.00</td>\n",
       "      <td>1,000.00</td>\n",
       "      <td>2,018.00</td>\n",
       "      <td>1.00</td>\n",
       "    </tr>\n",
       "    <tr>\n",
       "      <th>25%</th>\n",
       "      <td>138.19</td>\n",
       "      <td>1,130.00</td>\n",
       "      <td>2,018.00</td>\n",
       "      <td>7.00</td>\n",
       "    </tr>\n",
       "    <tr>\n",
       "      <th>50%</th>\n",
       "      <td>348.01</td>\n",
       "      <td>1,251.00</td>\n",
       "      <td>2,018.00</td>\n",
       "      <td>9.00</td>\n",
       "    </tr>\n",
       "    <tr>\n",
       "      <th>75%</th>\n",
       "      <td>559.55</td>\n",
       "      <td>1,380.00</td>\n",
       "      <td>2,018.00</td>\n",
       "      <td>11.00</td>\n",
       "    </tr>\n",
       "    <tr>\n",
       "      <th>max</th>\n",
       "      <td>1,724.83</td>\n",
       "      <td>1,499.00</td>\n",
       "      <td>2,018.00</td>\n",
       "      <td>12.00</td>\n",
       "    </tr>\n",
       "  </tbody>\n",
       "</table>\n",
       "</div>"
      ],
      "text/plain": [
       "         mb_used    user_id       year      month\n",
       "count 149,396.00 149,396.00 149,396.00 149,396.00\n",
       "mean      370.19   1,252.10   2,018.00       8.56\n",
       "std       278.30     144.05       0.00       2.79\n",
       "min         0.00   1,000.00   2,018.00       1.00\n",
       "25%       138.19   1,130.00   2,018.00       7.00\n",
       "50%       348.01   1,251.00   2,018.00       9.00\n",
       "75%       559.55   1,380.00   2,018.00      11.00\n",
       "max     1,724.83   1,499.00   2,018.00      12.00"
      ]
     },
     "execution_count": 19,
     "metadata": {},
     "output_type": "execute_result"
    }
   ],
   "source": [
    "internet.describe()"
   ]
  },
  {
   "cell_type": "code",
   "execution_count": 20,
   "metadata": {},
   "outputs": [
    {
     "data": {
      "text/html": [
       "<div>\n",
       "<style scoped>\n",
       "    .dataframe tbody tr th:only-of-type {\n",
       "        vertical-align: middle;\n",
       "    }\n",
       "\n",
       "    .dataframe tbody tr th {\n",
       "        vertical-align: top;\n",
       "    }\n",
       "\n",
       "    .dataframe thead th {\n",
       "        text-align: right;\n",
       "    }\n",
       "</style>\n",
       "<table border=\"1\" class=\"dataframe\">\n",
       "  <thead>\n",
       "    <tr style=\"text-align: right;\">\n",
       "      <th></th>\n",
       "      <th>user_id</th>\n",
       "      <th>year</th>\n",
       "      <th>month</th>\n",
       "    </tr>\n",
       "  </thead>\n",
       "  <tbody>\n",
       "    <tr>\n",
       "      <th>count</th>\n",
       "      <td>123,036.00</td>\n",
       "      <td>123,036.00</td>\n",
       "      <td>123,036.00</td>\n",
       "    </tr>\n",
       "    <tr>\n",
       "      <th>mean</th>\n",
       "      <td>1,256.99</td>\n",
       "      <td>2,018.00</td>\n",
       "      <td>8.63</td>\n",
       "    </tr>\n",
       "    <tr>\n",
       "      <th>std</th>\n",
       "      <td>143.52</td>\n",
       "      <td>0.00</td>\n",
       "      <td>2.75</td>\n",
       "    </tr>\n",
       "    <tr>\n",
       "      <th>min</th>\n",
       "      <td>1,000.00</td>\n",
       "      <td>2,018.00</td>\n",
       "      <td>1.00</td>\n",
       "    </tr>\n",
       "    <tr>\n",
       "      <th>25%</th>\n",
       "      <td>1,134.00</td>\n",
       "      <td>2,018.00</td>\n",
       "      <td>7.00</td>\n",
       "    </tr>\n",
       "    <tr>\n",
       "      <th>50%</th>\n",
       "      <td>1,271.00</td>\n",
       "      <td>2,018.00</td>\n",
       "      <td>9.00</td>\n",
       "    </tr>\n",
       "    <tr>\n",
       "      <th>75%</th>\n",
       "      <td>1,381.00</td>\n",
       "      <td>2,018.00</td>\n",
       "      <td>11.00</td>\n",
       "    </tr>\n",
       "    <tr>\n",
       "      <th>max</th>\n",
       "      <td>1,499.00</td>\n",
       "      <td>2,018.00</td>\n",
       "      <td>12.00</td>\n",
       "    </tr>\n",
       "  </tbody>\n",
       "</table>\n",
       "</div>"
      ],
      "text/plain": [
       "         user_id       year      month\n",
       "count 123,036.00 123,036.00 123,036.00\n",
       "mean    1,256.99   2,018.00       8.63\n",
       "std       143.52       0.00       2.75\n",
       "min     1,000.00   2,018.00       1.00\n",
       "25%     1,134.00   2,018.00       7.00\n",
       "50%     1,271.00   2,018.00       9.00\n",
       "75%     1,381.00   2,018.00      11.00\n",
       "max     1,499.00   2,018.00      12.00"
      ]
     },
     "execution_count": 20,
     "metadata": {},
     "output_type": "execute_result"
    }
   ],
   "source": [
    "messages.describe()"
   ]
  },
  {
   "cell_type": "code",
   "execution_count": 21,
   "metadata": {},
   "outputs": [
    {
     "data": {
      "text/html": [
       "<div>\n",
       "<style scoped>\n",
       "    .dataframe tbody tr th:only-of-type {\n",
       "        vertical-align: middle;\n",
       "    }\n",
       "\n",
       "    .dataframe tbody tr th {\n",
       "        vertical-align: top;\n",
       "    }\n",
       "\n",
       "    .dataframe thead th {\n",
       "        text-align: right;\n",
       "    }\n",
       "</style>\n",
       "<table border=\"1\" class=\"dataframe\">\n",
       "  <thead>\n",
       "    <tr style=\"text-align: right;\">\n",
       "      <th></th>\n",
       "      <th>user_id</th>\n",
       "      <th>age</th>\n",
       "      <th>year_start</th>\n",
       "      <th>month_start</th>\n",
       "    </tr>\n",
       "  </thead>\n",
       "  <tbody>\n",
       "    <tr>\n",
       "      <th>count</th>\n",
       "      <td>500.00</td>\n",
       "      <td>500.00</td>\n",
       "      <td>500.00</td>\n",
       "      <td>500.00</td>\n",
       "    </tr>\n",
       "    <tr>\n",
       "      <th>mean</th>\n",
       "      <td>1,249.50</td>\n",
       "      <td>46.59</td>\n",
       "      <td>2,018.00</td>\n",
       "      <td>6.48</td>\n",
       "    </tr>\n",
       "    <tr>\n",
       "      <th>std</th>\n",
       "      <td>144.48</td>\n",
       "      <td>16.67</td>\n",
       "      <td>0.00</td>\n",
       "      <td>3.39</td>\n",
       "    </tr>\n",
       "    <tr>\n",
       "      <th>min</th>\n",
       "      <td>1,000.00</td>\n",
       "      <td>18.00</td>\n",
       "      <td>2,018.00</td>\n",
       "      <td>1.00</td>\n",
       "    </tr>\n",
       "    <tr>\n",
       "      <th>25%</th>\n",
       "      <td>1,124.75</td>\n",
       "      <td>32.00</td>\n",
       "      <td>2,018.00</td>\n",
       "      <td>4.00</td>\n",
       "    </tr>\n",
       "    <tr>\n",
       "      <th>50%</th>\n",
       "      <td>1,249.50</td>\n",
       "      <td>46.00</td>\n",
       "      <td>2,018.00</td>\n",
       "      <td>7.00</td>\n",
       "    </tr>\n",
       "    <tr>\n",
       "      <th>75%</th>\n",
       "      <td>1,374.25</td>\n",
       "      <td>62.00</td>\n",
       "      <td>2,018.00</td>\n",
       "      <td>9.00</td>\n",
       "    </tr>\n",
       "    <tr>\n",
       "      <th>max</th>\n",
       "      <td>1,499.00</td>\n",
       "      <td>75.00</td>\n",
       "      <td>2,018.00</td>\n",
       "      <td>12.00</td>\n",
       "    </tr>\n",
       "  </tbody>\n",
       "</table>\n",
       "</div>"
      ],
      "text/plain": [
       "       user_id    age  year_start  month_start\n",
       "count   500.00 500.00      500.00       500.00\n",
       "mean  1,249.50  46.59    2,018.00         6.48\n",
       "std     144.48  16.67        0.00         3.39\n",
       "min   1,000.00  18.00    2,018.00         1.00\n",
       "25%   1,124.75  32.00    2,018.00         4.00\n",
       "50%   1,249.50  46.00    2,018.00         7.00\n",
       "75%   1,374.25  62.00    2,018.00         9.00\n",
       "max   1,499.00  75.00    2,018.00        12.00"
      ]
     },
     "execution_count": 21,
     "metadata": {},
     "output_type": "execute_result"
    }
   ],
   "source": [
    "users.describe()"
   ]
  },
  {
   "cell_type": "code",
   "execution_count": 22,
   "metadata": {},
   "outputs": [
    {
     "data": {
      "image/png": "[encoded data removed]",
      "text/plain": [
       "<Figure size 432x288 with 1 Axes>"
      ]
     },
     "metadata": {
      "needs_background": "light"
     },
     "output_type": "display_data"
    }
   ],
   "source": [
    "# Построим гистограмму продолжительности звонков\n",
    "calls['duration'].hist()\n",
    "plt.title(f'Гистограмма продолжительности звонков')\n",
    "plt.xlabel(f'Продолжительность звонков')\n",
    "plt.ylabel('Частота')\n",
    "plt.show()"
   ]
  },
  {
   "cell_type": "markdown",
   "metadata": {},
   "source": [
    "Достаточно большое количество звонков , продолжительностью 0, рассчитаем долю таких звонков "
   ]
  },
  {
   "cell_type": "code",
   "execution_count": 23,
   "metadata": {},
   "outputs": [
    {
     "name": "stdout",
     "output_type": "stream",
     "text": [
      "Доля звонков, продолжительность которых равна нулю 19.55%\n"
     ]
    }
   ],
   "source": [
    "print('Доля звонков, продолжительность которых равна нулю {0:.2%}'.format(calls.query('duration == 0').shape[0] \\\n",
    "                                                                          / calls.shape[0]))"
   ]
  },
  {
   "cell_type": "markdown",
   "metadata": {},
   "source": [
    "Согласно пояснениям к данным : Звонки с нулевой продолжительностью. Это не ошибка: нулями обозначены пропущенные звонки, поэтому их не нужно удалять."
   ]
  },
  {
   "cell_type": "code",
   "execution_count": 24,
   "metadata": {},
   "outputs": [
    {
     "data": {
      "image/png": "[encoded data removed]",
      "text/plain": [
       "<Figure size 432x288 with 1 Axes>"
      ]
     },
     "metadata": {
      "needs_background": "light"
     },
     "output_type": "display_data"
    }
   ],
   "source": [
    "# Построим гистограмму трафика\n",
    "internet['mb_used'].hist()\n",
    "plt.title(f'Гистограмма трафика')\n",
    "plt.xlabel(f'Трафик')\n",
    "plt.ylabel('Частота')\n",
    "plt.show()"
   ]
  },
  {
   "cell_type": "code",
   "execution_count": 25,
   "metadata": {},
   "outputs": [
    {
     "name": "stdout",
     "output_type": "stream",
     "text": [
      "Трафик, продолжительность которого равна нулю 13.12%\n"
     ]
    }
   ],
   "source": [
    "print('Трафик, продолжительность которого равна нулю {0:.2%}'.format(internet.query('mb_used == 0').shape[0] \\\n",
    "                                                                          / internet.shape[0]))"
   ]
  },
  {
   "cell_type": "markdown",
   "metadata": {},
   "source": [
    "Скорее всего трафик равен нулю в ситуации, когда интернет у абонента подключен, но не было никакой онлайн активности. Данные менять не будем, считаем, что трафик ноль это корректно."
   ]
  },
  {
   "cell_type": "markdown",
   "metadata": {},
   "source": [
    "**Выводы**:  \n",
    "\n",
    "Аномалий, неожиданных данных и ошибок при первоначальном просмотре статистик не обнаружено. Возникли вопросы по :  \n",
    "\n",
    "1. В данных по звонкам 19,6% это звонки, продолжительность которых равно нулю. согласно информации к данным: 'Звонки с нулевой продолжительностью. Это не ошибка: нулями обозначены пропущенные звонки, поэтому их не нужно удалять'. Возникает вопрос нужно ди разделять звонки на входящие/исходящие и при расчете тарифа учитывать только исходящие. В текущих данных информации нет. \n",
    "\n",
    "2. В данных по трафику 13% это сессии, продолжительность которых равна нулю. Предположим, что это ситуации, когда интернет у абонента подключен, но не было никакой онлайн активности. Данные менять не будем, считаем, что трафик ноль это корректно. Данный момент так же при возможности необходимо уточнить у источника данных."
   ]
  },
  {
   "cell_type": "markdown",
   "metadata": {},
   "source": [
    "### Группировка таблиц и объединение"
   ]
  },
  {
   "cell_type": "markdown",
   "metadata": {},
   "source": [
    "Сгруппируем таблицы (звонки,трафик,сообщения) по пользователю и месяцу и объединим в единую таблицу с таблицей информации о пользователях для удобства работы.     "
   ]
  },
  {
   "cell_type": "code",
   "execution_count": 26,
   "metadata": {},
   "outputs": [
    {
     "data": {
      "text/html": [
       "<div>\n",
       "<style scoped>\n",
       "    .dataframe tbody tr th:only-of-type {\n",
       "        vertical-align: middle;\n",
       "    }\n",
       "\n",
       "    .dataframe tbody tr th {\n",
       "        vertical-align: top;\n",
       "    }\n",
       "\n",
       "    .dataframe thead th {\n",
       "        text-align: right;\n",
       "    }\n",
       "</style>\n",
       "<table border=\"1\" class=\"dataframe\">\n",
       "  <thead>\n",
       "    <tr style=\"text-align: right;\">\n",
       "      <th></th>\n",
       "      <th>id</th>\n",
       "      <th>call_date</th>\n",
       "      <th>duration</th>\n",
       "      <th>user_id</th>\n",
       "      <th>year</th>\n",
       "      <th>month</th>\n",
       "      <th>duration_int</th>\n",
       "    </tr>\n",
       "  </thead>\n",
       "  <tbody>\n",
       "    <tr>\n",
       "      <th>0</th>\n",
       "      <td>1000_0</td>\n",
       "      <td>2018-07-25</td>\n",
       "      <td>0.00</td>\n",
       "      <td>1000</td>\n",
       "      <td>2018</td>\n",
       "      <td>7</td>\n",
       "      <td>0.00</td>\n",
       "    </tr>\n",
       "    <tr>\n",
       "      <th>1</th>\n",
       "      <td>1000_1</td>\n",
       "      <td>2018-08-17</td>\n",
       "      <td>0.00</td>\n",
       "      <td>1000</td>\n",
       "      <td>2018</td>\n",
       "      <td>8</td>\n",
       "      <td>0.00</td>\n",
       "    </tr>\n",
       "    <tr>\n",
       "      <th>2</th>\n",
       "      <td>1000_2</td>\n",
       "      <td>2018-06-11</td>\n",
       "      <td>2.85</td>\n",
       "      <td>1000</td>\n",
       "      <td>2018</td>\n",
       "      <td>6</td>\n",
       "      <td>3.00</td>\n",
       "    </tr>\n",
       "    <tr>\n",
       "      <th>3</th>\n",
       "      <td>1000_3</td>\n",
       "      <td>2018-09-21</td>\n",
       "      <td>13.80</td>\n",
       "      <td>1000</td>\n",
       "      <td>2018</td>\n",
       "      <td>9</td>\n",
       "      <td>14.00</td>\n",
       "    </tr>\n",
       "    <tr>\n",
       "      <th>4</th>\n",
       "      <td>1000_4</td>\n",
       "      <td>2018-12-15</td>\n",
       "      <td>5.18</td>\n",
       "      <td>1000</td>\n",
       "      <td>2018</td>\n",
       "      <td>12</td>\n",
       "      <td>6.00</td>\n",
       "    </tr>\n",
       "  </tbody>\n",
       "</table>\n",
       "</div>"
      ],
      "text/plain": [
       "       id  call_date  duration  user_id  year  month  duration_int\n",
       "0  1000_0 2018-07-25      0.00     1000  2018      7          0.00\n",
       "1  1000_1 2018-08-17      0.00     1000  2018      8          0.00\n",
       "2  1000_2 2018-06-11      2.85     1000  2018      6          3.00\n",
       "3  1000_3 2018-09-21     13.80     1000  2018      9         14.00\n",
       "4  1000_4 2018-12-15      5.18     1000  2018     12          6.00"
      ]
     },
     "execution_count": 26,
     "metadata": {},
     "output_type": "execute_result"
    }
   ],
   "source": [
    "# Создадим в calls столбец , с округленной в большую сторону продолжительностью звонка\n",
    "calls['duration_int'] = np.ceil(calls['duration'])\n",
    "calls.head()"
   ]
  },
  {
   "cell_type": "code",
   "execution_count": 27,
   "metadata": {},
   "outputs": [
    {
     "data": {
      "text/html": [
       "<div>\n",
       "<style scoped>\n",
       "    .dataframe tbody tr th:only-of-type {\n",
       "        vertical-align: middle;\n",
       "    }\n",
       "\n",
       "    .dataframe tbody tr th {\n",
       "        vertical-align: top;\n",
       "    }\n",
       "\n",
       "    .dataframe thead th {\n",
       "        text-align: right;\n",
       "    }\n",
       "</style>\n",
       "<table border=\"1\" class=\"dataframe\">\n",
       "  <thead>\n",
       "    <tr style=\"text-align: right;\">\n",
       "      <th></th>\n",
       "      <th>user_id</th>\n",
       "      <th>month</th>\n",
       "      <th>calls_count</th>\n",
       "      <th>calls_sum</th>\n",
       "    </tr>\n",
       "  </thead>\n",
       "  <tbody>\n",
       "    <tr>\n",
       "      <th>0</th>\n",
       "      <td>1000</td>\n",
       "      <td>5</td>\n",
       "      <td>22</td>\n",
       "      <td>159.00</td>\n",
       "    </tr>\n",
       "    <tr>\n",
       "      <th>1</th>\n",
       "      <td>1000</td>\n",
       "      <td>6</td>\n",
       "      <td>43</td>\n",
       "      <td>172.00</td>\n",
       "    </tr>\n",
       "    <tr>\n",
       "      <th>2</th>\n",
       "      <td>1000</td>\n",
       "      <td>7</td>\n",
       "      <td>47</td>\n",
       "      <td>340.00</td>\n",
       "    </tr>\n",
       "    <tr>\n",
       "      <th>3</th>\n",
       "      <td>1000</td>\n",
       "      <td>8</td>\n",
       "      <td>52</td>\n",
       "      <td>408.00</td>\n",
       "    </tr>\n",
       "    <tr>\n",
       "      <th>4</th>\n",
       "      <td>1000</td>\n",
       "      <td>9</td>\n",
       "      <td>58</td>\n",
       "      <td>466.00</td>\n",
       "    </tr>\n",
       "    <tr>\n",
       "      <th>...</th>\n",
       "      <td>...</td>\n",
       "      <td>...</td>\n",
       "      <td>...</td>\n",
       "      <td>...</td>\n",
       "    </tr>\n",
       "    <tr>\n",
       "      <th>3169</th>\n",
       "      <td>1498</td>\n",
       "      <td>10</td>\n",
       "      <td>41</td>\n",
       "      <td>247.00</td>\n",
       "    </tr>\n",
       "    <tr>\n",
       "      <th>3170</th>\n",
       "      <td>1499</td>\n",
       "      <td>9</td>\n",
       "      <td>9</td>\n",
       "      <td>70.00</td>\n",
       "    </tr>\n",
       "    <tr>\n",
       "      <th>3171</th>\n",
       "      <td>1499</td>\n",
       "      <td>10</td>\n",
       "      <td>68</td>\n",
       "      <td>449.00</td>\n",
       "    </tr>\n",
       "    <tr>\n",
       "      <th>3172</th>\n",
       "      <td>1499</td>\n",
       "      <td>11</td>\n",
       "      <td>74</td>\n",
       "      <td>612.00</td>\n",
       "    </tr>\n",
       "    <tr>\n",
       "      <th>3173</th>\n",
       "      <td>1499</td>\n",
       "      <td>12</td>\n",
       "      <td>69</td>\n",
       "      <td>492.00</td>\n",
       "    </tr>\n",
       "  </tbody>\n",
       "</table>\n",
       "<p>3174 rows × 4 columns</p>\n",
       "</div>"
      ],
      "text/plain": [
       "      user_id  month  calls_count  calls_sum\n",
       "0        1000      5           22     159.00\n",
       "1        1000      6           43     172.00\n",
       "2        1000      7           47     340.00\n",
       "3        1000      8           52     408.00\n",
       "4        1000      9           58     466.00\n",
       "...       ...    ...          ...        ...\n",
       "3169     1498     10           41     247.00\n",
       "3170     1499      9            9      70.00\n",
       "3171     1499     10           68     449.00\n",
       "3172     1499     11           74     612.00\n",
       "3173     1499     12           69     492.00\n",
       "\n",
       "[3174 rows x 4 columns]"
      ]
     },
     "execution_count": 27,
     "metadata": {},
     "output_type": "execute_result"
    }
   ],
   "source": [
    "# Рассчитаем для каждого пользовател количество сделанных звонков и израсходованных минут разговора по месяцам;\n",
    "calls_month = calls.groupby(['user_id','month'],as_index=True)['duration_int'].agg(['count',sum])\n",
    "calls_month.reset_index(inplace=True)\n",
    "calls_month.rename(columns={'count':'calls_count','sum':'calls_sum'},inplace=True)\n",
    "calls_month"
   ]
  },
  {
   "cell_type": "code",
   "execution_count": 28,
   "metadata": {},
   "outputs": [
    {
     "data": {
      "text/html": [
       "<div>\n",
       "<style scoped>\n",
       "    .dataframe tbody tr th:only-of-type {\n",
       "        vertical-align: middle;\n",
       "    }\n",
       "\n",
       "    .dataframe tbody tr th {\n",
       "        vertical-align: top;\n",
       "    }\n",
       "\n",
       "    .dataframe thead th {\n",
       "        text-align: right;\n",
       "    }\n",
       "</style>\n",
       "<table border=\"1\" class=\"dataframe\">\n",
       "  <thead>\n",
       "    <tr style=\"text-align: right;\">\n",
       "      <th></th>\n",
       "      <th>user_id</th>\n",
       "      <th>month</th>\n",
       "      <th>messages_count</th>\n",
       "    </tr>\n",
       "  </thead>\n",
       "  <tbody>\n",
       "    <tr>\n",
       "      <th>0</th>\n",
       "      <td>1000</td>\n",
       "      <td>5</td>\n",
       "      <td>22</td>\n",
       "    </tr>\n",
       "    <tr>\n",
       "      <th>1</th>\n",
       "      <td>1000</td>\n",
       "      <td>6</td>\n",
       "      <td>60</td>\n",
       "    </tr>\n",
       "    <tr>\n",
       "      <th>2</th>\n",
       "      <td>1000</td>\n",
       "      <td>7</td>\n",
       "      <td>75</td>\n",
       "    </tr>\n",
       "    <tr>\n",
       "      <th>3</th>\n",
       "      <td>1000</td>\n",
       "      <td>8</td>\n",
       "      <td>81</td>\n",
       "    </tr>\n",
       "    <tr>\n",
       "      <th>4</th>\n",
       "      <td>1000</td>\n",
       "      <td>9</td>\n",
       "      <td>57</td>\n",
       "    </tr>\n",
       "    <tr>\n",
       "      <th>...</th>\n",
       "      <td>...</td>\n",
       "      <td>...</td>\n",
       "      <td>...</td>\n",
       "    </tr>\n",
       "    <tr>\n",
       "      <th>2712</th>\n",
       "      <td>1498</td>\n",
       "      <td>10</td>\n",
       "      <td>42</td>\n",
       "    </tr>\n",
       "    <tr>\n",
       "      <th>2713</th>\n",
       "      <td>1499</td>\n",
       "      <td>9</td>\n",
       "      <td>11</td>\n",
       "    </tr>\n",
       "    <tr>\n",
       "      <th>2714</th>\n",
       "      <td>1499</td>\n",
       "      <td>10</td>\n",
       "      <td>48</td>\n",
       "    </tr>\n",
       "    <tr>\n",
       "      <th>2715</th>\n",
       "      <td>1499</td>\n",
       "      <td>11</td>\n",
       "      <td>59</td>\n",
       "    </tr>\n",
       "    <tr>\n",
       "      <th>2716</th>\n",
       "      <td>1499</td>\n",
       "      <td>12</td>\n",
       "      <td>66</td>\n",
       "    </tr>\n",
       "  </tbody>\n",
       "</table>\n",
       "<p>2717 rows × 3 columns</p>\n",
       "</div>"
      ],
      "text/plain": [
       "      user_id  month  messages_count\n",
       "0        1000      5              22\n",
       "1        1000      6              60\n",
       "2        1000      7              75\n",
       "3        1000      8              81\n",
       "4        1000      9              57\n",
       "...       ...    ...             ...\n",
       "2712     1498     10              42\n",
       "2713     1499      9              11\n",
       "2714     1499     10              48\n",
       "2715     1499     11              59\n",
       "2716     1499     12              66\n",
       "\n",
       "[2717 rows x 3 columns]"
      ]
     },
     "execution_count": 28,
     "metadata": {},
     "output_type": "execute_result"
    }
   ],
   "source": [
    "# Рассчитаем для каждого пользовател количество отправленных сообщений по месяцам\n",
    "messages_month = messages.groupby(['user_id','month'],as_index=True)['id'].agg(['count',])\n",
    "messages_month.reset_index(inplace=True)\n",
    "messages_month.rename(columns={'count':'messages_count'},inplace=True)\n",
    "messages_month"
   ]
  },
  {
   "cell_type": "code",
   "execution_count": 29,
   "metadata": {},
   "outputs": [
    {
     "data": {
      "text/html": [
       "<div>\n",
       "<style scoped>\n",
       "    .dataframe tbody tr th:only-of-type {\n",
       "        vertical-align: middle;\n",
       "    }\n",
       "\n",
       "    .dataframe tbody tr th {\n",
       "        vertical-align: top;\n",
       "    }\n",
       "\n",
       "    .dataframe thead th {\n",
       "        text-align: right;\n",
       "    }\n",
       "</style>\n",
       "<table border=\"1\" class=\"dataframe\">\n",
       "  <thead>\n",
       "    <tr style=\"text-align: right;\">\n",
       "      <th></th>\n",
       "      <th>user_id</th>\n",
       "      <th>month</th>\n",
       "      <th>internet_sum</th>\n",
       "    </tr>\n",
       "  </thead>\n",
       "  <tbody>\n",
       "    <tr>\n",
       "      <th>0</th>\n",
       "      <td>1000</td>\n",
       "      <td>5</td>\n",
       "      <td>2,253.49</td>\n",
       "    </tr>\n",
       "    <tr>\n",
       "      <th>1</th>\n",
       "      <td>1000</td>\n",
       "      <td>6</td>\n",
       "      <td>23,233.77</td>\n",
       "    </tr>\n",
       "    <tr>\n",
       "      <th>2</th>\n",
       "      <td>1000</td>\n",
       "      <td>7</td>\n",
       "      <td>14,003.64</td>\n",
       "    </tr>\n",
       "    <tr>\n",
       "      <th>3</th>\n",
       "      <td>1000</td>\n",
       "      <td>8</td>\n",
       "      <td>14,055.93</td>\n",
       "    </tr>\n",
       "    <tr>\n",
       "      <th>4</th>\n",
       "      <td>1000</td>\n",
       "      <td>9</td>\n",
       "      <td>14,568.91</td>\n",
       "    </tr>\n",
       "    <tr>\n",
       "      <th>...</th>\n",
       "      <td>...</td>\n",
       "      <td>...</td>\n",
       "      <td>...</td>\n",
       "    </tr>\n",
       "    <tr>\n",
       "      <th>3198</th>\n",
       "      <td>1498</td>\n",
       "      <td>10</td>\n",
       "      <td>20,579.36</td>\n",
       "    </tr>\n",
       "    <tr>\n",
       "      <th>3199</th>\n",
       "      <td>1499</td>\n",
       "      <td>9</td>\n",
       "      <td>1,845.75</td>\n",
       "    </tr>\n",
       "    <tr>\n",
       "      <th>3200</th>\n",
       "      <td>1499</td>\n",
       "      <td>10</td>\n",
       "      <td>17,788.51</td>\n",
       "    </tr>\n",
       "    <tr>\n",
       "      <th>3201</th>\n",
       "      <td>1499</td>\n",
       "      <td>11</td>\n",
       "      <td>17,963.31</td>\n",
       "    </tr>\n",
       "    <tr>\n",
       "      <th>3202</th>\n",
       "      <td>1499</td>\n",
       "      <td>12</td>\n",
       "      <td>13,055.58</td>\n",
       "    </tr>\n",
       "  </tbody>\n",
       "</table>\n",
       "<p>3203 rows × 3 columns</p>\n",
       "</div>"
      ],
      "text/plain": [
       "      user_id  month  internet_sum\n",
       "0        1000      5      2,253.49\n",
       "1        1000      6     23,233.77\n",
       "2        1000      7     14,003.64\n",
       "3        1000      8     14,055.93\n",
       "4        1000      9     14,568.91\n",
       "...       ...    ...           ...\n",
       "3198     1498     10     20,579.36\n",
       "3199     1499      9      1,845.75\n",
       "3200     1499     10     17,788.51\n",
       "3201     1499     11     17,963.31\n",
       "3202     1499     12     13,055.58\n",
       "\n",
       "[3203 rows x 3 columns]"
      ]
     },
     "execution_count": 29,
     "metadata": {},
     "output_type": "execute_result"
    }
   ],
   "source": [
    "# Рассчитаем для каждого пользовател объем израсходованного интернет-трафика по месяцам\n",
    "internet_month = internet.groupby(['user_id','month'],as_index=True)['mb_used'].agg([sum,])\n",
    "internet_month.reset_index(inplace=True)\n",
    "internet_month.rename(columns={'sum':'internet_sum'},inplace=True)\n",
    "internet_month"
   ]
  },
  {
   "cell_type": "code",
   "execution_count": 30,
   "metadata": {},
   "outputs": [],
   "source": [
    "# Объединим данные по звонкам с данными по трафику в таблицу расходы\n",
    "expenses = calls_month.merge(internet_month,on=['user_id','month'],how='outer')"
   ]
  },
  {
   "cell_type": "code",
   "execution_count": 31,
   "metadata": {},
   "outputs": [],
   "source": [
    "# Добавим данные по сообщениям\n",
    "expenses = expenses.merge(messages_month,on=['user_id','month'],how='outer')"
   ]
  },
  {
   "cell_type": "code",
   "execution_count": 32,
   "metadata": {},
   "outputs": [
    {
     "data": {
      "text/plain": [
       "user_id             0\n",
       "month               0\n",
       "calls_count        40\n",
       "calls_sum          40\n",
       "internet_sum       11\n",
       "messages_count    497\n",
       "dtype: int64"
      ]
     },
     "execution_count": 32,
     "metadata": {},
     "output_type": "execute_result"
    }
   ],
   "source": [
    "# Проверим наличие незаполненных ячеек\n",
    "expenses.isna().sum()"
   ]
  },
  {
   "cell_type": "code",
   "execution_count": 33,
   "metadata": {},
   "outputs": [],
   "source": [
    "# Заполним пропущенные значения нулями\n",
    "expenses.fillna(0,inplace=True)"
   ]
  },
  {
   "cell_type": "code",
   "execution_count": 34,
   "metadata": {},
   "outputs": [
    {
     "data": {
      "text/plain": [
       "user_id           0\n",
       "month             0\n",
       "calls_count       0\n",
       "calls_sum         0\n",
       "internet_sum      0\n",
       "messages_count    0\n",
       "dtype: int64"
      ]
     },
     "execution_count": 34,
     "metadata": {},
     "output_type": "execute_result"
    }
   ],
   "source": [
    "# Проверим наличие незаполненных ячеек\n",
    "expenses.isna().sum()"
   ]
  },
  {
   "cell_type": "code",
   "execution_count": 35,
   "metadata": {},
   "outputs": [],
   "source": [
    "# Объединим данные по расходам с таблицей пользователей\n",
    "users_full = users.merge(expenses,on='user_id',how='outer')"
   ]
  },
  {
   "cell_type": "code",
   "execution_count": 36,
   "metadata": {
    "scrolled": true
   },
   "outputs": [
    {
     "data": {
      "text/plain": [
       "user_id              0\n",
       "age                  0\n",
       "churn_date        3027\n",
       "city                 0\n",
       "first_name           0\n",
       "last_name            0\n",
       "reg_date             0\n",
       "tariff               0\n",
       "year_start           0\n",
       "month_start          0\n",
       "month                2\n",
       "calls_count          2\n",
       "calls_sum            2\n",
       "internet_sum         2\n",
       "messages_count       2\n",
       "dtype: int64"
      ]
     },
     "execution_count": 36,
     "metadata": {},
     "output_type": "execute_result"
    }
   ],
   "source": [
    "# Проверим наличие незаполненных ячеек\n",
    "users_full.isna().sum()"
   ]
  },
  {
   "cell_type": "code",
   "execution_count": 37,
   "metadata": {},
   "outputs": [],
   "source": [
    "# Заполним пропущенные значения нулями\n",
    "na_list =['month','calls_count','calls_sum','internet_sum','messages_count']\n",
    "for i in na_list:\n",
    "    users_full[i].fillna(0,inplace=True)"
   ]
  },
  {
   "cell_type": "code",
   "execution_count": 38,
   "metadata": {},
   "outputs": [
    {
     "data": {
      "text/plain": [
       "user_id              0\n",
       "age                  0\n",
       "churn_date        3027\n",
       "city                 0\n",
       "first_name           0\n",
       "last_name            0\n",
       "reg_date             0\n",
       "tariff               0\n",
       "year_start           0\n",
       "month_start          0\n",
       "month                0\n",
       "calls_count          0\n",
       "calls_sum            0\n",
       "internet_sum         0\n",
       "messages_count       0\n",
       "dtype: int64"
      ]
     },
     "execution_count": 38,
     "metadata": {},
     "output_type": "execute_result"
    }
   ],
   "source": [
    "users_full.isna().sum()"
   ]
  },
  {
   "cell_type": "code",
   "execution_count": 39,
   "metadata": {},
   "outputs": [
    {
     "data": {
      "text/html": [
       "<div>\n",
       "<style scoped>\n",
       "    .dataframe tbody tr th:only-of-type {\n",
       "        vertical-align: middle;\n",
       "    }\n",
       "\n",
       "    .dataframe tbody tr th {\n",
       "        vertical-align: top;\n",
       "    }\n",
       "\n",
       "    .dataframe thead th {\n",
       "        text-align: right;\n",
       "    }\n",
       "</style>\n",
       "<table border=\"1\" class=\"dataframe\">\n",
       "  <thead>\n",
       "    <tr style=\"text-align: right;\">\n",
       "      <th></th>\n",
       "      <th>user_id</th>\n",
       "      <th>age</th>\n",
       "      <th>churn_date</th>\n",
       "      <th>city</th>\n",
       "      <th>first_name</th>\n",
       "      <th>last_name</th>\n",
       "      <th>reg_date</th>\n",
       "      <th>tariff</th>\n",
       "      <th>year_start</th>\n",
       "      <th>month_start</th>\n",
       "      <th>month</th>\n",
       "      <th>calls_count</th>\n",
       "      <th>calls_sum</th>\n",
       "      <th>internet_sum</th>\n",
       "      <th>messages_count</th>\n",
       "    </tr>\n",
       "  </thead>\n",
       "  <tbody>\n",
       "    <tr>\n",
       "      <th>0</th>\n",
       "      <td>1000</td>\n",
       "      <td>52</td>\n",
       "      <td>NaN</td>\n",
       "      <td>Краснодар</td>\n",
       "      <td>Рафаил</td>\n",
       "      <td>Верещагин</td>\n",
       "      <td>2018-05-25</td>\n",
       "      <td>ultra</td>\n",
       "      <td>2018</td>\n",
       "      <td>5</td>\n",
       "      <td>5.00</td>\n",
       "      <td>22.00</td>\n",
       "      <td>159.00</td>\n",
       "      <td>2,253.49</td>\n",
       "      <td>22.00</td>\n",
       "    </tr>\n",
       "    <tr>\n",
       "      <th>1</th>\n",
       "      <td>1000</td>\n",
       "      <td>52</td>\n",
       "      <td>NaN</td>\n",
       "      <td>Краснодар</td>\n",
       "      <td>Рафаил</td>\n",
       "      <td>Верещагин</td>\n",
       "      <td>2018-05-25</td>\n",
       "      <td>ultra</td>\n",
       "      <td>2018</td>\n",
       "      <td>5</td>\n",
       "      <td>6.00</td>\n",
       "      <td>43.00</td>\n",
       "      <td>172.00</td>\n",
       "      <td>23,233.77</td>\n",
       "      <td>60.00</td>\n",
       "    </tr>\n",
       "    <tr>\n",
       "      <th>2</th>\n",
       "      <td>1000</td>\n",
       "      <td>52</td>\n",
       "      <td>NaN</td>\n",
       "      <td>Краснодар</td>\n",
       "      <td>Рафаил</td>\n",
       "      <td>Верещагин</td>\n",
       "      <td>2018-05-25</td>\n",
       "      <td>ultra</td>\n",
       "      <td>2018</td>\n",
       "      <td>5</td>\n",
       "      <td>7.00</td>\n",
       "      <td>47.00</td>\n",
       "      <td>340.00</td>\n",
       "      <td>14,003.64</td>\n",
       "      <td>75.00</td>\n",
       "    </tr>\n",
       "    <tr>\n",
       "      <th>3</th>\n",
       "      <td>1000</td>\n",
       "      <td>52</td>\n",
       "      <td>NaN</td>\n",
       "      <td>Краснодар</td>\n",
       "      <td>Рафаил</td>\n",
       "      <td>Верещагин</td>\n",
       "      <td>2018-05-25</td>\n",
       "      <td>ultra</td>\n",
       "      <td>2018</td>\n",
       "      <td>5</td>\n",
       "      <td>8.00</td>\n",
       "      <td>52.00</td>\n",
       "      <td>408.00</td>\n",
       "      <td>14,055.93</td>\n",
       "      <td>81.00</td>\n",
       "    </tr>\n",
       "    <tr>\n",
       "      <th>4</th>\n",
       "      <td>1000</td>\n",
       "      <td>52</td>\n",
       "      <td>NaN</td>\n",
       "      <td>Краснодар</td>\n",
       "      <td>Рафаил</td>\n",
       "      <td>Верещагин</td>\n",
       "      <td>2018-05-25</td>\n",
       "      <td>ultra</td>\n",
       "      <td>2018</td>\n",
       "      <td>5</td>\n",
       "      <td>9.00</td>\n",
       "      <td>58.00</td>\n",
       "      <td>466.00</td>\n",
       "      <td>14,568.91</td>\n",
       "      <td>57.00</td>\n",
       "    </tr>\n",
       "  </tbody>\n",
       "</table>\n",
       "</div>"
      ],
      "text/plain": [
       "   user_id  age churn_date       city first_name  last_name   reg_date tariff  \\\n",
       "0     1000   52        NaN  Краснодар     Рафаил  Верещагин 2018-05-25  ultra   \n",
       "1     1000   52        NaN  Краснодар     Рафаил  Верещагин 2018-05-25  ultra   \n",
       "2     1000   52        NaN  Краснодар     Рафаил  Верещагин 2018-05-25  ultra   \n",
       "3     1000   52        NaN  Краснодар     Рафаил  Верещагин 2018-05-25  ultra   \n",
       "4     1000   52        NaN  Краснодар     Рафаил  Верещагин 2018-05-25  ultra   \n",
       "\n",
       "   year_start  month_start  month  calls_count  calls_sum  internet_sum  \\\n",
       "0        2018            5   5.00        22.00     159.00      2,253.49   \n",
       "1        2018            5   6.00        43.00     172.00     23,233.77   \n",
       "2        2018            5   7.00        47.00     340.00     14,003.64   \n",
       "3        2018            5   8.00        52.00     408.00     14,055.93   \n",
       "4        2018            5   9.00        58.00     466.00     14,568.91   \n",
       "\n",
       "   messages_count  \n",
       "0           22.00  \n",
       "1           60.00  \n",
       "2           75.00  \n",
       "3           81.00  \n",
       "4           57.00  "
      ]
     },
     "execution_count": 39,
     "metadata": {},
     "output_type": "execute_result"
    }
   ],
   "source": [
    "users_full.head()"
   ]
  },
  {
   "cell_type": "code",
   "execution_count": 40,
   "metadata": {},
   "outputs": [],
   "source": [
    "# Рассчитаем помесячную выручку с каждого пользователя \n",
    "# (вычесть бесплатный лимит из суммарного количества звонков, сообщений и интернет-трафика;\n",
    "# остаток умножить на значение из тарифного плана;\n",
    "# прибавить абонентскую плату, соответствующую тарифному плану)\n",
    "for tarif in ['smart','ultra']:\n",
    "    users_full_temp = users_full.query('tariff == @tarif')\n",
    "    t = tariffs.query('tariff_name == @tarif')\n",
    "    \n",
    "    users_full_temp.loc[:,'revenue_calls'] = (users_full_temp['calls_sum'] - t.iloc[0,2]).clip(0) * t.iloc[0,6]                                                   \n",
    "    \n",
    "    users_full_temp.loc[:,'revenue_internet'] = (users_full_temp['internet_sum'] -  t.iloc[0,1]).clip(0) \n",
    "    \n",
    "    users_full_temp.loc[:,'revenue_internet'] = np.where(users_full_temp['revenue_internet'] % 1024 == 0,\n",
    "                                                         users_full_temp['revenue_internet'] // 1024 * t.iloc[0,4],\n",
    "                                                         (users_full_temp['revenue_internet'] // 1024 +1) *  t.iloc[0,4]\n",
    "                                                        )            \n",
    "    \n",
    "    users_full_temp.loc[:,'revenue_messages'] = (users_full_temp['messages_count'] - t.iloc[0,0]).clip(0) * t.iloc[0,5]                                             \n",
    "   \n",
    "    users_full_temp.loc[:,'revenue'] = users_full_temp.loc[:,'revenue_calls'] \\\n",
    "                                       + users_full_temp.loc[:,'revenue_internet'] \\\n",
    "                                       + users_full_temp.loc[:,'revenue_messages'] \\\n",
    "                                       + t.iloc[0,3]\n",
    "                \n",
    "    users_full.loc[users_full['tariff'] == tarif,'revenue'] = users_full_temp.loc[:,'revenue']"
   ]
  },
  {
   "cell_type": "code",
   "execution_count": 41,
   "metadata": {},
   "outputs": [
    {
     "data": {
      "text/html": [
       "<div>\n",
       "<style scoped>\n",
       "    .dataframe tbody tr th:only-of-type {\n",
       "        vertical-align: middle;\n",
       "    }\n",
       "\n",
       "    .dataframe tbody tr th {\n",
       "        vertical-align: top;\n",
       "    }\n",
       "\n",
       "    .dataframe thead th {\n",
       "        text-align: right;\n",
       "    }\n",
       "</style>\n",
       "<table border=\"1\" class=\"dataframe\">\n",
       "  <thead>\n",
       "    <tr style=\"text-align: right;\">\n",
       "      <th></th>\n",
       "      <th>user_id</th>\n",
       "      <th>age</th>\n",
       "      <th>churn_date</th>\n",
       "      <th>city</th>\n",
       "      <th>first_name</th>\n",
       "      <th>last_name</th>\n",
       "      <th>reg_date</th>\n",
       "      <th>tariff</th>\n",
       "      <th>year_start</th>\n",
       "      <th>month_start</th>\n",
       "      <th>month</th>\n",
       "      <th>calls_count</th>\n",
       "      <th>calls_sum</th>\n",
       "      <th>internet_sum</th>\n",
       "      <th>messages_count</th>\n",
       "      <th>revenue</th>\n",
       "    </tr>\n",
       "  </thead>\n",
       "  <tbody>\n",
       "    <tr>\n",
       "      <th>0</th>\n",
       "      <td>1000</td>\n",
       "      <td>52</td>\n",
       "      <td>NaN</td>\n",
       "      <td>Краснодар</td>\n",
       "      <td>Рафаил</td>\n",
       "      <td>Верещагин</td>\n",
       "      <td>2018-05-25</td>\n",
       "      <td>ultra</td>\n",
       "      <td>2018</td>\n",
       "      <td>5</td>\n",
       "      <td>5.00</td>\n",
       "      <td>22.00</td>\n",
       "      <td>159.00</td>\n",
       "      <td>2,253.49</td>\n",
       "      <td>22.00</td>\n",
       "      <td>1,950.00</td>\n",
       "    </tr>\n",
       "    <tr>\n",
       "      <th>1</th>\n",
       "      <td>1000</td>\n",
       "      <td>52</td>\n",
       "      <td>NaN</td>\n",
       "      <td>Краснодар</td>\n",
       "      <td>Рафаил</td>\n",
       "      <td>Верещагин</td>\n",
       "      <td>2018-05-25</td>\n",
       "      <td>ultra</td>\n",
       "      <td>2018</td>\n",
       "      <td>5</td>\n",
       "      <td>6.00</td>\n",
       "      <td>43.00</td>\n",
       "      <td>172.00</td>\n",
       "      <td>23,233.77</td>\n",
       "      <td>60.00</td>\n",
       "      <td>1,950.00</td>\n",
       "    </tr>\n",
       "    <tr>\n",
       "      <th>2</th>\n",
       "      <td>1000</td>\n",
       "      <td>52</td>\n",
       "      <td>NaN</td>\n",
       "      <td>Краснодар</td>\n",
       "      <td>Рафаил</td>\n",
       "      <td>Верещагин</td>\n",
       "      <td>2018-05-25</td>\n",
       "      <td>ultra</td>\n",
       "      <td>2018</td>\n",
       "      <td>5</td>\n",
       "      <td>7.00</td>\n",
       "      <td>47.00</td>\n",
       "      <td>340.00</td>\n",
       "      <td>14,003.64</td>\n",
       "      <td>75.00</td>\n",
       "      <td>1,950.00</td>\n",
       "    </tr>\n",
       "    <tr>\n",
       "      <th>3</th>\n",
       "      <td>1000</td>\n",
       "      <td>52</td>\n",
       "      <td>NaN</td>\n",
       "      <td>Краснодар</td>\n",
       "      <td>Рафаил</td>\n",
       "      <td>Верещагин</td>\n",
       "      <td>2018-05-25</td>\n",
       "      <td>ultra</td>\n",
       "      <td>2018</td>\n",
       "      <td>5</td>\n",
       "      <td>8.00</td>\n",
       "      <td>52.00</td>\n",
       "      <td>408.00</td>\n",
       "      <td>14,055.93</td>\n",
       "      <td>81.00</td>\n",
       "      <td>1,950.00</td>\n",
       "    </tr>\n",
       "    <tr>\n",
       "      <th>4</th>\n",
       "      <td>1000</td>\n",
       "      <td>52</td>\n",
       "      <td>NaN</td>\n",
       "      <td>Краснодар</td>\n",
       "      <td>Рафаил</td>\n",
       "      <td>Верещагин</td>\n",
       "      <td>2018-05-25</td>\n",
       "      <td>ultra</td>\n",
       "      <td>2018</td>\n",
       "      <td>5</td>\n",
       "      <td>9.00</td>\n",
       "      <td>58.00</td>\n",
       "      <td>466.00</td>\n",
       "      <td>14,568.91</td>\n",
       "      <td>57.00</td>\n",
       "      <td>1,950.00</td>\n",
       "    </tr>\n",
       "  </tbody>\n",
       "</table>\n",
       "</div>"
      ],
      "text/plain": [
       "   user_id  age churn_date       city first_name  last_name   reg_date tariff  \\\n",
       "0     1000   52        NaN  Краснодар     Рафаил  Верещагин 2018-05-25  ultra   \n",
       "1     1000   52        NaN  Краснодар     Рафаил  Верещагин 2018-05-25  ultra   \n",
       "2     1000   52        NaN  Краснодар     Рафаил  Верещагин 2018-05-25  ultra   \n",
       "3     1000   52        NaN  Краснодар     Рафаил  Верещагин 2018-05-25  ultra   \n",
       "4     1000   52        NaN  Краснодар     Рафаил  Верещагин 2018-05-25  ultra   \n",
       "\n",
       "   year_start  month_start  month  calls_count  calls_sum  internet_sum  \\\n",
       "0        2018            5   5.00        22.00     159.00      2,253.49   \n",
       "1        2018            5   6.00        43.00     172.00     23,233.77   \n",
       "2        2018            5   7.00        47.00     340.00     14,003.64   \n",
       "3        2018            5   8.00        52.00     408.00     14,055.93   \n",
       "4        2018            5   9.00        58.00     466.00     14,568.91   \n",
       "\n",
       "   messages_count  revenue  \n",
       "0           22.00 1,950.00  \n",
       "1           60.00 1,950.00  \n",
       "2           75.00 1,950.00  \n",
       "3           81.00 1,950.00  \n",
       "4           57.00 1,950.00  "
      ]
     },
     "execution_count": 41,
     "metadata": {},
     "output_type": "execute_result"
    }
   ],
   "source": [
    "users_full.head()"
   ]
  },
  {
   "cell_type": "code",
   "execution_count": 42,
   "metadata": {},
   "outputs": [],
   "source": [
    "# Проверим по пользователям , у которых указан срок действия тарифа, что данные по звонкам,\n",
    "# сообщениям и трафику в рамках срока начала и окончания действия тарифа\n",
    "users_exit = users_full.query('~churn_date.isna()')"
   ]
  },
  {
   "cell_type": "code",
   "execution_count": 43,
   "metadata": {},
   "outputs": [],
   "source": [
    "# изменим формат churn_date и добавим стлбец с месяцем окончания договора\n",
    "users_exit.loc[:,'churn_date'] = pd.to_datetime(users_exit.loc[:,'churn_date'],format='%Y-%m-%d')\n",
    "users_exit.loc[:,'month_end'] = pd.DatetimeIndex(users_exit.loc[:,'churn_date']).month"
   ]
  },
  {
   "cell_type": "code",
   "execution_count": 44,
   "metadata": {},
   "outputs": [
    {
     "data": {
      "text/html": [
       "<div>\n",
       "<style scoped>\n",
       "    .dataframe tbody tr th:only-of-type {\n",
       "        vertical-align: middle;\n",
       "    }\n",
       "\n",
       "    .dataframe tbody tr th {\n",
       "        vertical-align: top;\n",
       "    }\n",
       "\n",
       "    .dataframe thead th {\n",
       "        text-align: right;\n",
       "    }\n",
       "</style>\n",
       "<table border=\"1\" class=\"dataframe\">\n",
       "  <thead>\n",
       "    <tr style=\"text-align: right;\">\n",
       "      <th></th>\n",
       "      <th>user_id</th>\n",
       "      <th>age</th>\n",
       "      <th>churn_date</th>\n",
       "      <th>city</th>\n",
       "      <th>first_name</th>\n",
       "      <th>last_name</th>\n",
       "      <th>reg_date</th>\n",
       "      <th>tariff</th>\n",
       "      <th>year_start</th>\n",
       "      <th>month_start</th>\n",
       "      <th>month</th>\n",
       "      <th>calls_count</th>\n",
       "      <th>calls_sum</th>\n",
       "      <th>internet_sum</th>\n",
       "      <th>messages_count</th>\n",
       "      <th>revenue</th>\n",
       "      <th>month_end</th>\n",
       "    </tr>\n",
       "  </thead>\n",
       "  <tbody>\n",
       "    <tr>\n",
       "      <th>827</th>\n",
       "      <td>1128</td>\n",
       "      <td>51</td>\n",
       "      <td>2018-12-23</td>\n",
       "      <td>Волжский</td>\n",
       "      <td>Ксения</td>\n",
       "      <td>Агаева</td>\n",
       "      <td>2018-12-15</td>\n",
       "      <td>ultra</td>\n",
       "      <td>2018</td>\n",
       "      <td>12</td>\n",
       "      <td>0.00</td>\n",
       "      <td>0.00</td>\n",
       "      <td>0.00</td>\n",
       "      <td>0.00</td>\n",
       "      <td>0.00</td>\n",
       "      <td>1,950.00</td>\n",
       "      <td>12</td>\n",
       "    </tr>\n",
       "    <tr>\n",
       "      <th>2335</th>\n",
       "      <td>1371</td>\n",
       "      <td>50</td>\n",
       "      <td>2018-12-30</td>\n",
       "      <td>Омск</td>\n",
       "      <td>Ириней</td>\n",
       "      <td>Трофимов</td>\n",
       "      <td>2018-12-25</td>\n",
       "      <td>smart</td>\n",
       "      <td>2018</td>\n",
       "      <td>12</td>\n",
       "      <td>0.00</td>\n",
       "      <td>0.00</td>\n",
       "      <td>0.00</td>\n",
       "      <td>0.00</td>\n",
       "      <td>0.00</td>\n",
       "      <td>550.00</td>\n",
       "      <td>12</td>\n",
       "    </tr>\n",
       "  </tbody>\n",
       "</table>\n",
       "</div>"
      ],
      "text/plain": [
       "      user_id  age churn_date      city first_name last_name   reg_date  \\\n",
       "827      1128   51 2018-12-23  Волжский     Ксения    Агаева 2018-12-15   \n",
       "2335     1371   50 2018-12-30      Омск     Ириней  Трофимов 2018-12-25   \n",
       "\n",
       "     tariff  year_start  month_start  month  calls_count  calls_sum  \\\n",
       "827   ultra        2018           12   0.00         0.00       0.00   \n",
       "2335  smart        2018           12   0.00         0.00       0.00   \n",
       "\n",
       "      internet_sum  messages_count  revenue  month_end  \n",
       "827           0.00            0.00 1,950.00         12  \n",
       "2335          0.00            0.00   550.00         12  "
      ]
     },
     "execution_count": 44,
     "metadata": {},
     "output_type": "execute_result"
    }
   ],
   "source": [
    "users_exit.query('(month_start > month_end) or (month_start > month) or (month_end < month)')"
   ]
  },
  {
   "cell_type": "code",
   "execution_count": 45,
   "metadata": {},
   "outputs": [
    {
     "data": {
      "text/plain": [
       "(0, 16)"
      ]
     },
     "execution_count": 45,
     "metadata": {},
     "output_type": "execute_result"
    }
   ],
   "source": [
    "# Проверим по пользователям , у которых срок действия тарифа не закончен, что данные по звонкам,\n",
    "# сообщениям и трафику после даты начала тарифа\n",
    "users_not_exit = users_full.query('churn_date.isna()').sort_values(['user_id','month'])\n",
    "users_not_exit.query('month_start > month').shape"
   ]
  },
  {
   "cell_type": "code",
   "execution_count": 46,
   "metadata": {},
   "outputs": [
    {
     "name": "stdout",
     "output_type": "stream",
     "text": [
      "[]\n"
     ]
    }
   ],
   "source": [
    "# Проверим , что тариф по незакрытым договорам начислен за все месяцы с даты старта договора до декабря\n",
    "users_id = []\n",
    "for i in users_not_exit.groupby(['user_id','month_start'])['month']:\n",
    "    month = i[0][1]    \n",
    "    for j in i[1]: \n",
    "        if j != month:\n",
    "            users_id.append(i[0][0])\n",
    "        month += 1    \n",
    "print(users_id)"
   ]
  },
  {
   "cell_type": "markdown",
   "metadata": {},
   "source": [
    "**Вывод**:  \n",
    "- Сформирован единый датасет со всеми необходимыми для последующего анализа данными users_full.  \n",
    "- Проверено, что по пользователям, по которым контракт закрыт даты звонков, трафика, сообщений находятся в интервале между датой начала и окончания договора.  \n",
    "- Проверено по пользователям, по которым контракт не закрыт , что  даты звонков, трафика, сообщений соответствуют дате после подписания договора и за все периоды есть данные."
   ]
  },
  {
   "cell_type": "markdown",
   "metadata": {},
   "source": [
    "## Анализ данных."
   ]
  },
  {
   "cell_type": "code",
   "execution_count": 47,
   "metadata": {},
   "outputs": [
    {
     "data": {
      "text/html": [
       "<div>\n",
       "<style scoped>\n",
       "    .dataframe tbody tr th:only-of-type {\n",
       "        vertical-align: middle;\n",
       "    }\n",
       "\n",
       "    .dataframe tbody tr th {\n",
       "        vertical-align: top;\n",
       "    }\n",
       "\n",
       "    .dataframe thead th {\n",
       "        text-align: right;\n",
       "    }\n",
       "</style>\n",
       "<table border=\"1\" class=\"dataframe\">\n",
       "  <thead>\n",
       "    <tr style=\"text-align: right;\">\n",
       "      <th></th>\n",
       "      <th>user_id</th>\n",
       "      <th>age</th>\n",
       "      <th>year_start</th>\n",
       "      <th>month_start</th>\n",
       "      <th>month</th>\n",
       "      <th>calls_count</th>\n",
       "      <th>calls_sum</th>\n",
       "      <th>internet_sum</th>\n",
       "      <th>messages_count</th>\n",
       "      <th>revenue</th>\n",
       "    </tr>\n",
       "  </thead>\n",
       "  <tbody>\n",
       "    <tr>\n",
       "      <th>count</th>\n",
       "      <td>986.00</td>\n",
       "      <td>986.00</td>\n",
       "      <td>986.00</td>\n",
       "      <td>986.00</td>\n",
       "      <td>986.00</td>\n",
       "      <td>986.00</td>\n",
       "      <td>986.00</td>\n",
       "      <td>986.00</td>\n",
       "      <td>986.00</td>\n",
       "      <td>986.00</td>\n",
       "    </tr>\n",
       "    <tr>\n",
       "      <th>mean</th>\n",
       "      <td>1,262.96</td>\n",
       "      <td>46.84</td>\n",
       "      <td>2,018.00</td>\n",
       "      <td>4.64</td>\n",
       "      <td>8.24</td>\n",
       "      <td>73.32</td>\n",
       "      <td>526.09</td>\n",
       "      <td>19,449.06</td>\n",
       "      <td>49.31</td>\n",
       "      <td>2,070.03</td>\n",
       "    </tr>\n",
       "    <tr>\n",
       "      <th>std</th>\n",
       "      <td>140.69</td>\n",
       "      <td>17.10</td>\n",
       "      <td>0.00</td>\n",
       "      <td>2.74</td>\n",
       "      <td>2.88</td>\n",
       "      <td>43.96</td>\n",
       "      <td>317.89</td>\n",
       "      <td>10,101.10</td>\n",
       "      <td>47.81</td>\n",
       "      <td>376.02</td>\n",
       "    </tr>\n",
       "    <tr>\n",
       "      <th>min</th>\n",
       "      <td>1,000.00</td>\n",
       "      <td>18.00</td>\n",
       "      <td>2,018.00</td>\n",
       "      <td>1.00</td>\n",
       "      <td>0.00</td>\n",
       "      <td>0.00</td>\n",
       "      <td>0.00</td>\n",
       "      <td>0.00</td>\n",
       "      <td>0.00</td>\n",
       "      <td>1,950.00</td>\n",
       "    </tr>\n",
       "    <tr>\n",
       "      <th>25%</th>\n",
       "      <td>1,143.00</td>\n",
       "      <td>30.00</td>\n",
       "      <td>2,018.00</td>\n",
       "      <td>2.00</td>\n",
       "      <td>6.00</td>\n",
       "      <td>41.00</td>\n",
       "      <td>282.50</td>\n",
       "      <td>11,748.59</td>\n",
       "      <td>6.00</td>\n",
       "      <td>1,950.00</td>\n",
       "    </tr>\n",
       "    <tr>\n",
       "      <th>50%</th>\n",
       "      <td>1,277.00</td>\n",
       "      <td>45.00</td>\n",
       "      <td>2,018.00</td>\n",
       "      <td>4.00</td>\n",
       "      <td>9.00</td>\n",
       "      <td>73.50</td>\n",
       "      <td>518.00</td>\n",
       "      <td>19,304.02</td>\n",
       "      <td>38.00</td>\n",
       "      <td>1,950.00</td>\n",
       "    </tr>\n",
       "    <tr>\n",
       "      <th>75%</th>\n",
       "      <td>1,381.00</td>\n",
       "      <td>63.00</td>\n",
       "      <td>2,018.00</td>\n",
       "      <td>6.00</td>\n",
       "      <td>11.00</td>\n",
       "      <td>103.75</td>\n",
       "      <td>751.75</td>\n",
       "      <td>26,835.88</td>\n",
       "      <td>78.75</td>\n",
       "      <td>1,950.00</td>\n",
       "    </tr>\n",
       "    <tr>\n",
       "      <th>max</th>\n",
       "      <td>1,495.00</td>\n",
       "      <td>75.00</td>\n",
       "      <td>2,018.00</td>\n",
       "      <td>12.00</td>\n",
       "      <td>12.00</td>\n",
       "      <td>244.00</td>\n",
       "      <td>1,673.00</td>\n",
       "      <td>49,745.69</td>\n",
       "      <td>224.00</td>\n",
       "      <td>4,800.00</td>\n",
       "    </tr>\n",
       "  </tbody>\n",
       "</table>\n",
       "</div>"
      ],
      "text/plain": [
       "       user_id    age  year_start  month_start  month  calls_count  calls_sum  \\\n",
       "count   986.00 986.00      986.00       986.00 986.00       986.00     986.00   \n",
       "mean  1,262.96  46.84    2,018.00         4.64   8.24        73.32     526.09   \n",
       "std     140.69  17.10        0.00         2.74   2.88        43.96     317.89   \n",
       "min   1,000.00  18.00    2,018.00         1.00   0.00         0.00       0.00   \n",
       "25%   1,143.00  30.00    2,018.00         2.00   6.00        41.00     282.50   \n",
       "50%   1,277.00  45.00    2,018.00         4.00   9.00        73.50     518.00   \n",
       "75%   1,381.00  63.00    2,018.00         6.00  11.00       103.75     751.75   \n",
       "max   1,495.00  75.00    2,018.00        12.00  12.00       244.00   1,673.00   \n",
       "\n",
       "       internet_sum  messages_count  revenue  \n",
       "count        986.00          986.00   986.00  \n",
       "mean      19,449.06           49.31 2,070.03  \n",
       "std       10,101.10           47.81   376.02  \n",
       "min            0.00            0.00 1,950.00  \n",
       "25%       11,748.59            6.00 1,950.00  \n",
       "50%       19,304.02           38.00 1,950.00  \n",
       "75%       26,835.88           78.75 1,950.00  \n",
       "max       49,745.69          224.00 4,800.00  "
      ]
     },
     "execution_count": 47,
     "metadata": {},
     "output_type": "execute_result"
    }
   ],
   "source": [
    "# Основные статистические показатели для тарифа ultra\n",
    "users_full.query('tariff == \"ultra\"').describe()"
   ]
  },
  {
   "cell_type": "code",
   "execution_count": 48,
   "metadata": {},
   "outputs": [
    {
     "data": {
      "text/html": [
       "<div>\n",
       "<style scoped>\n",
       "    .dataframe tbody tr th:only-of-type {\n",
       "        vertical-align: middle;\n",
       "    }\n",
       "\n",
       "    .dataframe tbody tr th {\n",
       "        vertical-align: top;\n",
       "    }\n",
       "\n",
       "    .dataframe thead th {\n",
       "        text-align: right;\n",
       "    }\n",
       "</style>\n",
       "<table border=\"1\" class=\"dataframe\">\n",
       "  <thead>\n",
       "    <tr style=\"text-align: right;\">\n",
       "      <th></th>\n",
       "      <th>user_id</th>\n",
       "      <th>age</th>\n",
       "      <th>year_start</th>\n",
       "      <th>month_start</th>\n",
       "      <th>month</th>\n",
       "      <th>calls_count</th>\n",
       "      <th>calls_sum</th>\n",
       "      <th>internet_sum</th>\n",
       "      <th>messages_count</th>\n",
       "      <th>revenue</th>\n",
       "    </tr>\n",
       "  </thead>\n",
       "  <tbody>\n",
       "    <tr>\n",
       "      <th>count</th>\n",
       "      <td>2,230.00</td>\n",
       "      <td>2,230.00</td>\n",
       "      <td>2,230.00</td>\n",
       "      <td>2,230.00</td>\n",
       "      <td>2,230.00</td>\n",
       "      <td>2,230.00</td>\n",
       "      <td>2,230.00</td>\n",
       "      <td>2,230.00</td>\n",
       "      <td>2,230.00</td>\n",
       "      <td>2,230.00</td>\n",
       "    </tr>\n",
       "    <tr>\n",
       "      <th>mean</th>\n",
       "      <td>1,246.56</td>\n",
       "      <td>46.56</td>\n",
       "      <td>2,018.00</td>\n",
       "      <td>4.76</td>\n",
       "      <td>8.34</td>\n",
       "      <td>58.44</td>\n",
       "      <td>417.75</td>\n",
       "      <td>16,201.12</td>\n",
       "      <td>33.37</td>\n",
       "      <td>1,289.64</td>\n",
       "    </tr>\n",
       "    <tr>\n",
       "      <th>std</th>\n",
       "      <td>146.11</td>\n",
       "      <td>16.35</td>\n",
       "      <td>0.00</td>\n",
       "      <td>2.98</td>\n",
       "      <td>2.93</td>\n",
       "      <td>25.96</td>\n",
       "      <td>190.48</td>\n",
       "      <td>5,879.19</td>\n",
       "      <td>28.23</td>\n",
       "      <td>818.37</td>\n",
       "    </tr>\n",
       "    <tr>\n",
       "      <th>min</th>\n",
       "      <td>1,001.00</td>\n",
       "      <td>18.00</td>\n",
       "      <td>2,018.00</td>\n",
       "      <td>1.00</td>\n",
       "      <td>0.00</td>\n",
       "      <td>0.00</td>\n",
       "      <td>0.00</td>\n",
       "      <td>0.00</td>\n",
       "      <td>0.00</td>\n",
       "      <td>550.00</td>\n",
       "    </tr>\n",
       "    <tr>\n",
       "      <th>25%</th>\n",
       "      <td>1,121.00</td>\n",
       "      <td>32.00</td>\n",
       "      <td>2,018.00</td>\n",
       "      <td>2.00</td>\n",
       "      <td>6.00</td>\n",
       "      <td>40.00</td>\n",
       "      <td>282.00</td>\n",
       "      <td>12,630.04</td>\n",
       "      <td>10.00</td>\n",
       "      <td>550.00</td>\n",
       "    </tr>\n",
       "    <tr>\n",
       "      <th>50%</th>\n",
       "      <td>1,240.00</td>\n",
       "      <td>47.00</td>\n",
       "      <td>2,018.00</td>\n",
       "      <td>4.00</td>\n",
       "      <td>9.00</td>\n",
       "      <td>60.00</td>\n",
       "      <td>421.50</td>\n",
       "      <td>16,505.47</td>\n",
       "      <td>28.00</td>\n",
       "      <td>1,021.00</td>\n",
       "    </tr>\n",
       "    <tr>\n",
       "      <th>75%</th>\n",
       "      <td>1,376.00</td>\n",
       "      <td>62.00</td>\n",
       "      <td>2,018.00</td>\n",
       "      <td>7.00</td>\n",
       "      <td>11.00</td>\n",
       "      <td>76.00</td>\n",
       "      <td>545.00</td>\n",
       "      <td>20,042.11</td>\n",
       "      <td>51.00</td>\n",
       "      <td>1,750.00</td>\n",
       "    </tr>\n",
       "    <tr>\n",
       "      <th>max</th>\n",
       "      <td>1,499.00</td>\n",
       "      <td>75.00</td>\n",
       "      <td>2,018.00</td>\n",
       "      <td>12.00</td>\n",
       "      <td>12.00</td>\n",
       "      <td>198.00</td>\n",
       "      <td>1,435.00</td>\n",
       "      <td>38,552.45</td>\n",
       "      <td>143.00</td>\n",
       "      <td>6,770.00</td>\n",
       "    </tr>\n",
       "  </tbody>\n",
       "</table>\n",
       "</div>"
      ],
      "text/plain": [
       "       user_id      age  year_start  month_start    month  calls_count  \\\n",
       "count 2,230.00 2,230.00    2,230.00     2,230.00 2,230.00     2,230.00   \n",
       "mean  1,246.56    46.56    2,018.00         4.76     8.34        58.44   \n",
       "std     146.11    16.35        0.00         2.98     2.93        25.96   \n",
       "min   1,001.00    18.00    2,018.00         1.00     0.00         0.00   \n",
       "25%   1,121.00    32.00    2,018.00         2.00     6.00        40.00   \n",
       "50%   1,240.00    47.00    2,018.00         4.00     9.00        60.00   \n",
       "75%   1,376.00    62.00    2,018.00         7.00    11.00        76.00   \n",
       "max   1,499.00    75.00    2,018.00        12.00    12.00       198.00   \n",
       "\n",
       "       calls_sum  internet_sum  messages_count  revenue  \n",
       "count   2,230.00      2,230.00        2,230.00 2,230.00  \n",
       "mean      417.75     16,201.12           33.37 1,289.64  \n",
       "std       190.48      5,879.19           28.23   818.37  \n",
       "min         0.00          0.00            0.00   550.00  \n",
       "25%       282.00     12,630.04           10.00   550.00  \n",
       "50%       421.50     16,505.47           28.00 1,021.00  \n",
       "75%       545.00     20,042.11           51.00 1,750.00  \n",
       "max     1,435.00     38,552.45          143.00 6,770.00  "
      ]
     },
     "execution_count": 48,
     "metadata": {},
     "output_type": "execute_result"
    }
   ],
   "source": [
    "# Основные статистические показатели для тарифа smart\n",
    "users_full.query('tariff == \"smart\"').describe()"
   ]
  },
  {
   "cell_type": "code",
   "execution_count": 49,
   "metadata": {},
   "outputs": [],
   "source": [
    "# Создадим список тарифов и показателей, которые будем анализировать\n",
    "tariffs_ = ['smart','ultra']\n",
    "parameters = ['calls_sum', 'internet_sum', 'messages_count', 'revenue']"
   ]
  },
  {
   "cell_type": "code",
   "execution_count": 50,
   "metadata": {},
   "outputs": [
    {
     "data": {
      "image/png": "[encoded data removed]",
      "text/plain": [
       "<Figure size 1080x360 with 2 Axes>"
      ]
     },
     "metadata": {
      "needs_background": "light"
     },
     "output_type": "display_data"
    },
    {
     "name": "stdout",
     "output_type": "stream",
     "text": [
      "\n"
     ]
    },
    {
     "data": {
      "image/png": "[encoded data removed]",
      "text/plain": [
       "<Figure size 1080x360 with 2 Axes>"
      ]
     },
     "metadata": {
      "needs_background": "light"
     },
     "output_type": "display_data"
    },
    {
     "name": "stdout",
     "output_type": "stream",
     "text": [
      "\n"
     ]
    },
    {
     "data": {
      "image/png": "[encoded data removed]",
      "text/plain": [
       "<Figure size 1080x360 with 2 Axes>"
      ]
     },
     "metadata": {
      "needs_background": "light"
     },
     "output_type": "display_data"
    },
    {
     "name": "stdout",
     "output_type": "stream",
     "text": [
      "\n"
     ]
    },
    {
     "data": {
      "image/png": "[encoded data removed]",
      "text/plain": [
       "<Figure size 1080x360 with 2 Axes>"
      ]
     },
     "metadata": {
      "needs_background": "light"
     },
     "output_type": "display_data"
    },
    {
     "name": "stdout",
     "output_type": "stream",
     "text": [
      "\n"
     ]
    }
   ],
   "source": [
    "# Посмотрим на графиках плотности частоты и бокс плот параметра по тарифам\n",
    "for parameter in parameters:\n",
    "    plt.figure(figsize=(15,5))\n",
    "    plt.subplot(1, 2, 1)\n",
    "    \n",
    "    for tariff in tariffs_:\n",
    "        subset = users_full[users_full['tariff'] == tariff]    \n",
    "\n",
    "        sns.distplot(subset[parameter], \n",
    "                     hist = False, \n",
    "                     kde = True,\n",
    "                     kde_kws = {'linewidth': 1.5},\n",
    "                     label = tariff)\n",
    "\n",
    "    plt.legend(prop={'size': 16}, title = 'Тарифы')\n",
    "    plt.title(f'Density Plot по параметру {parameter}')\n",
    "    plt.xlabel(f'{parameter}')\n",
    "    plt.ylabel('Плотность частоты')\n",
    "   # plt.show()\n",
    "   # plt.figsize=(15,5)\n",
    "    plt.subplot(1, 2, 2)\n",
    "    sns.boxplot(x = parameter, y = 'tariff', data = users_full, orient=\"h\", palette=\"Set3\")\n",
    "    plt.title(f'Boxplot по параметру {parameter}')      \n",
    "    plt.show()\n",
    "    print()"
   ]
  },
  {
   "cell_type": "code",
   "execution_count": 51,
   "metadata": {},
   "outputs": [
    {
     "data": {
      "image/png": "[encoded data removed]",
      "text/plain": [
       "<Figure size 1440x504 with 1 Axes>"
      ]
     },
     "metadata": {
      "needs_background": "light"
     },
     "output_type": "display_data"
    },
    {
     "data": {
      "image/png": "[encoded data removed]",
      "text/plain": [
       "<Figure size 1440x504 with 1 Axes>"
      ]
     },
     "metadata": {
      "needs_background": "light"
     },
     "output_type": "display_data"
    },
    {
     "name": "stdout",
     "output_type": "stream",
     "text": [
      "\n"
     ]
    }
   ],
   "source": [
    "# сделаем более крупными графики по параметру revenue\n",
    "plt.figure(figsize=(20,7))\n",
    "for tariff in tariffs_:\n",
    "    subset = users_full[users_full['tariff'] == tariff]    \n",
    "\n",
    "    sns.distplot(subset['revenue'], \n",
    "                 hist = True, \n",
    "                 kde = True,\n",
    "                 kde_kws = {'linewidth': 1.5},\n",
    "                 label = tariff)\n",
    "\n",
    "plt.legend(prop={'size': 16}, title = 'Тарифы')\n",
    "plt.title(f'Density Plot по параметру revenue')\n",
    "plt.xlabel('revenue')\n",
    "plt.ylabel('Плотность частоты')\n",
    "plt.show()\n",
    "plt.figure(figsize=(20,7))\n",
    "sns.boxplot(x = 'revenue', y = 'tariff', data = users_full, orient=\"h\", palette=\"Set3\")\n",
    "plt.title(f'Boxplot по параметру revenue')      \n",
    "plt.show()\n",
    "print()"
   ]
  },
  {
   "cell_type": "markdown",
   "metadata": {},
   "source": [
    "**Вывод**:  \n",
    "\n",
    "- В среднем для тарифа smart требуется 417 минут разговора,а для тарифа ultra 526 минут разговора. Медиана данных показателей 421 и 518 соответственно.\n",
    "- В среднем для тарифа smart требуется 33 сообщения,а для тарифа ultra 49 сообщений. Медиана данных показателей 28 и 38 соответственно.\n",
    "- В среднем для тарифа smart требуется 16 201 мб интернет-трафика, а для тарифа ultra 19 449 мб.Медиана данных показателей 16 505 и  19304 соответственно.\n",
    "- Медианны у тарифа ultra по всем параметрам больше, чем у тарифа smart. По тарифу ultra намного длиннее усы, что означает, что много клиентов, кто платит ощутимо больше медианной суммы.\n",
    "- По тарифу ultra по всем параметрам среднее больше , чем медиана, т.е. данные скошены вправо, а по тарифу smart только по параметру количество сообщений данные скошены вправо, по трафику и продолжительности звонков медиана и среднее практически равны, по трафику даже небольшое смещение влево.\n",
    "- Стандартное отклонения для тарифа ultra значительно превышает стандартное отклонение для тарифа smart. Распределение шире по тарифу ultra по всем показателям, кроме выручки. По выручке стандартное отклонение по тарифу smart(818) значительно превышает значение по тарифу ultra (376).\n",
    "- По revenue тариф ультра 1,2 и 3 квартили расположены на уровне 1950 руб., тогда как по тарифу smart  3 квартиль соответствует 1730 руб. Несмотря на то , что по revenue медиана меньше среднего и данные скошены вправо для обоих тарифов, у тарифа smart значительно шире размах вправо."
   ]
  },
  {
   "cell_type": "markdown",
   "metadata": {},
   "source": [
    "## Проверка гипотез."
   ]
  },
  {
   "cell_type": "markdown",
   "metadata": {},
   "source": [
    "Проверим гипотезы:  \n",
    "1. Средняя выручка пользователей тарифов «Ультра» и «Смарт» различаются;  \n",
    "2. Средняя выручка пользователей из Москвы отличается от выручки пользователей из других регионов\n",
    "\n",
    "Пороговое значение alpha зададим на уровне 0,05.  \n"
   ]
  },
  {
   "cell_type": "markdown",
   "metadata": {},
   "source": [
    "### Средняя выручка пользователей тарифов «Ультра» и «Смарт» различаются"
   ]
  },
  {
   "cell_type": "markdown",
   "metadata": {},
   "source": [
    "**Нулевая гипотеза** : Средняя выручка пользователей тарифов «Ультра» и «Смарт» одинаковая.  \n",
    "Чтобы проверить гипотезу о равенстве среднего двух генеральных совокупностей по взятым из них выборкам, применим метод scipy.stats.ttest_ind ()  \n",
    "**Альтернативная гипотеза**: Средняя выручка пользователей тарифов «Ультра» и «Смарт» различаются.\n"
   ]
  },
  {
   "cell_type": "code",
   "execution_count": 52,
   "metadata": {},
   "outputs": [
    {
     "data": {
      "text/plain": [
       "2.3578651290079928e-122"
      ]
     },
     "execution_count": 52,
     "metadata": {},
     "output_type": "execute_result"
    }
   ],
   "source": [
    "# Воспользуемся стат.тестом Левене, для понимания какое значение указывать по параметру equal_var для проверки гипотезы\n",
    "st.levene(users_full[users_full['tariff'] == 'smart']['revenue'],\n",
    "          users_full[users_full['tariff'] == 'ultra']['revenue']\n",
    "         ).pvalue"
   ]
  },
  {
   "cell_type": "markdown",
   "metadata": {},
   "source": [
    "Очень маленькое значение pvalue говорит о том, что данные выборки имеют разные дисперсии. Параметр equal_var необходимо указать как False."
   ]
  },
  {
   "cell_type": "code",
   "execution_count": 53,
   "metadata": {},
   "outputs": [
    {
     "name": "stdout",
     "output_type": "stream",
     "text": [
      "p-значение: 1.927011394420941e-250\n",
      "Отвергаем нулевую гипотезу\n"
     ]
    }
   ],
   "source": [
    "alpha = 0.05 # критический уровень статистической значимости\n",
    "\n",
    "results = st.ttest_ind(users_full[users_full['tariff'] == 'smart']['revenue'],\n",
    "                       users_full[users_full['tariff'] == 'ultra']['revenue'],\n",
    "                      equal_var = False\n",
    "                      ) \n",
    "print('p-значение:', results.pvalue)\n",
    "\n",
    "if results.pvalue < alpha: \n",
    "    print(\"Отвергаем нулевую гипотезу\")\n",
    "else:\n",
    "    print(\"Не получилось отвергнуть нулевую гипотезу\")"
   ]
  },
  {
   "cell_type": "markdown",
   "metadata": {},
   "source": [
    "**Вывод** \n",
    "\n",
    "p-значение очень маленькое, даже меньше 1%, мы можем отвергнуть нулевую гипотезу и *подтвердить гипотезу о том , что средняя выручка пользователей тарифов «Ультра» и «Смарт» различаются*"
   ]
  },
  {
   "cell_type": "markdown",
   "metadata": {},
   "source": [
    "### Средняя выручка пользователей из Москвы отличается от выручки пользователей из других регионов"
   ]
  },
  {
   "cell_type": "markdown",
   "metadata": {},
   "source": [
    "**Нулевая гипотеза** : Средняя выручка пользователей из Москвы соответствует средней выручки пользователей из других регионов.  \n",
    "Чтобы проверить данную гипотезу, применим метод scipy.stats.ttest_ind ()  \n",
    "**Альтернативная гипотеза** : средняя выручка пользователей из Москвы отличается от выручки пользователей из других регионов"
   ]
  },
  {
   "cell_type": "code",
   "execution_count": 54,
   "metadata": {},
   "outputs": [
    {
     "data": {
      "image/png": "[encoded data removed]",
      "text/plain": [
       "<Figure size 1440x504 with 1 Axes>"
      ]
     },
     "metadata": {
      "needs_background": "light"
     },
     "output_type": "display_data"
    }
   ],
   "source": [
    "# построим график выручке по Москве и другим регионам\n",
    "plt.figure(figsize=(20,7))\n",
    "subset = users_full[users_full['city'] == 'Москва']    \n",
    "sns.distplot(subset['revenue'], \n",
    "                 hist = True, \n",
    "                 kde = True,\n",
    "                 kde_kws = {'linewidth': 1.5},\n",
    "                 label = 'Москва'\n",
    "            )\n",
    "plt.legend(prop={'size': 16}, title = 'Москва')\n",
    "subset = users_full[users_full['city'] != 'Москва']    \n",
    "sns.distplot(subset['revenue'], \n",
    "                 hist = True, \n",
    "                 kde = True,\n",
    "                 kde_kws = {'linewidth': 1.5},\n",
    "                 label = 'не Москва'\n",
    "            )\n",
    "\n",
    "plt.legend(prop={'size': 16}, title = 'регион')\n",
    "plt.title(f'Density Plot по параметру revenue')\n",
    "plt.xlabel('revenue')\n",
    "plt.ylabel('Плотность частоты')\n",
    "plt.show()\n"
   ]
  },
  {
   "cell_type": "code",
   "execution_count": 55,
   "metadata": {},
   "outputs": [
    {
     "data": {
      "text/plain": [
       "count     611.00\n",
       "mean    1,546.71\n",
       "std       752.09\n",
       "min       550.00\n",
       "25%       780.50\n",
       "50%     1,750.00\n",
       "75%     1,950.00\n",
       "max     5,321.00\n",
       "Name: revenue, dtype: float64"
      ]
     },
     "execution_count": 55,
     "metadata": {},
     "output_type": "execute_result"
    }
   ],
   "source": [
    "# посмотрим статистику по revenue по Москве\n",
    "users_full[users_full['city'] == 'Москва']['revenue'].describe()"
   ]
  },
  {
   "cell_type": "code",
   "execution_count": 56,
   "metadata": {},
   "outputs": [
    {
     "data": {
      "text/plain": [
       "count   2,605.00\n",
       "mean    1,524.73\n",
       "std       808.75\n",
       "min       550.00\n",
       "25%       750.00\n",
       "50%     1,583.00\n",
       "75%     1,950.00\n",
       "max     6,770.00\n",
       "Name: revenue, dtype: float64"
      ]
     },
     "execution_count": 56,
     "metadata": {},
     "output_type": "execute_result"
    }
   ],
   "source": [
    "# посмотрим статистику по revenue по регионам\n",
    "users_full[users_full['city'] != 'Москва']['revenue'].describe()"
   ]
  },
  {
   "cell_type": "code",
   "execution_count": 57,
   "metadata": {},
   "outputs": [
    {
     "data": {
      "text/plain": [
       "0.014015266770621706"
      ]
     },
     "execution_count": 57,
     "metadata": {},
     "output_type": "execute_result"
    }
   ],
   "source": [
    "# Воспользуемся стат.тестом Левене, для понимания какое значение указывать по параметру equal_var для проверки гипотезы\n",
    "st.levene(users_full[users_full['city'] == 'Москва']['revenue'],users_full[users_full['city'] != 'Москва']['revenue']).pvalue"
   ]
  },
  {
   "cell_type": "markdown",
   "metadata": {},
   "source": [
    "Значение pvalue теста Левене менее 0,05 говорит о том, что данные выборки имеют разные дисперсии. Параметр equal_var необходимо указать как False."
   ]
  },
  {
   "cell_type": "code",
   "execution_count": 58,
   "metadata": {},
   "outputs": [
    {
     "name": "stdout",
     "output_type": "stream",
     "text": [
      "p-значение: 52.17%\n",
      "Не получилось отвергнуть нулевую гипотезу\n"
     ]
    }
   ],
   "source": [
    "# рассчитаем pvalue для понимания возможности отвергнуть нулевую гипотезу\n",
    "alpha = 0.05 # критический уровень статистической значимости\n",
    "\n",
    "results = st.ttest_ind(users_full[users_full['city'] == 'Москва']['revenue'],\n",
    "                       users_full[users_full['city'] != 'Москва']['revenue'],\n",
    "                       equal_var = False)\n",
    "\n",
    "print('p-значение:', '{0:.2%}'.format(results.pvalue))\n",
    "\n",
    "if results.pvalue < alpha: \n",
    "    print(\"Отвергаем нулевую гипотезу\")\n",
    "else:\n",
    "    print(\"Не получилось отвергнуть нулевую гипотезу\")"
   ]
  },
  {
   "cell_type": "markdown",
   "metadata": {},
   "source": [
    "**Вывод**:   \n",
    "\n",
    "Полученное значение p-value говорит о том, что с вероятностью ,более 52% различие средней выручки по Москве и другим регионам можно получить случайно. Это слишком большая вероятность, чтобы делать вывод о значимом различии между средней выручкой по Москве  и средней выручкой по другим регионам.  \n",
    "*Средняя выручка пользователей из Москвы не отличается от выручки пользователей из других регионов.*"
   ]
  },
  {
   "cell_type": "markdown",
   "metadata": {},
   "source": [
    "## Общий вывод."
   ]
  },
  {
   "cell_type": "markdown",
   "metadata": {},
   "source": [
    "- Медианны у тарифа ultra по всем параметрам больше, чем у тарифа smart. По тарифу ultra намного длиннее усы, что означает, что много клиентов, кто платит ощутимо больше медианной суммы.\n",
    "- По тарифу ultra по всем параметрам среднее больше , чем медиана, т.е. данные скошены вправо, а по тарифу smart только по параметру количество сообщений данные скошены вправо, по трафику и продолжительности звонков медиана и среднее практически равны, по трафику даже небольшое смещение влево.\n",
    "- Стандартное отклонения для тарифа ultra значительно превышает стандартное отклонение для тарифа smart. Распределение шире по тарифу ultra по всем показателям, кроме выручки. По выручке стандартное отклонение по тарифу smart(818) значительно превышает значение по тарифу ultra (376).\n",
    "- По revenue тариф ультра 1,2 и 3 квартили расположены на уровне 1950 руб., тогда как по тарифу smart  3 квартиль соответствует 1730 руб. Несмотря на то , что по revenue медиана меньше среднего и данные скошены вправо для обоих тарифов, у тарифа smart значительно шире размах вправо.\n",
    "- *Мы можем подтвердить гипотезу о том , что средняя выручка пользователей тарифов «Ультра» и «Смарт» различаются*\n",
    "- *Мы не можем подтвердить гипотезу о том , что средняя выручка пользователей из Москвы отличается от выручки пользователей из других регионов*.\n",
    "\n",
    "В процессе анализа возникли вопросы, которые необходимо уточнить у источника данных для более точного анализа :\n",
    "1. В данных по звонкам 19,6% это звонки, продолжительность которых равно нулю. согласно информации к данным: 'Звонки с нулевой продолжительностью. Это не ошибка: нулями обозначены пропущенные звонки, поэтому их не нужно удалять'. Возникает вопрос нужно ди разделять звонки на входящие/исходящие и при расчете тарифа учитывать только исходящие. В текущих данных информации нет, для исследования учитывали все звонки в предоставленных данных. \n",
    "\n",
    "2. В данных по трафику 13% это сессии, продолжительность которых равна нулю. Предположили, что это ситуации, когда интернет у абонента подключен, но не было никакой онлайн активности. Данные не менялись, считали, что трафик ноль это корректно."
   ]
  }
 ],
 "metadata": {
  "ExecuteTimeLog": [
   {
    "duration": 4,
    "start_time": "2021-12-09T14:34:29.702Z"
   },
   {
    "duration": 1630,
    "start_time": "2021-12-09T14:34:56.463Z"
   },
   {
    "duration": 3,
    "start_time": "2021-12-09T14:35:11.775Z"
   },
   {
    "duration": 4,
    "start_time": "2021-12-09T14:35:25.967Z"
   },
   {
    "duration": 220,
    "start_time": "2021-12-09T14:36:10.834Z"
   },
   {
    "duration": 18,
    "start_time": "2021-12-09T14:36:15.520Z"
   },
   {
    "duration": 213,
    "start_time": "2021-12-09T14:36:21.303Z"
   },
   {
    "duration": 17,
    "start_time": "2021-12-09T14:36:22.224Z"
   },
   {
    "duration": 819,
    "start_time": "2021-12-09T14:36:34.144Z"
   },
   {
    "duration": 11,
    "start_time": "2021-12-09T14:36:40.481Z"
   },
   {
    "duration": 540,
    "start_time": "2021-12-09T14:38:13.761Z"
   },
   {
    "duration": 15,
    "start_time": "2021-12-09T14:38:16.889Z"
   },
   {
    "duration": 11,
    "start_time": "2021-12-09T14:38:59.890Z"
   },
   {
    "duration": 11,
    "start_time": "2021-12-09T14:39:00.802Z"
   },
   {
    "duration": 13,
    "start_time": "2021-12-09T14:39:03.409Z"
   },
   {
    "duration": 14,
    "start_time": "2021-12-09T14:39:04.274Z"
   },
   {
    "duration": 29,
    "start_time": "2021-12-09T15:30:25.223Z"
   },
   {
    "duration": 38,
    "start_time": "2021-12-09T15:30:37.464Z"
   },
   {
    "duration": 26,
    "start_time": "2021-12-09T15:30:53.352Z"
   },
   {
    "duration": 10,
    "start_time": "2021-12-09T15:31:10.199Z"
   },
   {
    "duration": 13,
    "start_time": "2021-12-09T15:33:00.987Z"
   },
   {
    "duration": 146,
    "start_time": "2021-12-09T15:35:33.884Z"
   },
   {
    "duration": 376,
    "start_time": "2021-12-09T18:02:17.524Z"
   },
   {
    "duration": 14,
    "start_time": "2021-12-09T18:02:25.225Z"
   },
   {
    "duration": 40,
    "start_time": "2021-12-09T18:03:34.180Z"
   },
   {
    "duration": 26,
    "start_time": "2021-12-09T18:03:39.309Z"
   },
   {
    "duration": 9,
    "start_time": "2021-12-09T18:04:06.197Z"
   },
   {
    "duration": 6,
    "start_time": "2021-12-09T18:04:14.100Z"
   },
   {
    "duration": 316,
    "start_time": "2021-12-09T18:04:35.189Z"
   },
   {
    "duration": 20,
    "start_time": "2021-12-09T18:04:46.059Z"
   },
   {
    "duration": 17,
    "start_time": "2021-12-09T18:05:29.365Z"
   },
   {
    "duration": 7,
    "start_time": "2021-12-09T18:05:51.622Z"
   },
   {
    "duration": 14,
    "start_time": "2021-12-09T18:06:06.773Z"
   },
   {
    "duration": 15,
    "start_time": "2021-12-09T18:06:39.462Z"
   },
   {
    "duration": 11,
    "start_time": "2021-12-09T18:07:15.767Z"
   },
   {
    "duration": 14,
    "start_time": "2021-12-09T18:07:24.231Z"
   },
   {
    "duration": 9,
    "start_time": "2021-12-09T18:07:56.151Z"
   },
   {
    "duration": 4,
    "start_time": "2021-12-09T18:13:29.597Z"
   },
   {
    "duration": 502,
    "start_time": "2021-12-09T18:15:59.325Z"
   },
   {
    "duration": 11,
    "start_time": "2021-12-09T18:15:59.830Z"
   },
   {
    "duration": 30,
    "start_time": "2021-12-09T18:16:00.060Z"
   },
   {
    "duration": 12,
    "start_time": "2021-12-09T18:16:00.652Z"
   },
   {
    "duration": 518,
    "start_time": "2021-12-09T18:16:33.469Z"
   },
   {
    "duration": 11,
    "start_time": "2021-12-09T18:16:34.557Z"
   },
   {
    "duration": 31,
    "start_time": "2021-12-09T18:16:35.005Z"
   },
   {
    "duration": 14,
    "start_time": "2021-12-09T18:16:35.421Z"
   },
   {
    "duration": 510,
    "start_time": "2021-12-09T18:16:42.621Z"
   },
   {
    "duration": 10,
    "start_time": "2021-12-09T18:16:43.133Z"
   },
   {
    "duration": 27,
    "start_time": "2021-12-09T18:16:43.309Z"
   },
   {
    "duration": 11,
    "start_time": "2021-12-09T18:16:43.677Z"
   },
   {
    "duration": 23,
    "start_time": "2021-12-09T18:16:44.301Z"
   },
   {
    "duration": 10,
    "start_time": "2021-12-09T18:16:45.821Z"
   },
   {
    "duration": 19,
    "start_time": "2021-12-09T18:16:46.925Z"
   },
   {
    "duration": 12,
    "start_time": "2021-12-09T18:16:47.853Z"
   },
   {
    "duration": 15,
    "start_time": "2021-12-09T18:16:48.861Z"
   },
   {
    "duration": 20086,
    "start_time": "2021-12-09T18:17:13.582Z"
   },
   {
    "duration": 722,
    "start_time": "2021-12-09T18:17:32.957Z"
   },
   {
    "duration": 722,
    "start_time": "2021-12-09T18:17:32.958Z"
   },
   {
    "duration": 722,
    "start_time": "2021-12-09T18:17:32.959Z"
   },
   {
    "duration": 721,
    "start_time": "2021-12-09T18:17:32.962Z"
   },
   {
    "duration": 721,
    "start_time": "2021-12-09T18:17:32.963Z"
   },
   {
    "duration": 721,
    "start_time": "2021-12-09T18:17:32.964Z"
   },
   {
    "duration": 721,
    "start_time": "2021-12-09T18:17:32.966Z"
   },
   {
    "duration": 810,
    "start_time": "2021-12-09T18:17:43.985Z"
   },
   {
    "duration": 810,
    "start_time": "2021-12-09T18:17:43.986Z"
   },
   {
    "duration": 4,
    "start_time": "2021-12-09T18:17:44.861Z"
   },
   {
    "duration": 3,
    "start_time": "2021-12-09T18:17:45.230Z"
   },
   {
    "duration": 492,
    "start_time": "2021-12-09T18:17:46.317Z"
   },
   {
    "duration": 11,
    "start_time": "2021-12-09T18:17:47.502Z"
   },
   {
    "duration": 30,
    "start_time": "2021-12-09T18:17:48.109Z"
   },
   {
    "duration": 12,
    "start_time": "2021-12-09T18:17:48.669Z"
   },
   {
    "duration": 9887,
    "start_time": "2021-12-09T18:17:50.606Z"
   },
   {
    "duration": 11948,
    "start_time": "2021-12-09T18:18:04.607Z"
   },
   {
    "duration": 7,
    "start_time": "2021-12-09T18:18:29.855Z"
   },
   {
    "duration": 23,
    "start_time": "2021-12-09T18:19:02.432Z"
   },
   {
    "duration": 14,
    "start_time": "2021-12-09T18:19:08.399Z"
   },
   {
    "duration": 12,
    "start_time": "2021-12-09T18:19:18.031Z"
   },
   {
    "duration": 536,
    "start_time": "2021-12-09T18:19:35.215Z"
   },
   {
    "duration": 10,
    "start_time": "2021-12-09T18:19:35.754Z"
   },
   {
    "duration": 27,
    "start_time": "2021-12-09T18:19:36.143Z"
   },
   {
    "duration": 420,
    "start_time": "2021-12-09T18:19:36.720Z"
   },
   {
    "duration": 129,
    "start_time": "2021-12-09T18:19:37.311Z"
   },
   {
    "duration": 174,
    "start_time": "2021-12-09T18:20:08.943Z"
   },
   {
    "duration": 180,
    "start_time": "2021-12-09T18:20:14.496Z"
   },
   {
    "duration": 486,
    "start_time": "2021-12-09T18:20:25.856Z"
   },
   {
    "duration": 635,
    "start_time": "2021-12-09T18:20:31.010Z"
   },
   {
    "duration": 10,
    "start_time": "2021-12-09T18:20:31.647Z"
   },
   {
    "duration": 29,
    "start_time": "2021-12-09T18:20:32.048Z"
   },
   {
    "duration": 12,
    "start_time": "2021-12-09T18:20:33.120Z"
   },
   {
    "duration": 9,
    "start_time": "2021-12-09T18:20:42.225Z"
   },
   {
    "duration": 12,
    "start_time": "2021-12-09T18:20:47.936Z"
   },
   {
    "duration": 22,
    "start_time": "2021-12-09T18:20:50.290Z"
   },
   {
    "duration": 14,
    "start_time": "2021-12-09T18:20:51.040Z"
   },
   {
    "duration": 20,
    "start_time": "2021-12-09T18:20:51.632Z"
   },
   {
    "duration": 15,
    "start_time": "2021-12-09T18:20:52.336Z"
   },
   {
    "duration": 16,
    "start_time": "2021-12-09T18:20:52.912Z"
   },
   {
    "duration": 9,
    "start_time": "2021-12-09T18:20:53.856Z"
   },
   {
    "duration": 9,
    "start_time": "2021-12-09T18:23:02.946Z"
   },
   {
    "duration": 8,
    "start_time": "2021-12-09T18:25:32.308Z"
   },
   {
    "duration": 130,
    "start_time": "2021-12-09T18:26:39.317Z"
   },
   {
    "duration": 43,
    "start_time": "2021-12-09T18:26:49.765Z"
   },
   {
    "duration": 59,
    "start_time": "2021-12-09T18:27:33.589Z"
   },
   {
    "duration": 17,
    "start_time": "2021-12-09T18:27:54.437Z"
   },
   {
    "duration": 21,
    "start_time": "2021-12-09T18:28:00.150Z"
   },
   {
    "duration": 3,
    "start_time": "2021-12-09T18:28:16.454Z"
   },
   {
    "duration": 38,
    "start_time": "2021-12-09T18:28:41.077Z"
   },
   {
    "duration": 39,
    "start_time": "2021-12-09T18:28:46.438Z"
   },
   {
    "duration": 31,
    "start_time": "2021-12-09T18:28:59.942Z"
   },
   {
    "duration": 64,
    "start_time": "2021-12-09T18:29:16.823Z"
   },
   {
    "duration": 39,
    "start_time": "2021-12-09T18:29:23.655Z"
   },
   {
    "duration": 19,
    "start_time": "2021-12-09T18:29:36.279Z"
   },
   {
    "duration": 22,
    "start_time": "2021-12-09T18:29:47.654Z"
   },
   {
    "duration": 4,
    "start_time": "2021-12-09T18:32:03.131Z"
   },
   {
    "duration": 822,
    "start_time": "2021-12-09T18:33:40.394Z"
   },
   {
    "duration": 78,
    "start_time": "2021-12-09T18:34:30.971Z"
   },
   {
    "duration": 147,
    "start_time": "2021-12-09T18:35:09.883Z"
   },
   {
    "duration": 67,
    "start_time": "2021-12-09T18:35:19.963Z"
   },
   {
    "duration": 72,
    "start_time": "2021-12-09T18:35:28.683Z"
   },
   {
    "duration": 53,
    "start_time": "2021-12-09T18:35:38.859Z"
   },
   {
    "duration": 33,
    "start_time": "2021-12-09T18:35:45.563Z"
   },
   {
    "duration": 29,
    "start_time": "2021-12-09T18:35:55.755Z"
   },
   {
    "duration": 568,
    "start_time": "2021-12-10T12:26:57.936Z"
   },
   {
    "duration": 18,
    "start_time": "2021-12-10T12:27:00.814Z"
   },
   {
    "duration": 388,
    "start_time": "2021-12-10T12:28:57.969Z"
   },
   {
    "duration": 502,
    "start_time": "2021-12-10T12:29:04.432Z"
   },
   {
    "duration": 37,
    "start_time": "2021-12-10T12:29:18.545Z"
   },
   {
    "duration": 401,
    "start_time": "2021-12-10T12:31:57.779Z"
   },
   {
    "duration": 100,
    "start_time": "2021-12-10T12:32:05.091Z"
   },
   {
    "duration": 28,
    "start_time": "2021-12-10T12:32:58.052Z"
   },
   {
    "duration": 65,
    "start_time": "2021-12-10T12:33:03.911Z"
   },
   {
    "duration": 32,
    "start_time": "2021-12-10T12:34:38.757Z"
   },
   {
    "duration": 43,
    "start_time": "2021-12-10T12:34:46.085Z"
   },
   {
    "duration": 32,
    "start_time": "2021-12-10T12:34:55.988Z"
   },
   {
    "duration": 34,
    "start_time": "2021-12-10T12:35:19.845Z"
   },
   {
    "duration": 432,
    "start_time": "2021-12-10T12:35:57.141Z"
   },
   {
    "duration": 85,
    "start_time": "2021-12-10T12:36:25.879Z"
   },
   {
    "duration": 593,
    "start_time": "2021-12-10T12:37:30.950Z"
   },
   {
    "duration": 25,
    "start_time": "2021-12-10T12:37:36.150Z"
   },
   {
    "duration": 1558,
    "start_time": "2021-12-10T12:37:48.069Z"
   },
   {
    "duration": 21,
    "start_time": "2021-12-10T12:37:53.686Z"
   },
   {
    "duration": 14187,
    "start_time": "2021-12-10T12:38:02.839Z"
   },
   {
    "duration": 448,
    "start_time": "2021-12-10T12:38:17.942Z"
   },
   {
    "duration": 25,
    "start_time": "2021-12-10T12:38:25.831Z"
   },
   {
    "duration": 6,
    "start_time": "2021-12-10T12:38:31.814Z"
   },
   {
    "duration": 6,
    "start_time": "2021-12-10T12:38:41.958Z"
   },
   {
    "duration": 8,
    "start_time": "2021-12-10T12:38:49.799Z"
   },
   {
    "duration": 7,
    "start_time": "2021-12-10T12:39:12.791Z"
   },
   {
    "duration": 492,
    "start_time": "2021-12-10T12:39:22.055Z"
   },
   {
    "duration": 413,
    "start_time": "2021-12-10T12:39:32.551Z"
   },
   {
    "duration": 525,
    "start_time": "2021-12-10T12:39:37.031Z"
   },
   {
    "duration": 7,
    "start_time": "2021-12-10T12:39:50.903Z"
   },
   {
    "duration": 18,
    "start_time": "2021-12-10T12:40:30.584Z"
   },
   {
    "duration": 20,
    "start_time": "2021-12-10T12:40:47.288Z"
   },
   {
    "duration": 32,
    "start_time": "2021-12-10T12:40:56.345Z"
   },
   {
    "duration": 4,
    "start_time": "2021-12-10T12:40:57.001Z"
   },
   {
    "duration": 33,
    "start_time": "2021-12-10T12:41:00.888Z"
   },
   {
    "duration": 585,
    "start_time": "2021-12-10T12:41:06.040Z"
   },
   {
    "duration": 31,
    "start_time": "2021-12-10T12:41:08.823Z"
   },
   {
    "duration": 7,
    "start_time": "2021-12-10T12:41:09.240Z"
   },
   {
    "duration": 15,
    "start_time": "2021-12-10T12:41:15.416Z"
   },
   {
    "duration": 381,
    "start_time": "2021-12-10T12:42:15.752Z"
   },
   {
    "duration": 16,
    "start_time": "2021-12-10T12:42:34.778Z"
   },
   {
    "duration": 5,
    "start_time": "2021-12-10T12:42:39.592Z"
   },
   {
    "duration": 17,
    "start_time": "2021-12-10T12:42:40.377Z"
   },
   {
    "duration": 29,
    "start_time": "2021-12-10T12:42:53.337Z"
   },
   {
    "duration": 7,
    "start_time": "2021-12-10T12:42:53.864Z"
   },
   {
    "duration": 17,
    "start_time": "2021-12-10T12:42:54.362Z"
   },
   {
    "duration": 422,
    "start_time": "2021-12-10T12:55:25.682Z"
   },
   {
    "duration": 21,
    "start_time": "2021-12-10T12:55:34.929Z"
   },
   {
    "duration": 31,
    "start_time": "2021-12-10T12:56:27.954Z"
   },
   {
    "duration": 40,
    "start_time": "2021-12-10T12:57:02.388Z"
   },
   {
    "duration": 32,
    "start_time": "2021-12-10T12:57:03.059Z"
   },
   {
    "duration": 30,
    "start_time": "2021-12-10T12:58:40.804Z"
   },
   {
    "duration": 39,
    "start_time": "2021-12-10T13:03:03.464Z"
   },
   {
    "duration": 44,
    "start_time": "2021-12-10T13:03:14.696Z"
   },
   {
    "duration": 33,
    "start_time": "2021-12-10T13:03:17.912Z"
   },
   {
    "duration": 33,
    "start_time": "2021-12-10T13:03:22.679Z"
   },
   {
    "duration": 42,
    "start_time": "2021-12-10T13:03:26.599Z"
   },
   {
    "duration": 1134,
    "start_time": "2021-12-10T13:03:47.368Z"
   },
   {
    "duration": 1027,
    "start_time": "2021-12-10T13:03:48.631Z"
   },
   {
    "duration": 42,
    "start_time": "2021-12-10T13:04:19.449Z"
   },
   {
    "duration": 37,
    "start_time": "2021-12-10T13:04:23.336Z"
   },
   {
    "duration": 32,
    "start_time": "2021-12-10T13:04:26.632Z"
   },
   {
    "duration": 1061,
    "start_time": "2021-12-10T13:04:55.257Z"
   },
   {
    "duration": 457,
    "start_time": "2021-12-10T13:05:01.561Z"
   },
   {
    "duration": 35,
    "start_time": "2021-12-10T13:05:13.786Z"
   },
   {
    "duration": 36,
    "start_time": "2021-12-10T13:05:45.673Z"
   },
   {
    "duration": 36,
    "start_time": "2021-12-10T13:06:02.027Z"
   },
   {
    "duration": 135,
    "start_time": "2021-12-10T13:06:35.451Z"
   },
   {
    "duration": 559,
    "start_time": "2021-12-10T13:06:38.698Z"
   },
   {
    "duration": 535,
    "start_time": "2021-12-10T13:06:45.754Z"
   },
   {
    "duration": 415,
    "start_time": "2021-12-10T13:06:51.418Z"
   },
   {
    "duration": 36,
    "start_time": "2021-12-10T13:07:04.090Z"
   },
   {
    "duration": 36,
    "start_time": "2021-12-10T13:09:58.189Z"
   },
   {
    "duration": 811,
    "start_time": "2021-12-10T13:10:16.716Z"
   },
   {
    "duration": 568,
    "start_time": "2021-12-10T13:10:40.445Z"
   },
   {
    "duration": 409,
    "start_time": "2021-12-10T13:10:48.381Z"
   },
   {
    "duration": 38,
    "start_time": "2021-12-10T13:33:15.328Z"
   },
   {
    "duration": 418,
    "start_time": "2021-12-10T13:33:18.413Z"
   },
   {
    "duration": 37,
    "start_time": "2021-12-10T13:33:36.430Z"
   },
   {
    "duration": 15,
    "start_time": "2021-12-10T13:33:37.293Z"
   },
   {
    "duration": 21,
    "start_time": "2021-12-10T13:33:59.742Z"
   },
   {
    "duration": 50,
    "start_time": "2021-12-10T13:34:05.726Z"
   },
   {
    "duration": 38,
    "start_time": "2021-12-10T13:34:42.576Z"
   },
   {
    "duration": 33,
    "start_time": "2021-12-10T13:34:43.023Z"
   },
   {
    "duration": 32,
    "start_time": "2021-12-10T13:34:43.502Z"
   },
   {
    "duration": 37,
    "start_time": "2021-12-10T13:34:43.935Z"
   },
   {
    "duration": 50,
    "start_time": "2021-12-10T13:34:44.430Z"
   },
   {
    "duration": 38,
    "start_time": "2021-12-10T13:35:26.224Z"
   },
   {
    "duration": 36,
    "start_time": "2021-12-10T13:36:33.281Z"
   },
   {
    "duration": 35,
    "start_time": "2021-12-10T13:36:33.921Z"
   },
   {
    "duration": 38,
    "start_time": "2021-12-10T13:36:34.544Z"
   },
   {
    "duration": 17,
    "start_time": "2021-12-10T13:36:35.186Z"
   },
   {
    "duration": 42,
    "start_time": "2021-12-10T13:36:36.208Z"
   },
   {
    "duration": 13,
    "start_time": "2021-12-10T13:37:34.224Z"
   },
   {
    "duration": 27,
    "start_time": "2021-12-10T13:37:43.632Z"
   },
   {
    "duration": 24,
    "start_time": "2021-12-10T13:38:50.065Z"
   },
   {
    "duration": 12,
    "start_time": "2021-12-10T15:22:25.770Z"
   },
   {
    "duration": 12,
    "start_time": "2021-12-10T15:28:07.374Z"
   },
   {
    "duration": 400,
    "start_time": "2021-12-10T15:30:52.224Z"
   },
   {
    "duration": 11186,
    "start_time": "2021-12-10T15:31:22.321Z"
   },
   {
    "duration": 8,
    "start_time": "2021-12-10T15:31:34.353Z"
   },
   {
    "duration": 31,
    "start_time": "2021-12-10T15:31:44.656Z"
   },
   {
    "duration": 409,
    "start_time": "2021-12-10T15:32:46.514Z"
   },
   {
    "duration": 10,
    "start_time": "2021-12-10T15:33:10.322Z"
   },
   {
    "duration": 132,
    "start_time": "2021-12-10T15:37:41.493Z"
   },
   {
    "duration": 408,
    "start_time": "2021-12-10T15:38:16.760Z"
   },
   {
    "duration": 129,
    "start_time": "2021-12-10T15:45:13.546Z"
   },
   {
    "duration": 149,
    "start_time": "2021-12-10T15:45:24.090Z"
   },
   {
    "duration": 124,
    "start_time": "2021-12-10T15:45:32.411Z"
   },
   {
    "duration": 122,
    "start_time": "2021-12-10T15:45:37.915Z"
   },
   {
    "duration": 482,
    "start_time": "2021-12-10T15:47:17.867Z"
   },
   {
    "duration": 126,
    "start_time": "2021-12-10T15:47:57.548Z"
   },
   {
    "duration": 131,
    "start_time": "2021-12-10T15:48:47.596Z"
   },
   {
    "duration": 6,
    "start_time": "2021-12-10T15:49:32.526Z"
   },
   {
    "duration": 32,
    "start_time": "2021-12-10T15:49:33.965Z"
   },
   {
    "duration": 135,
    "start_time": "2021-12-10T15:54:29.536Z"
   },
   {
    "duration": 524,
    "start_time": "2021-12-10T15:54:56.529Z"
   },
   {
    "duration": 7,
    "start_time": "2021-12-10T15:55:51.075Z"
   },
   {
    "duration": 32,
    "start_time": "2021-12-10T15:55:52.753Z"
   },
   {
    "duration": 8,
    "start_time": "2021-12-10T15:58:00.723Z"
   },
   {
    "duration": 33,
    "start_time": "2021-12-10T15:58:01.955Z"
   },
   {
    "duration": 127,
    "start_time": "2021-12-10T16:00:27.797Z"
   },
   {
    "duration": 238,
    "start_time": "2021-12-10T16:00:36.725Z"
   },
   {
    "duration": 420,
    "start_time": "2021-12-10T16:01:00.997Z"
   },
   {
    "duration": 7,
    "start_time": "2021-12-10T16:01:08.501Z"
   },
   {
    "duration": 8,
    "start_time": "2021-12-10T16:01:23.461Z"
   },
   {
    "duration": 13,
    "start_time": "2021-12-10T16:03:59.032Z"
   },
   {
    "duration": 37,
    "start_time": "2021-12-10T16:04:17.559Z"
   },
   {
    "duration": 13,
    "start_time": "2021-12-10T16:05:45.065Z"
   },
   {
    "duration": 1128,
    "start_time": "2021-12-10T16:06:25.498Z"
   },
   {
    "duration": 18,
    "start_time": "2021-12-10T16:06:57.625Z"
   },
   {
    "duration": 18,
    "start_time": "2021-12-10T16:07:49.728Z"
   },
   {
    "duration": 33,
    "start_time": "2021-12-10T16:07:54.089Z"
   },
   {
    "duration": 18,
    "start_time": "2021-12-10T16:09:35.772Z"
   },
   {
    "duration": 23,
    "start_time": "2021-12-10T16:09:38.220Z"
   },
   {
    "duration": 728,
    "start_time": "2021-12-10T16:15:22.657Z"
   },
   {
    "duration": 715,
    "start_time": "2021-12-10T16:17:12.674Z"
   },
   {
    "duration": 708,
    "start_time": "2021-12-10T16:18:00.051Z"
   },
   {
    "duration": 660,
    "start_time": "2021-12-10T16:18:18.227Z"
   },
   {
    "duration": 674,
    "start_time": "2021-12-10T16:18:40.579Z"
   },
   {
    "duration": 682,
    "start_time": "2021-12-10T16:19:09.332Z"
   },
   {
    "duration": 767,
    "start_time": "2021-12-10T16:19:35.670Z"
   },
   {
    "duration": 697,
    "start_time": "2021-12-10T16:19:45.204Z"
   },
   {
    "duration": 798,
    "start_time": "2021-12-10T17:07:38.550Z"
   },
   {
    "duration": 1865,
    "start_time": "2021-12-10T17:07:58.981Z"
   },
   {
    "duration": 195,
    "start_time": "2021-12-10T17:08:54.790Z"
   },
   {
    "duration": 688,
    "start_time": "2021-12-10T17:09:10.630Z"
   },
   {
    "duration": 652,
    "start_time": "2021-12-10T17:09:19.798Z"
   },
   {
    "duration": 7034,
    "start_time": "2021-12-10T17:09:40.231Z"
   },
   {
    "duration": 7394,
    "start_time": "2021-12-10T17:09:56.120Z"
   },
   {
    "duration": 6722,
    "start_time": "2021-12-10T17:11:03.657Z"
   },
   {
    "duration": 8044,
    "start_time": "2021-12-10T17:11:56.233Z"
   },
   {
    "duration": 1293,
    "start_time": "2021-12-10T17:12:40.248Z"
   },
   {
    "duration": 15,
    "start_time": "2021-12-10T17:12:51.481Z"
   },
   {
    "duration": 26,
    "start_time": "2021-12-10T17:13:18.109Z"
   },
   {
    "duration": 6,
    "start_time": "2021-12-10T17:13:24.442Z"
   },
   {
    "duration": 8866,
    "start_time": "2021-12-10T17:13:32.793Z"
   },
   {
    "duration": 7,
    "start_time": "2021-12-10T17:13:46.076Z"
   },
   {
    "duration": 6,
    "start_time": "2021-12-10T17:14:20.122Z"
   },
   {
    "duration": 123,
    "start_time": "2021-12-10T17:15:56.892Z"
   },
   {
    "duration": 7,
    "start_time": "2021-12-10T17:16:13.997Z"
   },
   {
    "duration": 363,
    "start_time": "2021-12-10T17:22:16.483Z"
   },
   {
    "duration": 356,
    "start_time": "2021-12-10T17:22:26.640Z"
   },
   {
    "duration": 31,
    "start_time": "2021-12-10T17:22:35.151Z"
   },
   {
    "duration": 16,
    "start_time": "2021-12-10T17:23:18.562Z"
   },
   {
    "duration": 345,
    "start_time": "2021-12-10T17:23:48.321Z"
   },
   {
    "duration": 1291,
    "start_time": "2021-12-10T17:25:04.946Z"
   },
   {
    "duration": 141,
    "start_time": "2021-12-10T17:25:13.265Z"
   },
   {
    "duration": 40,
    "start_time": "2021-12-10T17:25:16.738Z"
   },
   {
    "duration": 371,
    "start_time": "2021-12-10T17:25:25.555Z"
   },
   {
    "duration": 605,
    "start_time": "2021-12-10T17:26:14.867Z"
   },
   {
    "duration": 444,
    "start_time": "2021-12-10T17:26:31.012Z"
   },
   {
    "duration": 21,
    "start_time": "2021-12-10T17:26:46.435Z"
   },
   {
    "duration": 22,
    "start_time": "2021-12-10T17:26:58.755Z"
   },
   {
    "duration": 14,
    "start_time": "2021-12-10T17:30:43.287Z"
   },
   {
    "duration": 14,
    "start_time": "2021-12-10T17:30:51.878Z"
   },
   {
    "duration": 22,
    "start_time": "2021-12-10T17:30:52.550Z"
   },
   {
    "duration": 357,
    "start_time": "2021-12-10T17:31:43.463Z"
   },
   {
    "duration": 20,
    "start_time": "2021-12-10T17:32:00.439Z"
   },
   {
    "duration": 363,
    "start_time": "2021-12-10T17:33:53.545Z"
   },
   {
    "duration": 346,
    "start_time": "2021-12-10T17:34:23.017Z"
   },
   {
    "duration": 363,
    "start_time": "2021-12-10T17:36:59.595Z"
   },
   {
    "duration": 19,
    "start_time": "2021-12-10T17:37:00.187Z"
   },
   {
    "duration": 212,
    "start_time": "2021-12-10T17:37:23.499Z"
   },
   {
    "duration": 142,
    "start_time": "2021-12-10T17:37:36.620Z"
   },
   {
    "duration": 230,
    "start_time": "2021-12-10T17:37:59.354Z"
   },
   {
    "duration": 148,
    "start_time": "2021-12-10T17:38:27.916Z"
   },
   {
    "duration": 336,
    "start_time": "2021-12-10T17:38:36.476Z"
   },
   {
    "duration": 19,
    "start_time": "2021-12-10T17:38:38.075Z"
   },
   {
    "duration": 4,
    "start_time": "2021-12-10T17:38:55.073Z"
   },
   {
    "duration": 5,
    "start_time": "2021-12-10T17:38:55.080Z"
   },
   {
    "duration": 5,
    "start_time": "2021-12-10T17:38:55.088Z"
   },
   {
    "duration": 3283,
    "start_time": "2021-12-10T17:38:55.096Z"
   },
   {
    "duration": 12,
    "start_time": "2021-12-10T17:38:58.381Z"
   },
   {
    "duration": 28,
    "start_time": "2021-12-10T17:38:58.396Z"
   },
   {
    "duration": 11,
    "start_time": "2021-12-10T17:38:58.426Z"
   },
   {
    "duration": 27,
    "start_time": "2021-12-10T17:38:58.439Z"
   },
   {
    "duration": 12,
    "start_time": "2021-12-10T17:38:58.470Z"
   },
   {
    "duration": 23,
    "start_time": "2021-12-10T17:38:58.485Z"
   },
   {
    "duration": 51,
    "start_time": "2021-12-10T17:38:58.511Z"
   },
   {
    "duration": 25,
    "start_time": "2021-12-10T17:38:58.565Z"
   },
   {
    "duration": 17,
    "start_time": "2021-12-10T17:38:58.593Z"
   },
   {
    "duration": 51,
    "start_time": "2021-12-10T17:38:58.612Z"
   },
   {
    "duration": 18,
    "start_time": "2021-12-10T17:38:58.666Z"
   },
   {
    "duration": 8,
    "start_time": "2021-12-10T17:38:58.687Z"
   },
   {
    "duration": 130,
    "start_time": "2021-12-10T17:38:58.697Z"
   },
   {
    "duration": 159,
    "start_time": "2021-12-10T17:38:58.830Z"
   },
   {
    "duration": 54,
    "start_time": "2021-12-10T17:38:58.991Z"
   },
   {
    "duration": 45,
    "start_time": "2021-12-10T17:38:59.059Z"
   },
   {
    "duration": 56,
    "start_time": "2021-12-10T17:38:59.107Z"
   },
   {
    "duration": 30,
    "start_time": "2021-12-10T17:38:59.165Z"
   },
   {
    "duration": 64,
    "start_time": "2021-12-10T17:38:59.197Z"
   },
   {
    "duration": 31,
    "start_time": "2021-12-10T17:38:59.264Z"
   },
   {
    "duration": 28,
    "start_time": "2021-12-10T17:38:59.297Z"
   },
   {
    "duration": 43,
    "start_time": "2021-12-10T17:38:59.327Z"
   },
   {
    "duration": 21,
    "start_time": "2021-12-10T17:38:59.375Z"
   },
   {
    "duration": 20,
    "start_time": "2021-12-10T17:38:59.398Z"
   },
   {
    "duration": 396,
    "start_time": "2021-12-10T17:38:59.420Z"
   },
   {
    "duration": 19,
    "start_time": "2021-12-10T17:38:59.818Z"
   },
   {
    "duration": 3,
    "start_time": "2021-12-10T17:40:01.372Z"
   },
   {
    "duration": 4,
    "start_time": "2021-12-10T17:46:20.304Z"
   },
   {
    "duration": 3,
    "start_time": "2021-12-10T17:46:20.624Z"
   },
   {
    "duration": 3,
    "start_time": "2021-12-10T17:46:21.008Z"
   },
   {
    "duration": 527,
    "start_time": "2021-12-10T17:46:21.329Z"
   },
   {
    "duration": 11,
    "start_time": "2021-12-10T17:46:21.859Z"
   },
   {
    "duration": 34,
    "start_time": "2021-12-10T17:46:21.874Z"
   },
   {
    "duration": 13,
    "start_time": "2021-12-10T17:46:22.144Z"
   },
   {
    "duration": 10,
    "start_time": "2021-12-10T17:46:22.353Z"
   },
   {
    "duration": 11,
    "start_time": "2021-12-10T17:46:22.705Z"
   },
   {
    "duration": 21,
    "start_time": "2021-12-10T17:46:22.944Z"
   },
   {
    "duration": 10,
    "start_time": "2021-12-10T17:46:23.184Z"
   },
   {
    "duration": 19,
    "start_time": "2021-12-10T17:46:23.409Z"
   },
   {
    "duration": 12,
    "start_time": "2021-12-10T17:46:23.808Z"
   },
   {
    "duration": 9,
    "start_time": "2021-12-10T17:46:24.641Z"
   },
   {
    "duration": 16,
    "start_time": "2021-12-10T17:46:24.848Z"
   },
   {
    "duration": 10,
    "start_time": "2021-12-10T17:46:25.056Z"
   },
   {
    "duration": 84,
    "start_time": "2021-12-10T17:46:26.736Z"
   },
   {
    "duration": 137,
    "start_time": "2021-12-10T17:46:28.385Z"
   },
   {
    "duration": 59,
    "start_time": "2021-12-10T17:46:29.312Z"
   },
   {
    "duration": 48,
    "start_time": "2021-12-10T17:46:29.520Z"
   },
   {
    "duration": 37,
    "start_time": "2021-12-10T17:46:29.728Z"
   },
   {
    "duration": 32,
    "start_time": "2021-12-10T17:46:29.921Z"
   },
   {
    "duration": 39,
    "start_time": "2021-12-10T17:46:31.121Z"
   },
   {
    "duration": 32,
    "start_time": "2021-12-10T17:46:31.616Z"
   },
   {
    "duration": 29,
    "start_time": "2021-12-10T17:46:31.824Z"
   },
   {
    "duration": 15,
    "start_time": "2021-12-10T17:46:32.240Z"
   },
   {
    "duration": 22,
    "start_time": "2021-12-10T17:46:32.449Z"
   },
   {
    "duration": 11,
    "start_time": "2021-12-10T17:46:51.393Z"
   },
   {
    "duration": 24,
    "start_time": "2021-12-10T17:46:53.681Z"
   },
   {
    "duration": 20,
    "start_time": "2021-12-10T17:46:54.417Z"
   },
   {
    "duration": 3,
    "start_time": "2021-12-10T17:47:08.155Z"
   },
   {
    "duration": 15,
    "start_time": "2021-12-10T17:47:08.161Z"
   },
   {
    "duration": 10,
    "start_time": "2021-12-10T17:47:08.179Z"
   },
   {
    "duration": 2033,
    "start_time": "2021-12-10T17:47:08.192Z"
   },
   {
    "duration": 11,
    "start_time": "2021-12-10T17:47:10.227Z"
   },
   {
    "duration": 45,
    "start_time": "2021-12-10T17:47:10.241Z"
   },
   {
    "duration": 11,
    "start_time": "2021-12-10T17:47:10.289Z"
   },
   {
    "duration": 13,
    "start_time": "2021-12-10T17:47:10.303Z"
   },
   {
    "duration": 42,
    "start_time": "2021-12-10T17:47:10.319Z"
   },
   {
    "duration": 23,
    "start_time": "2021-12-10T17:47:10.363Z"
   },
   {
    "duration": 10,
    "start_time": "2021-12-10T17:47:10.389Z"
   },
   {
    "duration": 58,
    "start_time": "2021-12-10T17:47:10.402Z"
   },
   {
    "duration": 15,
    "start_time": "2021-12-10T17:47:10.462Z"
   },
   {
    "duration": 11,
    "start_time": "2021-12-10T17:47:10.480Z"
   },
   {
    "duration": 15,
    "start_time": "2021-12-10T17:47:10.494Z"
   },
   {
    "duration": 10,
    "start_time": "2021-12-10T17:47:10.561Z"
   },
   {
    "duration": 106,
    "start_time": "2021-12-10T17:47:10.573Z"
   },
   {
    "duration": 152,
    "start_time": "2021-12-10T17:47:10.681Z"
   },
   {
    "duration": 66,
    "start_time": "2021-12-10T17:47:10.835Z"
   },
   {
    "duration": 67,
    "start_time": "2021-12-10T17:47:10.904Z"
   },
   {
    "duration": 34,
    "start_time": "2021-12-10T17:47:10.973Z"
   },
   {
    "duration": 61,
    "start_time": "2021-12-10T17:47:11.009Z"
   },
   {
    "duration": 39,
    "start_time": "2021-12-10T17:47:11.077Z"
   },
   {
    "duration": 67,
    "start_time": "2021-12-10T17:47:11.120Z"
   },
   {
    "duration": 28,
    "start_time": "2021-12-10T17:47:11.190Z"
   },
   {
    "duration": 40,
    "start_time": "2021-12-10T17:47:11.220Z"
   },
   {
    "duration": 27,
    "start_time": "2021-12-10T17:47:11.263Z"
   },
   {
    "duration": 21,
    "start_time": "2021-12-10T17:47:11.292Z"
   },
   {
    "duration": 433,
    "start_time": "2021-12-10T17:47:11.315Z"
   },
   {
    "duration": 25,
    "start_time": "2021-12-10T17:47:11.751Z"
   },
   {
    "duration": 311,
    "start_time": "2021-12-10T17:48:17.699Z"
   },
   {
    "duration": 286,
    "start_time": "2021-12-10T17:48:26.898Z"
   },
   {
    "duration": 54,
    "start_time": "2021-12-10T17:48:52.884Z"
   },
   {
    "duration": 58,
    "start_time": "2021-12-10T17:49:06.227Z"
   },
   {
    "duration": 405,
    "start_time": "2021-12-10T17:50:16.948Z"
   },
   {
    "duration": 23,
    "start_time": "2021-12-10T17:50:41.636Z"
   },
   {
    "duration": 361,
    "start_time": "2021-12-10T17:53:43.607Z"
   },
   {
    "duration": 19,
    "start_time": "2021-12-10T17:53:44.823Z"
   },
   {
    "duration": 15,
    "start_time": "2021-12-10T17:53:46.949Z"
   },
   {
    "duration": 55,
    "start_time": "2021-12-10T17:53:55.725Z"
   },
   {
    "duration": 58,
    "start_time": "2021-12-10T17:53:56.566Z"
   },
   {
    "duration": 334,
    "start_time": "2021-12-10T17:54:20.966Z"
   },
   {
    "duration": 313,
    "start_time": "2021-12-10T17:54:22.486Z"
   },
   {
    "duration": 295,
    "start_time": "2021-12-10T18:12:39.108Z"
   },
   {
    "duration": 325,
    "start_time": "2021-12-10T18:12:42.580Z"
   },
   {
    "duration": 303,
    "start_time": "2021-12-10T18:13:17.715Z"
   },
   {
    "duration": 342,
    "start_time": "2021-12-10T18:13:19.859Z"
   },
   {
    "duration": 480,
    "start_time": "2021-12-10T18:18:57.048Z"
   },
   {
    "duration": 463,
    "start_time": "2021-12-10T18:19:59.542Z"
   },
   {
    "duration": 325,
    "start_time": "2021-12-10T18:21:56.603Z"
   },
   {
    "duration": 634,
    "start_time": "2021-12-10T18:22:16.090Z"
   },
   {
    "duration": 683,
    "start_time": "2021-12-10T18:22:23.850Z"
   },
   {
    "duration": 336,
    "start_time": "2021-12-10T18:22:28.587Z"
   },
   {
    "duration": 225,
    "start_time": "2021-12-10T18:23:53.324Z"
   },
   {
    "duration": 416,
    "start_time": "2021-12-10T18:23:57.916Z"
   },
   {
    "duration": 329,
    "start_time": "2021-12-10T18:24:05.755Z"
   },
   {
    "duration": 542,
    "start_time": "2021-12-10T18:25:21.004Z"
   },
   {
    "duration": 319,
    "start_time": "2021-12-10T18:25:47.885Z"
   },
   {
    "duration": 558,
    "start_time": "2021-12-10T18:25:57.183Z"
   },
   {
    "duration": 129,
    "start_time": "2021-12-10T18:26:18.157Z"
   },
   {
    "duration": 557,
    "start_time": "2021-12-10T18:26:22.365Z"
   },
   {
    "duration": 328,
    "start_time": "2021-12-10T18:26:33.341Z"
   },
   {
    "duration": 332,
    "start_time": "2021-12-10T18:55:53.170Z"
   },
   {
    "duration": 333,
    "start_time": "2021-12-10T18:56:18.819Z"
   },
   {
    "duration": 11903,
    "start_time": "2021-12-10T19:00:58.310Z"
   },
   {
    "duration": 1671,
    "start_time": "2021-12-10T19:01:16.167Z"
   },
   {
    "duration": 538,
    "start_time": "2021-12-10T21:41:54.592Z"
   },
   {
    "duration": 180,
    "start_time": "2021-12-10T21:43:43.644Z"
   },
   {
    "duration": 208,
    "start_time": "2021-12-10T21:43:58.570Z"
   },
   {
    "duration": 244,
    "start_time": "2021-12-10T21:44:49.451Z"
   },
   {
    "duration": 244,
    "start_time": "2021-12-10T21:44:59.082Z"
   },
   {
    "duration": 242,
    "start_time": "2021-12-10T21:45:03.099Z"
   },
   {
    "duration": 435,
    "start_time": "2021-12-10T21:45:06.475Z"
   },
   {
    "duration": 407,
    "start_time": "2021-12-10T21:45:10.619Z"
   },
   {
    "duration": 244,
    "start_time": "2021-12-10T21:45:15.274Z"
   },
   {
    "duration": 256,
    "start_time": "2021-12-10T21:45:22.507Z"
   },
   {
    "duration": 237,
    "start_time": "2021-12-10T21:46:17.371Z"
   },
   {
    "duration": 5,
    "start_time": "2021-12-10T21:46:56.092Z"
   },
   {
    "duration": 919,
    "start_time": "2021-12-10T21:47:25.340Z"
   },
   {
    "duration": 4,
    "start_time": "2021-12-10T21:50:30.814Z"
   },
   {
    "duration": 4,
    "start_time": "2021-12-10T22:23:25.270Z"
   },
   {
    "duration": 12,
    "start_time": "2021-12-10T22:24:53.655Z"
   },
   {
    "duration": 12,
    "start_time": "2021-12-10T22:26:19.864Z"
   },
   {
    "duration": 32,
    "start_time": "2021-12-10T22:26:42.696Z"
   },
   {
    "duration": 32,
    "start_time": "2021-12-10T22:26:54.457Z"
   },
   {
    "duration": 285,
    "start_time": "2021-12-10T22:27:55.607Z"
   },
   {
    "duration": 9,
    "start_time": "2021-12-10T22:28:00.841Z"
   },
   {
    "duration": 4,
    "start_time": "2021-12-11T10:46:53.352Z"
   },
   {
    "duration": 4,
    "start_time": "2021-12-11T10:46:53.743Z"
   },
   {
    "duration": 3,
    "start_time": "2021-12-11T10:46:54.080Z"
   },
   {
    "duration": 494,
    "start_time": "2021-12-11T10:46:54.448Z"
   },
   {
    "duration": 10,
    "start_time": "2021-12-11T10:46:54.945Z"
   },
   {
    "duration": 27,
    "start_time": "2021-12-11T10:46:55.200Z"
   },
   {
    "duration": 23,
    "start_time": "2021-12-11T10:46:55.715Z"
   },
   {
    "duration": 9,
    "start_time": "2021-12-11T10:46:56.256Z"
   },
   {
    "duration": 11,
    "start_time": "2021-12-11T10:46:57.024Z"
   },
   {
    "duration": 22,
    "start_time": "2021-12-11T10:46:57.344Z"
   },
   {
    "duration": 11,
    "start_time": "2021-12-11T10:46:57.792Z"
   },
   {
    "duration": 21,
    "start_time": "2021-12-11T10:46:58.351Z"
   },
   {
    "duration": 13,
    "start_time": "2021-12-11T10:46:58.898Z"
   },
   {
    "duration": 9,
    "start_time": "2021-12-11T10:46:59.279Z"
   },
   {
    "duration": 15,
    "start_time": "2021-12-11T10:46:59.712Z"
   },
   {
    "duration": 9,
    "start_time": "2021-12-11T10:47:00.335Z"
   },
   {
    "duration": 82,
    "start_time": "2021-12-11T10:47:03.056Z"
   },
   {
    "duration": 143,
    "start_time": "2021-12-11T10:47:03.743Z"
   },
   {
    "duration": 55,
    "start_time": "2021-12-11T10:47:12.672Z"
   },
   {
    "duration": 47,
    "start_time": "2021-12-11T10:47:13.137Z"
   },
   {
    "duration": 32,
    "start_time": "2021-12-11T10:47:27.988Z"
   },
   {
    "duration": 30,
    "start_time": "2021-12-11T10:47:28.815Z"
   },
   {
    "duration": 37,
    "start_time": "2021-12-11T10:47:38.096Z"
   },
   {
    "duration": 32,
    "start_time": "2021-12-11T10:47:39.152Z"
   },
   {
    "duration": 9,
    "start_time": "2021-12-11T10:48:03.968Z"
   },
   {
    "duration": 27,
    "start_time": "2021-12-11T10:48:28.258Z"
   },
   {
    "duration": 13,
    "start_time": "2021-12-11T10:48:35.473Z"
   },
   {
    "duration": 8,
    "start_time": "2021-12-11T10:48:39.809Z"
   },
   {
    "duration": 23,
    "start_time": "2021-12-11T10:48:42.641Z"
   },
   {
    "duration": 12,
    "start_time": "2021-12-11T10:48:54.992Z"
   },
   {
    "duration": 6,
    "start_time": "2021-12-11T10:49:22.380Z"
   },
   {
    "duration": 6,
    "start_time": "2021-12-11T10:49:22.389Z"
   },
   {
    "duration": 5,
    "start_time": "2021-12-11T10:49:22.399Z"
   },
   {
    "duration": 527,
    "start_time": "2021-12-11T10:49:22.408Z"
   },
   {
    "duration": 11,
    "start_time": "2021-12-11T10:49:22.938Z"
   },
   {
    "duration": 29,
    "start_time": "2021-12-11T10:49:22.951Z"
   },
   {
    "duration": 11,
    "start_time": "2021-12-11T10:49:22.983Z"
   },
   {
    "duration": 11,
    "start_time": "2021-12-11T10:49:22.999Z"
   },
   {
    "duration": 55,
    "start_time": "2021-12-11T10:49:23.014Z"
   },
   {
    "duration": 23,
    "start_time": "2021-12-11T10:49:23.072Z"
   },
   {
    "duration": 10,
    "start_time": "2021-12-11T10:49:23.098Z"
   },
   {
    "duration": 59,
    "start_time": "2021-12-11T10:49:23.110Z"
   },
   {
    "duration": 12,
    "start_time": "2021-12-11T10:49:23.171Z"
   },
   {
    "duration": 8,
    "start_time": "2021-12-11T10:49:23.186Z"
   },
   {
    "duration": 15,
    "start_time": "2021-12-11T10:49:23.197Z"
   },
   {
    "duration": 10,
    "start_time": "2021-12-11T10:49:23.259Z"
   },
   {
    "duration": 116,
    "start_time": "2021-12-11T10:49:23.271Z"
   },
   {
    "duration": 156,
    "start_time": "2021-12-11T10:49:23.389Z"
   },
   {
    "duration": 68,
    "start_time": "2021-12-11T10:49:23.547Z"
   },
   {
    "duration": 73,
    "start_time": "2021-12-11T10:49:23.617Z"
   },
   {
    "duration": 32,
    "start_time": "2021-12-11T10:49:23.692Z"
   },
   {
    "duration": 61,
    "start_time": "2021-12-11T10:49:23.727Z"
   },
   {
    "duration": 35,
    "start_time": "2021-12-11T10:49:23.793Z"
   },
   {
    "duration": 31,
    "start_time": "2021-12-11T10:49:23.858Z"
   },
   {
    "duration": 28,
    "start_time": "2021-12-11T10:49:23.891Z"
   },
   {
    "duration": 39,
    "start_time": "2021-12-11T10:49:23.922Z"
   },
   {
    "duration": 9,
    "start_time": "2021-12-11T10:49:23.963Z"
   },
   {
    "duration": 21,
    "start_time": "2021-12-11T10:49:23.974Z"
   },
   {
    "duration": 9,
    "start_time": "2021-12-11T10:49:23.998Z"
   },
   {
    "duration": 61,
    "start_time": "2021-12-11T10:49:24.009Z"
   },
   {
    "duration": 396,
    "start_time": "2021-12-11T10:49:24.072Z"
   },
   {
    "duration": 19,
    "start_time": "2021-12-11T10:49:24.470Z"
   },
   {
    "duration": 81,
    "start_time": "2021-12-11T10:49:24.492Z"
   },
   {
    "duration": 55,
    "start_time": "2021-12-11T10:49:24.576Z"
   },
   {
    "duration": 4,
    "start_time": "2021-12-11T10:49:24.633Z"
   },
   {
    "duration": 978,
    "start_time": "2021-12-11T10:49:24.639Z"
   },
   {
    "duration": 1444,
    "start_time": "2021-12-11T10:49:25.620Z"
   },
   {
    "duration": 363,
    "start_time": "2021-12-11T10:49:27.067Z"
   },
   {
    "duration": 28,
    "start_time": "2021-12-11T10:49:27.433Z"
   },
   {
    "duration": 14,
    "start_time": "2021-12-11T10:49:27.464Z"
   },
   {
    "duration": 35,
    "start_time": "2021-12-11T10:49:27.480Z"
   },
   {
    "duration": 45,
    "start_time": "2021-12-11T10:49:27.517Z"
   },
   {
    "duration": 23,
    "start_time": "2021-12-11T10:50:31.938Z"
   },
   {
    "duration": 11,
    "start_time": "2021-12-11T10:51:25.251Z"
   },
   {
    "duration": 9,
    "start_time": "2021-12-11T10:52:58.244Z"
   },
   {
    "duration": 4,
    "start_time": "2021-12-11T10:53:44.407Z"
   },
   {
    "duration": 8,
    "start_time": "2021-12-11T10:53:44.414Z"
   },
   {
    "duration": 6,
    "start_time": "2021-12-11T10:53:44.425Z"
   },
   {
    "duration": 522,
    "start_time": "2021-12-11T10:53:44.434Z"
   },
   {
    "duration": 11,
    "start_time": "2021-12-11T10:53:44.958Z"
   },
   {
    "duration": 31,
    "start_time": "2021-12-11T10:53:44.971Z"
   },
   {
    "duration": 14,
    "start_time": "2021-12-11T10:53:45.005Z"
   },
   {
    "duration": 43,
    "start_time": "2021-12-11T10:53:45.022Z"
   },
   {
    "duration": 16,
    "start_time": "2021-12-11T10:53:45.069Z"
   },
   {
    "duration": 26,
    "start_time": "2021-12-11T10:53:45.089Z"
   },
   {
    "duration": 49,
    "start_time": "2021-12-11T10:53:45.118Z"
   },
   {
    "duration": 33,
    "start_time": "2021-12-11T10:53:45.170Z"
   },
   {
    "duration": 12,
    "start_time": "2021-12-11T10:53:45.206Z"
   },
   {
    "duration": 11,
    "start_time": "2021-12-11T10:53:45.260Z"
   },
   {
    "duration": 19,
    "start_time": "2021-12-11T10:53:45.274Z"
   },
   {
    "duration": 11,
    "start_time": "2021-12-11T10:53:45.296Z"
   },
   {
    "duration": 126,
    "start_time": "2021-12-11T10:53:45.310Z"
   },
   {
    "duration": 206,
    "start_time": "2021-12-11T10:53:45.439Z"
   },
   {
    "duration": 90,
    "start_time": "2021-12-11T10:53:45.649Z"
   },
   {
    "duration": 82,
    "start_time": "2021-12-11T10:53:45.742Z"
   },
   {
    "duration": 69,
    "start_time": "2021-12-11T10:53:45.827Z"
   },
   {
    "duration": 65,
    "start_time": "2021-12-11T10:53:45.899Z"
   },
   {
    "duration": 44,
    "start_time": "2021-12-11T10:53:45.967Z"
   },
   {
    "duration": 73,
    "start_time": "2021-12-11T10:53:46.014Z"
   },
   {
    "duration": 39,
    "start_time": "2021-12-11T10:53:46.090Z"
   },
   {
    "duration": 37,
    "start_time": "2021-12-11T10:53:46.132Z"
   },
   {
    "duration": 13,
    "start_time": "2021-12-11T10:53:46.174Z"
   },
   {
    "duration": 30,
    "start_time": "2021-12-11T10:53:46.192Z"
   },
   {
    "duration": 42,
    "start_time": "2021-12-11T10:53:46.225Z"
   },
   {
    "duration": 19,
    "start_time": "2021-12-11T10:53:46.270Z"
   },
   {
    "duration": 689,
    "start_time": "2021-12-11T10:53:46.292Z"
   },
   {
    "duration": 31,
    "start_time": "2021-12-11T10:53:46.984Z"
   },
   {
    "duration": 83,
    "start_time": "2021-12-11T10:53:47.018Z"
   },
   {
    "duration": 86,
    "start_time": "2021-12-11T10:53:47.104Z"
   },
   {
    "duration": 4,
    "start_time": "2021-12-11T10:53:47.193Z"
   },
   {
    "duration": 978,
    "start_time": "2021-12-11T10:53:47.200Z"
   },
   {
    "duration": 1395,
    "start_time": "2021-12-11T10:53:48.180Z"
   },
   {
    "duration": 326,
    "start_time": "2021-12-11T10:53:49.577Z"
   },
   {
    "duration": 12,
    "start_time": "2021-12-11T10:53:49.905Z"
   },
   {
    "duration": 41,
    "start_time": "2021-12-11T10:53:49.919Z"
   },
   {
    "duration": 33,
    "start_time": "2021-12-11T10:53:49.962Z"
   },
   {
    "duration": 10,
    "start_time": "2021-12-11T10:53:49.998Z"
   },
   {
    "duration": 4,
    "start_time": "2021-12-11T10:58:20.295Z"
   },
   {
    "duration": 3,
    "start_time": "2021-12-11T10:58:20.696Z"
   },
   {
    "duration": 4,
    "start_time": "2021-12-11T10:58:20.903Z"
   },
   {
    "duration": 524,
    "start_time": "2021-12-11T10:58:21.048Z"
   },
   {
    "duration": 11,
    "start_time": "2021-12-11T10:58:21.574Z"
   },
   {
    "duration": 34,
    "start_time": "2021-12-11T10:58:21.588Z"
   },
   {
    "duration": 35,
    "start_time": "2021-12-11T10:58:21.624Z"
   },
   {
    "duration": 11,
    "start_time": "2021-12-11T10:58:21.673Z"
   },
   {
    "duration": 11,
    "start_time": "2021-12-11T10:58:21.831Z"
   },
   {
    "duration": 25,
    "start_time": "2021-12-11T10:58:21.975Z"
   },
   {
    "duration": 10,
    "start_time": "2021-12-11T10:58:22.151Z"
   },
   {
    "duration": 19,
    "start_time": "2021-12-11T10:58:22.359Z"
   },
   {
    "duration": 13,
    "start_time": "2021-12-11T10:58:22.631Z"
   },
   {
    "duration": 10,
    "start_time": "2021-12-11T10:58:22.887Z"
   },
   {
    "duration": 15,
    "start_time": "2021-12-11T10:58:23.402Z"
   },
   {
    "duration": 9,
    "start_time": "2021-12-11T10:58:23.960Z"
   },
   {
    "duration": 83,
    "start_time": "2021-12-11T10:58:25.319Z"
   },
   {
    "duration": 146,
    "start_time": "2021-12-11T10:58:25.656Z"
   },
   {
    "duration": 58,
    "start_time": "2021-12-11T10:58:26.327Z"
   },
   {
    "duration": 46,
    "start_time": "2021-12-11T10:58:26.615Z"
   },
   {
    "duration": 33,
    "start_time": "2021-12-11T10:58:27.112Z"
   },
   {
    "duration": 33,
    "start_time": "2021-12-11T10:58:27.719Z"
   },
   {
    "duration": 39,
    "start_time": "2021-12-11T10:58:30.856Z"
   },
   {
    "duration": 46,
    "start_time": "2021-12-11T10:58:31.096Z"
   },
   {
    "duration": 27,
    "start_time": "2021-12-11T10:58:31.383Z"
   },
   {
    "duration": 11,
    "start_time": "2021-12-11T10:58:31.655Z"
   },
   {
    "duration": 10,
    "start_time": "2021-12-11T10:58:32.055Z"
   },
   {
    "duration": 23,
    "start_time": "2021-12-11T10:58:32.455Z"
   },
   {
    "duration": 9,
    "start_time": "2021-12-11T10:58:33.016Z"
   },
   {
    "duration": 4,
    "start_time": "2021-12-11T10:58:46.696Z"
   },
   {
    "duration": 4,
    "start_time": "2021-12-11T10:58:46.839Z"
   },
   {
    "duration": 4,
    "start_time": "2021-12-11T10:58:46.999Z"
   },
   {
    "duration": 476,
    "start_time": "2021-12-11T10:58:47.176Z"
   },
   {
    "duration": 10,
    "start_time": "2021-12-11T10:58:47.655Z"
   },
   {
    "duration": 31,
    "start_time": "2021-12-11T10:58:47.668Z"
   },
   {
    "duration": 11,
    "start_time": "2021-12-11T10:58:47.702Z"
   },
   {
    "duration": 9,
    "start_time": "2021-12-11T10:58:47.815Z"
   },
   {
    "duration": 11,
    "start_time": "2021-12-11T10:58:48.008Z"
   },
   {
    "duration": 27,
    "start_time": "2021-12-11T10:58:48.247Z"
   },
   {
    "duration": 12,
    "start_time": "2021-12-11T10:58:48.471Z"
   },
   {
    "duration": 19,
    "start_time": "2021-12-11T10:58:48.647Z"
   },
   {
    "duration": 12,
    "start_time": "2021-12-11T10:58:48.807Z"
   },
   {
    "duration": 13,
    "start_time": "2021-12-11T10:58:48.983Z"
   },
   {
    "duration": 16,
    "start_time": "2021-12-11T10:58:49.335Z"
   },
   {
    "duration": 10,
    "start_time": "2021-12-11T10:58:49.575Z"
   },
   {
    "duration": 85,
    "start_time": "2021-12-11T10:58:51.015Z"
   },
   {
    "duration": 138,
    "start_time": "2021-12-11T10:58:51.208Z"
   },
   {
    "duration": 55,
    "start_time": "2021-12-11T10:58:52.023Z"
   },
   {
    "duration": 46,
    "start_time": "2021-12-11T10:58:52.408Z"
   },
   {
    "duration": 33,
    "start_time": "2021-12-11T10:58:52.615Z"
   },
   {
    "duration": 34,
    "start_time": "2021-12-11T10:58:52.792Z"
   },
   {
    "duration": 37,
    "start_time": "2021-12-11T10:58:59.400Z"
   },
   {
    "duration": 32,
    "start_time": "2021-12-11T10:59:00.888Z"
   },
   {
    "duration": 28,
    "start_time": "2021-12-11T10:59:01.928Z"
   },
   {
    "duration": 11,
    "start_time": "2021-12-11T10:59:07.608Z"
   },
   {
    "duration": 10,
    "start_time": "2021-12-11T10:59:09.271Z"
   },
   {
    "duration": 22,
    "start_time": "2021-12-11T10:59:59.208Z"
   },
   {
    "duration": 9,
    "start_time": "2021-12-11T11:00:01.593Z"
   },
   {
    "duration": 5,
    "start_time": "2021-12-11T11:01:04.186Z"
   },
   {
    "duration": 36,
    "start_time": "2021-12-11T11:02:05.819Z"
   },
   {
    "duration": 25,
    "start_time": "2021-12-11T11:02:33.484Z"
   },
   {
    "duration": 15,
    "start_time": "2021-12-11T11:11:32.978Z"
   },
   {
    "duration": 12,
    "start_time": "2021-12-11T11:11:33.697Z"
   },
   {
    "duration": 434,
    "start_time": "2021-12-11T11:11:54.081Z"
   },
   {
    "duration": 11,
    "start_time": "2021-12-11T11:11:57.745Z"
   },
   {
    "duration": 581,
    "start_time": "2021-12-11T11:12:37.251Z"
   },
   {
    "duration": 21,
    "start_time": "2021-12-11T11:12:43.362Z"
   },
   {
    "duration": 15,
    "start_time": "2021-12-11T11:14:49.891Z"
   },
   {
    "duration": 11,
    "start_time": "2021-12-11T11:14:50.420Z"
   },
   {
    "duration": 16,
    "start_time": "2021-12-11T11:14:50.900Z"
   },
   {
    "duration": 5,
    "start_time": "2021-12-11T11:14:52.035Z"
   },
   {
    "duration": 9,
    "start_time": "2021-12-11T11:14:56.803Z"
   },
   {
    "duration": 12,
    "start_time": "2021-12-11T11:17:45.590Z"
   },
   {
    "duration": 10,
    "start_time": "2021-12-11T11:17:52.293Z"
   },
   {
    "duration": 23,
    "start_time": "2021-12-11T11:18:28.934Z"
   },
   {
    "duration": 17,
    "start_time": "2021-12-11T11:20:07.272Z"
   },
   {
    "duration": 6,
    "start_time": "2021-12-11T11:20:27.065Z"
   },
   {
    "duration": 8,
    "start_time": "2021-12-11T11:20:33.032Z"
   },
   {
    "duration": 6,
    "start_time": "2021-12-11T11:20:45.000Z"
   },
   {
    "duration": 11,
    "start_time": "2021-12-11T11:20:45.703Z"
   },
   {
    "duration": 7,
    "start_time": "2021-12-11T11:21:13.928Z"
   },
   {
    "duration": 10,
    "start_time": "2021-12-11T11:21:14.856Z"
   },
   {
    "duration": 7,
    "start_time": "2021-12-11T11:22:00.921Z"
   },
   {
    "duration": 9,
    "start_time": "2021-12-11T11:22:02.618Z"
   },
   {
    "duration": 23,
    "start_time": "2021-12-11T11:22:12.602Z"
   },
   {
    "duration": 19,
    "start_time": "2021-12-11T11:22:28.041Z"
   },
   {
    "duration": 364,
    "start_time": "2021-12-11T11:22:32.330Z"
   },
   {
    "duration": 19,
    "start_time": "2021-12-11T11:22:33.561Z"
   },
   {
    "duration": 58,
    "start_time": "2021-12-11T11:22:36.778Z"
   },
   {
    "duration": 55,
    "start_time": "2021-12-11T11:22:37.434Z"
   },
   {
    "duration": 4,
    "start_time": "2021-12-11T11:22:38.586Z"
   },
   {
    "duration": 944,
    "start_time": "2021-12-11T11:22:39.321Z"
   },
   {
    "duration": 1288,
    "start_time": "2021-12-11T11:22:41.417Z"
   },
   {
    "duration": 654,
    "start_time": "2021-12-11T11:22:51.129Z"
   },
   {
    "duration": 12,
    "start_time": "2021-12-11T11:22:56.793Z"
   },
   {
    "duration": 12,
    "start_time": "2021-12-11T11:22:57.338Z"
   },
   {
    "duration": 32,
    "start_time": "2021-12-11T11:22:59.817Z"
   },
   {
    "duration": 133,
    "start_time": "2021-12-11T11:24:12.011Z"
   },
   {
    "duration": 127,
    "start_time": "2021-12-11T11:24:15.835Z"
   },
   {
    "duration": 35,
    "start_time": "2021-12-11T11:24:18.826Z"
   },
   {
    "duration": 9,
    "start_time": "2021-12-11T11:24:28.411Z"
   },
   {
    "duration": 6,
    "start_time": "2021-12-11T11:24:43.387Z"
   },
   {
    "duration": 519,
    "start_time": "2021-12-11T11:25:40.428Z"
   },
   {
    "duration": 17,
    "start_time": "2021-12-11T11:25:53.980Z"
   },
   {
    "duration": 19,
    "start_time": "2021-12-11T11:26:07.676Z"
   },
   {
    "duration": 26,
    "start_time": "2021-12-11T11:26:13.931Z"
   },
   {
    "duration": 28,
    "start_time": "2021-12-11T11:27:50.525Z"
   },
   {
    "duration": 16,
    "start_time": "2021-12-11T11:28:19.789Z"
   },
   {
    "duration": 18,
    "start_time": "2021-12-11T11:28:29.694Z"
   },
   {
    "duration": 12,
    "start_time": "2021-12-11T12:07:56.089Z"
   },
   {
    "duration": 9,
    "start_time": "2021-12-11T12:11:32.812Z"
   },
   {
    "duration": 11,
    "start_time": "2021-12-11T12:14:13.486Z"
   },
   {
    "duration": 8,
    "start_time": "2021-12-11T12:14:15.790Z"
   },
   {
    "duration": 10,
    "start_time": "2021-12-11T12:14:16.317Z"
   },
   {
    "duration": 20,
    "start_time": "2021-12-11T12:14:35.838Z"
   },
   {
    "duration": 12,
    "start_time": "2021-12-11T12:14:37.486Z"
   },
   {
    "duration": 34,
    "start_time": "2021-12-11T12:14:56.926Z"
   },
   {
    "duration": 38,
    "start_time": "2021-12-11T12:15:31.695Z"
   },
   {
    "duration": 39,
    "start_time": "2021-12-11T12:15:48.639Z"
   },
   {
    "duration": 19,
    "start_time": "2021-12-11T12:15:54.497Z"
   },
   {
    "duration": 23,
    "start_time": "2021-12-11T12:16:15.568Z"
   },
   {
    "duration": 14,
    "start_time": "2021-12-11T12:16:52.336Z"
   },
   {
    "duration": 4,
    "start_time": "2021-12-11T13:02:21.716Z"
   },
   {
    "duration": 16,
    "start_time": "2021-12-11T13:02:21.723Z"
   },
   {
    "duration": 5,
    "start_time": "2021-12-11T13:02:21.742Z"
   },
   {
    "duration": 538,
    "start_time": "2021-12-11T13:02:21.749Z"
   },
   {
    "duration": 10,
    "start_time": "2021-12-11T13:02:22.290Z"
   },
   {
    "duration": 43,
    "start_time": "2021-12-11T13:02:22.303Z"
   },
   {
    "duration": 13,
    "start_time": "2021-12-11T13:02:22.348Z"
   },
   {
    "duration": 11,
    "start_time": "2021-12-11T13:02:22.364Z"
   },
   {
    "duration": 12,
    "start_time": "2021-12-11T13:02:22.379Z"
   },
   {
    "duration": 73,
    "start_time": "2021-12-11T13:02:22.394Z"
   },
   {
    "duration": 12,
    "start_time": "2021-12-11T13:02:22.469Z"
   },
   {
    "duration": 22,
    "start_time": "2021-12-11T13:02:22.484Z"
   },
   {
    "duration": 58,
    "start_time": "2021-12-11T13:02:22.509Z"
   },
   {
    "duration": 12,
    "start_time": "2021-12-11T13:02:22.570Z"
   },
   {
    "duration": 25,
    "start_time": "2021-12-11T13:02:22.585Z"
   },
   {
    "duration": 50,
    "start_time": "2021-12-11T13:02:22.613Z"
   },
   {
    "duration": 112,
    "start_time": "2021-12-11T13:02:22.666Z"
   },
   {
    "duration": 161,
    "start_time": "2021-12-11T13:02:22.780Z"
   },
   {
    "duration": 63,
    "start_time": "2021-12-11T13:02:22.944Z"
   },
   {
    "duration": 79,
    "start_time": "2021-12-11T13:02:23.009Z"
   },
   {
    "duration": 45,
    "start_time": "2021-12-11T13:02:23.091Z"
   },
   {
    "duration": 57,
    "start_time": "2021-12-11T13:02:23.139Z"
   },
   {
    "duration": 83,
    "start_time": "2021-12-11T13:02:23.201Z"
   },
   {
    "duration": 46,
    "start_time": "2021-12-11T13:02:23.287Z"
   },
   {
    "duration": 60,
    "start_time": "2021-12-11T13:02:23.336Z"
   },
   {
    "duration": 15,
    "start_time": "2021-12-11T13:02:23.399Z"
   },
   {
    "duration": 39,
    "start_time": "2021-12-11T13:02:23.423Z"
   },
   {
    "duration": 13,
    "start_time": "2021-12-11T13:02:23.467Z"
   },
   {
    "duration": 5,
    "start_time": "2021-12-11T13:02:23.483Z"
   },
   {
    "duration": 10,
    "start_time": "2021-12-11T13:02:23.491Z"
   },
   {
    "duration": 66,
    "start_time": "2021-12-11T13:02:23.503Z"
   },
   {
    "duration": 11,
    "start_time": "2021-12-11T13:02:23.572Z"
   },
   {
    "duration": 8,
    "start_time": "2021-12-11T13:02:23.586Z"
   },
   {
    "duration": 12,
    "start_time": "2021-12-11T13:02:23.597Z"
   },
   {
    "duration": 20,
    "start_time": "2021-12-11T13:02:23.659Z"
   },
   {
    "duration": 401,
    "start_time": "2021-12-11T13:02:23.682Z"
   },
   {
    "duration": 27,
    "start_time": "2021-12-11T13:02:24.086Z"
   },
   {
    "duration": 14,
    "start_time": "2021-12-11T13:02:24.116Z"
   },
   {
    "duration": 36,
    "start_time": "2021-12-11T13:02:24.132Z"
   },
   {
    "duration": 25,
    "start_time": "2021-12-11T13:02:24.171Z"
   },
   {
    "duration": 89,
    "start_time": "2021-12-11T13:02:24.198Z"
   },
   {
    "duration": 82,
    "start_time": "2021-12-11T13:02:24.290Z"
   },
   {
    "duration": 3,
    "start_time": "2021-12-11T13:02:24.375Z"
   },
   {
    "duration": 982,
    "start_time": "2021-12-11T13:02:24.380Z"
   },
   {
    "duration": 1367,
    "start_time": "2021-12-11T13:02:25.364Z"
   },
   {
    "duration": 12,
    "start_time": "2021-12-11T13:02:26.733Z"
   },
   {
    "duration": 12,
    "start_time": "2021-12-11T13:02:26.760Z"
   },
   {
    "duration": 33,
    "start_time": "2021-12-11T13:02:26.775Z"
   },
   {
    "duration": 128,
    "start_time": "2021-12-11T13:03:05.009Z"
   },
   {
    "duration": 135,
    "start_time": "2021-12-11T13:03:22.418Z"
   },
   {
    "duration": 10,
    "start_time": "2021-12-11T13:03:36.796Z"
   },
   {
    "duration": 11,
    "start_time": "2021-12-11T13:04:13.251Z"
   },
   {
    "duration": 36,
    "start_time": "2021-12-11T13:04:14.546Z"
   },
   {
    "duration": 1080,
    "start_time": "2021-12-11T13:25:15.266Z"
   },
   {
    "duration": 2118,
    "start_time": "2021-12-11T13:27:53.092Z"
   },
   {
    "duration": 6,
    "start_time": "2021-12-11T13:29:08.565Z"
   },
   {
    "duration": 1950,
    "start_time": "2021-12-11T13:29:12.741Z"
   },
   {
    "duration": 2080,
    "start_time": "2021-12-11T13:29:28.165Z"
   },
   {
    "duration": 2451,
    "start_time": "2021-12-11T13:29:43.302Z"
   },
   {
    "duration": 3204,
    "start_time": "2021-12-11T13:30:18.263Z"
   },
   {
    "duration": 1993,
    "start_time": "2021-12-11T13:30:27.430Z"
   },
   {
    "duration": 611,
    "start_time": "2021-12-11T13:30:33.559Z"
   },
   {
    "duration": 383,
    "start_time": "2021-12-11T13:30:44.471Z"
   },
   {
    "duration": 2822,
    "start_time": "2021-12-11T13:31:41.016Z"
   },
   {
    "duration": 2384,
    "start_time": "2021-12-11T13:31:51.319Z"
   },
   {
    "duration": 4108,
    "start_time": "2021-12-11T13:32:30.553Z"
   },
   {
    "duration": 6,
    "start_time": "2021-12-11T13:36:01.898Z"
   },
   {
    "duration": 10,
    "start_time": "2021-12-11T13:36:49.723Z"
   },
   {
    "duration": 12,
    "start_time": "2021-12-11T13:36:58.682Z"
   },
   {
    "duration": 538,
    "start_time": "2021-12-11T13:37:25.498Z"
   },
   {
    "duration": 616,
    "start_time": "2021-12-11T13:37:38.602Z"
   },
   {
    "duration": 397,
    "start_time": "2021-12-11T13:37:50.235Z"
   },
   {
    "duration": 395,
    "start_time": "2021-12-11T13:37:59.387Z"
   },
   {
    "duration": 467,
    "start_time": "2021-12-11T13:38:09.339Z"
   },
   {
    "duration": 425,
    "start_time": "2021-12-11T13:38:18.395Z"
   },
   {
    "duration": 11,
    "start_time": "2021-12-11T13:38:25.466Z"
   },
   {
    "duration": 414,
    "start_time": "2021-12-11T13:38:45.691Z"
   },
   {
    "duration": 10,
    "start_time": "2021-12-11T13:38:52.636Z"
   },
   {
    "duration": 10,
    "start_time": "2021-12-11T13:39:22.651Z"
   },
   {
    "duration": 10,
    "start_time": "2021-12-11T13:39:32.027Z"
   },
   {
    "duration": 10,
    "start_time": "2021-12-11T13:40:06.123Z"
   },
   {
    "duration": 448,
    "start_time": "2021-12-11T14:32:41.457Z"
   },
   {
    "duration": 1059,
    "start_time": "2021-12-11T14:32:49.729Z"
   },
   {
    "duration": 881,
    "start_time": "2021-12-11T14:33:11.157Z"
   },
   {
    "duration": 837,
    "start_time": "2021-12-11T14:33:47.969Z"
   },
   {
    "duration": 1181,
    "start_time": "2021-12-11T14:33:57.038Z"
   },
   {
    "duration": 18,
    "start_time": "2021-12-11T14:38:21.109Z"
   },
   {
    "duration": 317,
    "start_time": "2021-12-11T14:40:15.335Z"
   },
   {
    "duration": 25,
    "start_time": "2021-12-11T14:40:21.654Z"
   },
   {
    "duration": 317,
    "start_time": "2021-12-11T14:41:31.447Z"
   },
   {
    "duration": 307,
    "start_time": "2021-12-11T14:42:03.335Z"
   },
   {
    "duration": 609,
    "start_time": "2021-12-11T14:42:18.871Z"
   },
   {
    "duration": 558,
    "start_time": "2021-12-11T14:42:55.592Z"
   },
   {
    "duration": 1238,
    "start_time": "2021-12-11T14:43:21.337Z"
   },
   {
    "duration": 13,
    "start_time": "2021-12-11T15:33:48.508Z"
   },
   {
    "duration": 13,
    "start_time": "2021-12-11T15:36:32.078Z"
   },
   {
    "duration": 16,
    "start_time": "2021-12-11T15:36:57.971Z"
   },
   {
    "duration": 460,
    "start_time": "2021-12-11T15:37:43.935Z"
   },
   {
    "duration": 13,
    "start_time": "2021-12-11T15:39:43.271Z"
   },
   {
    "duration": 13,
    "start_time": "2021-12-11T15:39:47.584Z"
   },
   {
    "duration": 12,
    "start_time": "2021-12-11T15:39:53.601Z"
   },
   {
    "duration": 12,
    "start_time": "2021-12-11T15:40:03.617Z"
   },
   {
    "duration": 13,
    "start_time": "2021-12-11T15:40:52.450Z"
   },
   {
    "duration": 11,
    "start_time": "2021-12-11T15:40:56.642Z"
   },
   {
    "duration": 150,
    "start_time": "2021-12-11T15:43:00.724Z"
   },
   {
    "duration": 11,
    "start_time": "2021-12-11T15:43:16.245Z"
   },
   {
    "duration": 11,
    "start_time": "2021-12-11T15:43:22.276Z"
   },
   {
    "duration": 13,
    "start_time": "2021-12-11T15:43:49.108Z"
   },
   {
    "duration": 1632,
    "start_time": "2021-12-11T16:31:39.375Z"
   },
   {
    "duration": 1541,
    "start_time": "2021-12-11T16:32:11.473Z"
   },
   {
    "duration": 1536,
    "start_time": "2021-12-11T16:33:54.475Z"
   },
   {
    "duration": 1549,
    "start_time": "2021-12-11T16:34:43.113Z"
   },
   {
    "duration": 1391,
    "start_time": "2021-12-11T16:35:00.826Z"
   },
   {
    "duration": 1809,
    "start_time": "2021-12-11T16:35:11.321Z"
   },
   {
    "duration": 1454,
    "start_time": "2021-12-11T16:35:16.713Z"
   },
   {
    "duration": 536,
    "start_time": "2021-12-11T16:36:22.574Z"
   },
   {
    "duration": 1544,
    "start_time": "2021-12-11T16:37:02.236Z"
   },
   {
    "duration": 1506,
    "start_time": "2021-12-11T16:37:15.119Z"
   },
   {
    "duration": 1523,
    "start_time": "2021-12-11T16:37:53.981Z"
   },
   {
    "duration": 1253,
    "start_time": "2021-12-11T16:38:17.771Z"
   },
   {
    "duration": 4519,
    "start_time": "2021-12-11T16:38:44.782Z"
   },
   {
    "duration": 1197,
    "start_time": "2021-12-11T16:39:16.124Z"
   },
   {
    "duration": 581,
    "start_time": "2021-12-11T16:40:08.129Z"
   },
   {
    "duration": 204,
    "start_time": "2021-12-11T16:40:15.681Z"
   },
   {
    "duration": 154,
    "start_time": "2021-12-11T16:40:20.140Z"
   },
   {
    "duration": 1284,
    "start_time": "2021-12-11T16:40:25.533Z"
   },
   {
    "duration": 4008,
    "start_time": "2021-12-11T16:40:40.077Z"
   },
   {
    "duration": 778,
    "start_time": "2021-12-11T16:40:51.724Z"
   },
   {
    "duration": 763,
    "start_time": "2021-12-11T16:41:47.390Z"
   },
   {
    "duration": 59,
    "start_time": "2021-12-11T16:42:09.053Z"
   },
   {
    "duration": 14,
    "start_time": "2021-12-11T16:42:20.589Z"
   },
   {
    "duration": 14,
    "start_time": "2021-12-11T16:42:27.671Z"
   },
   {
    "duration": 4,
    "start_time": "2021-12-11T16:44:18.798Z"
   },
   {
    "duration": 10,
    "start_time": "2021-12-11T17:07:06.767Z"
   },
   {
    "duration": 31,
    "start_time": "2021-12-11T17:07:36.960Z"
   },
   {
    "duration": 31,
    "start_time": "2021-12-11T17:07:57.795Z"
   },
   {
    "duration": 7,
    "start_time": "2021-12-11T17:08:20.592Z"
   },
   {
    "duration": 6,
    "start_time": "2021-12-11T17:08:25.760Z"
   },
   {
    "duration": 6,
    "start_time": "2021-12-11T17:08:38.656Z"
   },
   {
    "duration": 8,
    "start_time": "2021-12-11T17:11:33.366Z"
   },
   {
    "duration": 30,
    "start_time": "2021-12-11T17:11:38.753Z"
   },
   {
    "duration": 5,
    "start_time": "2021-12-11T17:12:12.308Z"
   },
   {
    "duration": 4,
    "start_time": "2021-12-11T17:17:17.383Z"
   },
   {
    "duration": 5,
    "start_time": "2021-12-11T17:17:28.631Z"
   },
   {
    "duration": 450,
    "start_time": "2021-12-11T17:18:12.376Z"
   },
   {
    "duration": 606,
    "start_time": "2021-12-11T17:18:47.048Z"
   },
   {
    "duration": 6,
    "start_time": "2021-12-11T17:19:17.530Z"
   },
   {
    "duration": 5,
    "start_time": "2021-12-11T17:19:28.680Z"
   },
   {
    "duration": 465,
    "start_time": "2021-12-11T17:22:59.212Z"
   },
   {
    "duration": 129,
    "start_time": "2021-12-11T17:23:51.883Z"
   },
   {
    "duration": 134,
    "start_time": "2021-12-11T17:24:01.883Z"
   },
   {
    "duration": 41,
    "start_time": "2021-12-11T17:24:26.877Z"
   },
   {
    "duration": 39,
    "start_time": "2021-12-11T17:24:29.852Z"
   },
   {
    "duration": 5,
    "start_time": "2021-12-11T17:24:34.527Z"
   },
   {
    "duration": 5,
    "start_time": "2021-12-11T17:24:34.534Z"
   },
   {
    "duration": 5,
    "start_time": "2021-12-11T17:24:34.542Z"
   },
   {
    "duration": 598,
    "start_time": "2021-12-11T17:24:34.549Z"
   },
   {
    "duration": 10,
    "start_time": "2021-12-11T17:24:35.150Z"
   },
   {
    "duration": 52,
    "start_time": "2021-12-11T17:24:35.162Z"
   },
   {
    "duration": 15,
    "start_time": "2021-12-11T17:24:35.217Z"
   },
   {
    "duration": 34,
    "start_time": "2021-12-11T17:24:35.237Z"
   },
   {
    "duration": 24,
    "start_time": "2021-12-11T17:24:35.275Z"
   },
   {
    "duration": 22,
    "start_time": "2021-12-11T17:24:35.302Z"
   },
   {
    "duration": 43,
    "start_time": "2021-12-11T17:24:35.327Z"
   },
   {
    "duration": 19,
    "start_time": "2021-12-11T17:24:35.374Z"
   },
   {
    "duration": 11,
    "start_time": "2021-12-11T17:24:35.396Z"
   },
   {
    "duration": 55,
    "start_time": "2021-12-11T17:24:35.410Z"
   },
   {
    "duration": 23,
    "start_time": "2021-12-11T17:24:35.468Z"
   },
   {
    "duration": 10,
    "start_time": "2021-12-11T17:24:35.493Z"
   },
   {
    "duration": 138,
    "start_time": "2021-12-11T17:24:35.506Z"
   },
   {
    "duration": 167,
    "start_time": "2021-12-11T17:24:35.646Z"
   },
   {
    "duration": 79,
    "start_time": "2021-12-11T17:24:35.815Z"
   },
   {
    "duration": 45,
    "start_time": "2021-12-11T17:24:35.897Z"
   },
   {
    "duration": 55,
    "start_time": "2021-12-11T17:24:35.945Z"
   },
   {
    "duration": 59,
    "start_time": "2021-12-11T17:24:36.002Z"
   },
   {
    "duration": 158,
    "start_time": "2021-12-11T17:24:36.068Z"
   },
   {
    "duration": 57,
    "start_time": "2021-12-11T17:24:36.229Z"
   },
   {
    "duration": 30,
    "start_time": "2021-12-11T17:24:36.289Z"
   },
   {
    "duration": 68,
    "start_time": "2021-12-11T17:24:36.321Z"
   },
   {
    "duration": 12,
    "start_time": "2021-12-11T17:24:36.392Z"
   },
   {
    "duration": 13,
    "start_time": "2021-12-11T17:24:36.406Z"
   },
   {
    "duration": 8,
    "start_time": "2021-12-11T17:24:36.422Z"
   },
   {
    "duration": 29,
    "start_time": "2021-12-11T17:24:36.432Z"
   },
   {
    "duration": 24,
    "start_time": "2021-12-11T17:24:36.464Z"
   },
   {
    "duration": 12,
    "start_time": "2021-12-11T17:24:36.492Z"
   },
   {
    "duration": 10,
    "start_time": "2021-12-11T17:24:36.507Z"
   },
   {
    "duration": 44,
    "start_time": "2021-12-11T17:24:36.520Z"
   },
   {
    "duration": 22,
    "start_time": "2021-12-11T17:24:36.566Z"
   },
   {
    "duration": 19,
    "start_time": "2021-12-11T17:24:36.591Z"
   },
   {
    "duration": 428,
    "start_time": "2021-12-11T17:24:36.612Z"
   },
   {
    "duration": 38,
    "start_time": "2021-12-11T17:24:37.042Z"
   },
   {
    "duration": 9,
    "start_time": "2021-12-11T17:24:37.082Z"
   },
   {
    "duration": 13,
    "start_time": "2021-12-11T17:24:37.094Z"
   },
   {
    "duration": 59,
    "start_time": "2021-12-11T17:24:37.109Z"
   },
   {
    "duration": 64,
    "start_time": "2021-12-11T17:24:37.171Z"
   },
   {
    "duration": 80,
    "start_time": "2021-12-11T17:24:37.237Z"
   },
   {
    "duration": 4,
    "start_time": "2021-12-11T17:24:37.319Z"
   },
   {
    "duration": 2591,
    "start_time": "2021-12-11T17:24:37.326Z"
   },
   {
    "duration": 1255,
    "start_time": "2021-12-11T17:24:39.920Z"
   },
   {
    "duration": 12,
    "start_time": "2021-12-11T17:24:41.178Z"
   },
   {
    "duration": 789,
    "start_time": "2021-12-11T17:24:41.193Z"
   },
   {
    "duration": 12,
    "start_time": "2021-12-11T17:24:41.985Z"
   },
   {
    "duration": 14,
    "start_time": "2021-12-11T17:24:41.999Z"
   },
   {
    "duration": 53,
    "start_time": "2021-12-11T17:24:42.015Z"
   },
   {
    "duration": 21,
    "start_time": "2021-12-11T17:49:12.287Z"
   },
   {
    "duration": 20,
    "start_time": "2021-12-11T17:49:25.952Z"
   },
   {
    "duration": 16,
    "start_time": "2021-12-11T17:51:18.929Z"
   },
   {
    "duration": 40,
    "start_time": "2021-12-11T17:51:43.905Z"
   },
   {
    "duration": 130,
    "start_time": "2021-12-11T17:52:38.275Z"
   },
   {
    "duration": 46,
    "start_time": "2021-12-11T17:52:44.482Z"
   },
   {
    "duration": 48,
    "start_time": "2021-12-11T17:56:44.757Z"
   },
   {
    "duration": 424,
    "start_time": "2021-12-11T17:57:50.981Z"
   },
   {
    "duration": 30,
    "start_time": "2021-12-11T17:58:03.060Z"
   },
   {
    "duration": 17,
    "start_time": "2021-12-11T17:58:25.301Z"
   },
   {
    "duration": 18,
    "start_time": "2021-12-11T17:58:32.709Z"
   },
   {
    "duration": 601,
    "start_time": "2021-12-11T17:59:20.854Z"
   },
   {
    "duration": 21,
    "start_time": "2021-12-11T17:59:35.575Z"
   },
   {
    "duration": 33,
    "start_time": "2021-12-11T18:00:10.142Z"
   },
   {
    "duration": 27,
    "start_time": "2021-12-11T18:00:42.204Z"
   },
   {
    "duration": 32,
    "start_time": "2021-12-11T18:00:48.951Z"
   },
   {
    "duration": 176,
    "start_time": "2021-12-11T18:02:08.952Z"
   },
   {
    "duration": 13,
    "start_time": "2021-12-11T18:02:16.577Z"
   },
   {
    "duration": 68,
    "start_time": "2021-12-11T18:02:32.552Z"
   },
   {
    "duration": 429,
    "start_time": "2021-12-11T18:02:43.543Z"
   },
   {
    "duration": 213,
    "start_time": "2021-12-11T18:03:14.632Z"
   },
   {
    "duration": 477,
    "start_time": "2021-12-11T18:03:19.624Z"
   },
   {
    "duration": 175,
    "start_time": "2021-12-11T18:03:34.411Z"
   },
   {
    "duration": 208,
    "start_time": "2021-12-11T18:03:39.161Z"
   },
   {
    "duration": 187,
    "start_time": "2021-12-11T18:03:42.825Z"
   },
   {
    "duration": 493,
    "start_time": "2021-12-11T18:03:55.929Z"
   },
   {
    "duration": 224,
    "start_time": "2021-12-11T18:05:51.260Z"
   },
   {
    "duration": 1223,
    "start_time": "2021-12-11T18:06:03.721Z"
   },
   {
    "duration": 228,
    "start_time": "2021-12-11T18:06:56.364Z"
   },
   {
    "duration": 93,
    "start_time": "2021-12-11T18:07:01.003Z"
   },
   {
    "duration": 920,
    "start_time": "2021-12-11T18:08:03.093Z"
   },
   {
    "duration": 848,
    "start_time": "2021-12-11T18:08:15.116Z"
   },
   {
    "duration": 820,
    "start_time": "2021-12-11T18:08:34.140Z"
   },
   {
    "duration": 795,
    "start_time": "2021-12-11T18:08:57.932Z"
   },
   {
    "duration": 847,
    "start_time": "2021-12-11T18:09:29.457Z"
   },
   {
    "duration": 102,
    "start_time": "2021-12-11T18:09:49.629Z"
   },
   {
    "duration": 96,
    "start_time": "2021-12-11T18:10:45.741Z"
   },
   {
    "duration": 133,
    "start_time": "2021-12-11T18:11:13.757Z"
   },
   {
    "duration": 26,
    "start_time": "2021-12-11T18:11:17.501Z"
   },
   {
    "duration": 16,
    "start_time": "2021-12-11T18:12:31.381Z"
   },
   {
    "duration": 137,
    "start_time": "2021-12-11T18:13:05.264Z"
   },
   {
    "duration": 141,
    "start_time": "2021-12-11T18:13:12.335Z"
   },
   {
    "duration": 14,
    "start_time": "2021-12-11T18:13:19.119Z"
   },
   {
    "duration": 19,
    "start_time": "2021-12-11T18:13:54.992Z"
   },
   {
    "duration": 14,
    "start_time": "2021-12-11T18:13:57.580Z"
   },
   {
    "duration": 94,
    "start_time": "2021-12-11T18:13:58.782Z"
   },
   {
    "duration": 36,
    "start_time": "2021-12-11T18:14:01.552Z"
   },
   {
    "duration": 97,
    "start_time": "2021-12-11T18:14:20.688Z"
   },
   {
    "duration": 89,
    "start_time": "2021-12-11T20:40:22.951Z"
   },
   {
    "duration": 88,
    "start_time": "2021-12-11T20:40:41.079Z"
   },
   {
    "duration": 4,
    "start_time": "2021-12-11T20:43:00.041Z"
   },
   {
    "duration": 3,
    "start_time": "2021-12-11T20:43:04.536Z"
   },
   {
    "duration": 3,
    "start_time": "2021-12-11T20:43:08.280Z"
   },
   {
    "duration": 595,
    "start_time": "2021-12-11T20:43:09.449Z"
   },
   {
    "duration": 11,
    "start_time": "2021-12-11T20:43:13.072Z"
   },
   {
    "duration": 36,
    "start_time": "2021-12-11T20:43:14.457Z"
   },
   {
    "duration": 12,
    "start_time": "2021-12-11T20:43:17.721Z"
   },
   {
    "duration": 11,
    "start_time": "2021-12-11T20:43:23.592Z"
   },
   {
    "duration": 11,
    "start_time": "2021-12-11T20:43:24.793Z"
   },
   {
    "duration": 22,
    "start_time": "2021-12-11T20:43:26.536Z"
   },
   {
    "duration": 11,
    "start_time": "2021-12-11T20:43:31.417Z"
   },
   {
    "duration": 25,
    "start_time": "2021-12-11T20:43:32.248Z"
   },
   {
    "duration": 13,
    "start_time": "2021-12-11T20:43:33.112Z"
   },
   {
    "duration": 10,
    "start_time": "2021-12-11T20:43:36.217Z"
   },
   {
    "duration": 15,
    "start_time": "2021-12-11T20:43:39.224Z"
   },
   {
    "duration": 13,
    "start_time": "2021-12-11T20:43:40.984Z"
   },
   {
    "duration": 89,
    "start_time": "2021-12-11T20:45:19.483Z"
   },
   {
    "duration": 162,
    "start_time": "2021-12-11T20:45:20.010Z"
   },
   {
    "duration": 57,
    "start_time": "2021-12-11T20:45:21.786Z"
   },
   {
    "duration": 51,
    "start_time": "2021-12-11T20:45:22.586Z"
   },
   {
    "duration": 35,
    "start_time": "2021-12-11T20:45:23.275Z"
   },
   {
    "duration": 36,
    "start_time": "2021-12-11T20:45:25.050Z"
   },
   {
    "duration": 140,
    "start_time": "2021-12-11T20:46:03.578Z"
   },
   {
    "duration": 47,
    "start_time": "2021-12-11T20:46:09.130Z"
   },
   {
    "duration": 29,
    "start_time": "2021-12-11T20:46:39.995Z"
   },
   {
    "duration": 12,
    "start_time": "2021-12-11T20:48:02.686Z"
   },
   {
    "duration": 39,
    "start_time": "2021-12-11T20:48:09.052Z"
   },
   {
    "duration": 35,
    "start_time": "2021-12-11T20:48:09.740Z"
   },
   {
    "duration": 11,
    "start_time": "2021-12-11T20:48:10.573Z"
   },
   {
    "duration": 10,
    "start_time": "2021-12-11T20:48:11.470Z"
   },
   {
    "duration": 8,
    "start_time": "2021-12-11T20:48:15.675Z"
   },
   {
    "duration": 5,
    "start_time": "2021-12-11T20:48:19.052Z"
   },
   {
    "duration": 7,
    "start_time": "2021-12-11T20:48:24.845Z"
   },
   {
    "duration": 14,
    "start_time": "2021-12-11T20:48:29.612Z"
   },
   {
    "duration": 10,
    "start_time": "2021-12-11T20:48:30.430Z"
   },
   {
    "duration": 9,
    "start_time": "2021-12-11T20:48:36.157Z"
   },
   {
    "duration": 9,
    "start_time": "2021-12-11T20:48:37.436Z"
   },
   {
    "duration": 25,
    "start_time": "2021-12-11T20:48:38.557Z"
   },
   {
    "duration": 379,
    "start_time": "2021-12-11T20:50:34.319Z"
   },
   {
    "duration": 398,
    "start_time": "2021-12-11T20:51:06.207Z"
   },
   {
    "duration": 21,
    "start_time": "2021-12-11T20:52:43.891Z"
   },
   {
    "duration": 365,
    "start_time": "2021-12-11T20:52:47.873Z"
   },
   {
    "duration": 21,
    "start_time": "2021-12-11T20:52:52.816Z"
   },
   {
    "duration": 9,
    "start_time": "2021-12-11T20:52:59.279Z"
   },
   {
    "duration": 16,
    "start_time": "2021-12-11T20:53:00.255Z"
   },
   {
    "duration": 37,
    "start_time": "2021-12-11T20:53:01.200Z"
   },
   {
    "duration": 20,
    "start_time": "2021-12-11T20:53:02.687Z"
   },
   {
    "duration": 9,
    "start_time": "2021-12-11T20:53:22.961Z"
   },
   {
    "duration": 12,
    "start_time": "2021-12-11T20:53:24.431Z"
   },
   {
    "duration": 26,
    "start_time": "2021-12-11T20:53:28.832Z"
   },
   {
    "duration": 23,
    "start_time": "2021-12-11T20:53:35.136Z"
   },
   {
    "duration": 87,
    "start_time": "2021-12-11T20:53:42.161Z"
   },
   {
    "duration": 13,
    "start_time": "2021-12-11T21:04:17.416Z"
   },
   {
    "duration": 12,
    "start_time": "2021-12-11T21:05:18.408Z"
   },
   {
    "duration": 60,
    "start_time": "2021-12-11T21:07:08.058Z"
   },
   {
    "duration": 59,
    "start_time": "2021-12-11T21:07:08.650Z"
   },
   {
    "duration": 4,
    "start_time": "2021-12-11T21:07:12.329Z"
   },
   {
    "duration": 2528,
    "start_time": "2021-12-11T21:08:12.026Z"
   },
   {
    "duration": 6,
    "start_time": "2021-12-11T21:16:14.660Z"
   },
   {
    "duration": 4,
    "start_time": "2021-12-11T21:16:14.679Z"
   },
   {
    "duration": 4,
    "start_time": "2021-12-11T21:16:14.686Z"
   },
   {
    "duration": 622,
    "start_time": "2021-12-11T21:16:14.693Z"
   },
   {
    "duration": 10,
    "start_time": "2021-12-11T21:16:15.318Z"
   },
   {
    "duration": 29,
    "start_time": "2021-12-11T21:16:15.331Z"
   },
   {
    "duration": 15,
    "start_time": "2021-12-11T21:16:15.363Z"
   },
   {
    "duration": 12,
    "start_time": "2021-12-11T21:16:15.381Z"
   },
   {
    "duration": 13,
    "start_time": "2021-12-11T21:16:15.396Z"
   },
   {
    "duration": 32,
    "start_time": "2021-12-11T21:16:15.460Z"
   },
   {
    "duration": 10,
    "start_time": "2021-12-11T21:16:15.496Z"
   },
   {
    "duration": 71,
    "start_time": "2021-12-11T21:16:15.508Z"
   },
   {
    "duration": 12,
    "start_time": "2021-12-11T21:16:15.582Z"
   },
   {
    "duration": 9,
    "start_time": "2021-12-11T21:16:15.597Z"
   },
   {
    "duration": 52,
    "start_time": "2021-12-11T21:16:15.608Z"
   },
   {
    "duration": 12,
    "start_time": "2021-12-11T21:16:15.663Z"
   },
   {
    "duration": 125,
    "start_time": "2021-12-11T21:16:15.678Z"
   },
   {
    "duration": 156,
    "start_time": "2021-12-11T21:16:15.806Z"
   },
   {
    "duration": 60,
    "start_time": "2021-12-11T21:16:15.970Z"
   },
   {
    "duration": 83,
    "start_time": "2021-12-11T21:16:16.033Z"
   },
   {
    "duration": 64,
    "start_time": "2021-12-11T21:16:16.119Z"
   },
   {
    "duration": 41,
    "start_time": "2021-12-11T21:16:16.186Z"
   },
   {
    "duration": 234,
    "start_time": "2021-12-11T21:16:16.230Z"
   },
   {
    "duration": 53,
    "start_time": "2021-12-11T21:16:16.467Z"
   },
   {
    "duration": 70,
    "start_time": "2021-12-11T21:16:16.523Z"
   },
   {
    "duration": 29,
    "start_time": "2021-12-11T21:16:16.596Z"
   },
   {
    "duration": 43,
    "start_time": "2021-12-11T21:16:16.628Z"
   },
   {
    "duration": 10,
    "start_time": "2021-12-11T21:16:16.680Z"
   },
   {
    "duration": 7,
    "start_time": "2021-12-11T21:16:16.693Z"
   },
   {
    "duration": 3,
    "start_time": "2021-12-11T21:16:16.703Z"
   },
   {
    "duration": 51,
    "start_time": "2021-12-11T21:16:16.708Z"
   },
   {
    "duration": 22,
    "start_time": "2021-12-11T21:16:16.763Z"
   },
   {
    "duration": 12,
    "start_time": "2021-12-11T21:16:16.788Z"
   },
   {
    "duration": 55,
    "start_time": "2021-12-11T21:16:16.804Z"
   },
   {
    "duration": 11,
    "start_time": "2021-12-11T21:16:16.862Z"
   },
   {
    "duration": 27,
    "start_time": "2021-12-11T21:16:16.875Z"
   },
   {
    "duration": 417,
    "start_time": "2021-12-11T21:16:16.905Z"
   },
   {
    "duration": 20,
    "start_time": "2021-12-11T21:16:17.324Z"
   },
   {
    "duration": 16,
    "start_time": "2021-12-11T21:16:17.361Z"
   },
   {
    "duration": 12,
    "start_time": "2021-12-11T21:16:17.380Z"
   },
   {
    "duration": 25,
    "start_time": "2021-12-11T21:16:17.395Z"
   },
   {
    "duration": 62,
    "start_time": "2021-12-11T21:16:17.422Z"
   },
   {
    "duration": 118,
    "start_time": "2021-12-11T21:16:17.486Z"
   },
   {
    "duration": 74,
    "start_time": "2021-12-11T21:16:17.606Z"
   },
   {
    "duration": 54,
    "start_time": "2021-12-11T21:16:17.683Z"
   },
   {
    "duration": 5,
    "start_time": "2021-12-11T21:16:17.760Z"
   },
   {
    "duration": 2630,
    "start_time": "2021-12-11T21:16:17.769Z"
   },
   {
    "duration": 1692,
    "start_time": "2021-12-11T21:16:20.402Z"
   },
   {
    "duration": 15,
    "start_time": "2021-12-11T21:16:22.096Z"
   },
   {
    "duration": 793,
    "start_time": "2021-12-11T21:16:22.115Z"
   },
   {
    "duration": 14,
    "start_time": "2021-12-11T21:16:22.910Z"
   },
   {
    "duration": 40,
    "start_time": "2021-12-11T21:16:22.926Z"
   },
   {
    "duration": 16,
    "start_time": "2021-12-11T21:16:22.969Z"
   },
   {
    "duration": 1666,
    "start_time": "2021-12-11T21:18:43.675Z"
   },
   {
    "duration": 3,
    "start_time": "2021-12-11T21:18:45.344Z"
   },
   {
    "duration": 4,
    "start_time": "2021-12-11T21:18:45.360Z"
   },
   {
    "duration": 562,
    "start_time": "2021-12-11T21:18:45.367Z"
   },
   {
    "duration": 15,
    "start_time": "2021-12-11T21:18:45.931Z"
   },
   {
    "duration": 36,
    "start_time": "2021-12-11T21:18:45.948Z"
   },
   {
    "duration": 11,
    "start_time": "2021-12-11T21:18:45.986Z"
   },
   {
    "duration": 14,
    "start_time": "2021-12-11T21:18:46.000Z"
   },
   {
    "duration": 44,
    "start_time": "2021-12-11T21:18:46.021Z"
   },
   {
    "duration": 39,
    "start_time": "2021-12-11T21:18:46.069Z"
   },
   {
    "duration": 10,
    "start_time": "2021-12-11T21:18:46.110Z"
   },
   {
    "duration": 64,
    "start_time": "2021-12-11T21:18:46.123Z"
   },
   {
    "duration": 12,
    "start_time": "2021-12-11T21:18:46.189Z"
   },
   {
    "duration": 15,
    "start_time": "2021-12-11T21:18:46.204Z"
   },
   {
    "duration": 56,
    "start_time": "2021-12-11T21:18:46.222Z"
   },
   {
    "duration": 12,
    "start_time": "2021-12-11T21:18:46.281Z"
   },
   {
    "duration": 138,
    "start_time": "2021-12-11T21:18:46.295Z"
   },
   {
    "duration": 163,
    "start_time": "2021-12-11T21:18:46.435Z"
   },
   {
    "duration": 79,
    "start_time": "2021-12-11T21:18:46.600Z"
   },
   {
    "duration": 45,
    "start_time": "2021-12-11T21:18:46.682Z"
   },
   {
    "duration": 59,
    "start_time": "2021-12-11T21:18:46.729Z"
   },
   {
    "duration": 28,
    "start_time": "2021-12-11T21:18:46.791Z"
   },
   {
    "duration": 188,
    "start_time": "2021-12-11T21:18:46.821Z"
   },
   {
    "duration": 61,
    "start_time": "2021-12-11T21:18:47.012Z"
   },
   {
    "duration": 31,
    "start_time": "2021-12-11T21:18:47.076Z"
   },
   {
    "duration": 63,
    "start_time": "2021-12-11T21:18:47.109Z"
   },
   {
    "duration": 11,
    "start_time": "2021-12-11T21:18:47.178Z"
   },
   {
    "duration": 9,
    "start_time": "2021-12-11T21:18:47.193Z"
   },
   {
    "duration": 7,
    "start_time": "2021-12-11T21:18:47.205Z"
   },
   {
    "duration": 48,
    "start_time": "2021-12-11T21:18:47.215Z"
   },
   {
    "duration": 12,
    "start_time": "2021-12-11T21:18:47.267Z"
   },
   {
    "duration": 11,
    "start_time": "2021-12-11T21:18:47.282Z"
   },
   {
    "duration": 9,
    "start_time": "2021-12-11T21:18:47.295Z"
   },
   {
    "duration": 6,
    "start_time": "2021-12-11T21:18:47.306Z"
   },
   {
    "duration": 22,
    "start_time": "2021-12-11T21:18:47.361Z"
   },
   {
    "duration": 18,
    "start_time": "2021-12-11T21:18:47.386Z"
   },
   {
    "duration": 430,
    "start_time": "2021-12-11T21:18:47.407Z"
   },
   {
    "duration": 29,
    "start_time": "2021-12-11T21:18:47.839Z"
   },
   {
    "duration": 15,
    "start_time": "2021-12-11T21:18:47.872Z"
   },
   {
    "duration": 15,
    "start_time": "2021-12-11T21:18:47.890Z"
   },
   {
    "duration": 70,
    "start_time": "2021-12-11T21:18:47.908Z"
   },
   {
    "duration": 19,
    "start_time": "2021-12-11T21:18:47.981Z"
   },
   {
    "duration": 123,
    "start_time": "2021-12-11T21:18:48.002Z"
   },
   {
    "duration": 70,
    "start_time": "2021-12-11T21:18:48.128Z"
   },
   {
    "duration": 70,
    "start_time": "2021-12-11T21:18:48.200Z"
   },
   {
    "duration": 4,
    "start_time": "2021-12-11T21:18:48.273Z"
   },
   {
    "duration": 2610,
    "start_time": "2021-12-11T21:18:48.280Z"
   },
   {
    "duration": 1424,
    "start_time": "2021-12-11T21:18:50.893Z"
   },
   {
    "duration": 11,
    "start_time": "2021-12-11T21:18:52.320Z"
   },
   {
    "duration": 790,
    "start_time": "2021-12-11T21:18:52.333Z"
   },
   {
    "duration": 12,
    "start_time": "2021-12-11T21:18:53.125Z"
   },
   {
    "duration": 17,
    "start_time": "2021-12-11T21:18:53.159Z"
   },
   {
    "duration": 14,
    "start_time": "2021-12-11T21:18:53.179Z"
   },
   {
    "duration": 1602,
    "start_time": "2021-12-12T16:47:01.294Z"
   },
   {
    "duration": 3,
    "start_time": "2021-12-12T16:47:02.899Z"
   },
   {
    "duration": 4,
    "start_time": "2021-12-12T16:47:02.916Z"
   },
   {
    "duration": 517,
    "start_time": "2021-12-12T16:47:02.923Z"
   },
   {
    "duration": 15,
    "start_time": "2021-12-12T16:47:03.442Z"
   },
   {
    "duration": 29,
    "start_time": "2021-12-12T16:47:03.459Z"
   },
   {
    "duration": 11,
    "start_time": "2021-12-12T16:47:03.491Z"
   },
   {
    "duration": 14,
    "start_time": "2021-12-12T16:47:03.516Z"
   },
   {
    "duration": 14,
    "start_time": "2021-12-12T16:47:03.535Z"
   },
   {
    "duration": 22,
    "start_time": "2021-12-12T16:47:03.552Z"
   },
   {
    "duration": 47,
    "start_time": "2021-12-12T16:47:03.577Z"
   },
   {
    "duration": 24,
    "start_time": "2021-12-12T16:47:03.626Z"
   },
   {
    "duration": 13,
    "start_time": "2021-12-12T16:47:03.653Z"
   },
   {
    "duration": 11,
    "start_time": "2021-12-12T16:47:03.668Z"
   },
   {
    "duration": 14,
    "start_time": "2021-12-12T16:47:03.717Z"
   },
   {
    "duration": 12,
    "start_time": "2021-12-12T16:47:03.734Z"
   },
   {
    "duration": 119,
    "start_time": "2021-12-12T16:47:03.749Z"
   },
   {
    "duration": 155,
    "start_time": "2021-12-12T16:47:03.871Z"
   },
   {
    "duration": 58,
    "start_time": "2021-12-12T16:47:04.029Z"
   },
   {
    "duration": 63,
    "start_time": "2021-12-12T16:47:04.089Z"
   },
   {
    "duration": 31,
    "start_time": "2021-12-12T16:47:04.154Z"
   },
   {
    "duration": 50,
    "start_time": "2021-12-12T16:47:04.188Z"
   },
   {
    "duration": 153,
    "start_time": "2021-12-12T16:47:04.243Z"
   },
   {
    "duration": 49,
    "start_time": "2021-12-12T16:47:04.401Z"
   },
   {
    "duration": 32,
    "start_time": "2021-12-12T16:47:04.453Z"
   },
   {
    "duration": 55,
    "start_time": "2021-12-12T16:47:04.488Z"
   },
   {
    "duration": 14,
    "start_time": "2021-12-12T16:47:04.546Z"
   },
   {
    "duration": 12,
    "start_time": "2021-12-12T16:47:04.563Z"
   },
   {
    "duration": 45,
    "start_time": "2021-12-12T16:47:04.577Z"
   },
   {
    "duration": 16,
    "start_time": "2021-12-12T16:47:04.625Z"
   },
   {
    "duration": 18,
    "start_time": "2021-12-12T16:47:04.644Z"
   },
   {
    "duration": 36,
    "start_time": "2021-12-12T16:47:04.665Z"
   },
   {
    "duration": 22,
    "start_time": "2021-12-12T16:47:04.704Z"
   },
   {
    "duration": 8,
    "start_time": "2021-12-12T16:47:04.729Z"
   },
   {
    "duration": 17,
    "start_time": "2021-12-12T16:47:04.740Z"
   },
   {
    "duration": 19,
    "start_time": "2021-12-12T16:47:04.760Z"
   },
   {
    "duration": 426,
    "start_time": "2021-12-12T16:47:04.781Z"
   },
   {
    "duration": 20,
    "start_time": "2021-12-12T16:47:05.210Z"
   },
   {
    "duration": 10,
    "start_time": "2021-12-12T16:47:05.233Z"
   },
   {
    "duration": 17,
    "start_time": "2021-12-12T16:47:05.246Z"
   },
   {
    "duration": 53,
    "start_time": "2021-12-12T16:47:05.266Z"
   },
   {
    "duration": 21,
    "start_time": "2021-12-12T16:47:05.322Z"
   },
   {
    "duration": 117,
    "start_time": "2021-12-12T16:47:05.346Z"
   },
   {
    "duration": 66,
    "start_time": "2021-12-12T16:47:05.466Z"
   },
   {
    "duration": 55,
    "start_time": "2021-12-12T16:47:05.535Z"
   },
   {
    "duration": 26,
    "start_time": "2021-12-12T16:47:05.593Z"
   },
   {
    "duration": 2540,
    "start_time": "2021-12-12T16:47:05.621Z"
   },
   {
    "duration": 1285,
    "start_time": "2021-12-12T16:47:08.164Z"
   },
   {
    "duration": 13,
    "start_time": "2021-12-12T16:47:09.451Z"
   },
   {
    "duration": 753,
    "start_time": "2021-12-12T16:47:09.466Z"
   },
   {
    "duration": 14,
    "start_time": "2021-12-12T16:47:10.221Z"
   },
   {
    "duration": 18,
    "start_time": "2021-12-12T16:47:10.237Z"
   },
   {
    "duration": 16,
    "start_time": "2021-12-12T16:47:10.258Z"
   },
   {
    "duration": 515,
    "start_time": "2021-12-12T16:54:29.192Z"
   },
   {
    "duration": 385,
    "start_time": "2021-12-12T16:54:37.891Z"
   },
   {
    "duration": 5,
    "start_time": "2021-12-12T16:54:43.246Z"
   },
   {
    "duration": 31,
    "start_time": "2021-12-12T16:54:55.244Z"
   },
   {
    "duration": 22,
    "start_time": "2021-12-12T16:55:06.557Z"
   },
   {
    "duration": 2874,
    "start_time": "2021-12-13T10:01:09.504Z"
   },
   {
    "duration": 10,
    "start_time": "2021-12-13T10:01:12.381Z"
   },
   {
    "duration": 18,
    "start_time": "2021-12-13T10:01:21.725Z"
   },
   {
    "duration": 11,
    "start_time": "2021-12-13T10:01:22.364Z"
   },
   {
    "duration": 568,
    "start_time": "2021-12-13T10:01:36.781Z"
   },
   {
    "duration": 10,
    "start_time": "2021-12-13T10:01:37.352Z"
   },
   {
    "duration": 526,
    "start_time": "2021-12-13T10:01:53.694Z"
   },
   {
    "duration": 12,
    "start_time": "2021-12-13T10:01:54.317Z"
   },
   {
    "duration": 26,
    "start_time": "2021-12-13T10:01:55.741Z"
   },
   {
    "duration": 11,
    "start_time": "2021-12-13T10:01:56.429Z"
   },
   {
    "duration": 520,
    "start_time": "2021-12-13T10:01:57.308Z"
   },
   {
    "duration": 12,
    "start_time": "2021-12-13T10:02:08.125Z"
   },
   {
    "duration": 498,
    "start_time": "2021-12-13T10:04:25.184Z"
   },
   {
    "duration": 312,
    "start_time": "2021-12-13T10:17:26.896Z"
   },
   {
    "duration": 23,
    "start_time": "2021-12-13T10:17:56.905Z"
   },
   {
    "duration": 26,
    "start_time": "2021-12-13T10:18:29.440Z"
   },
   {
    "duration": 423,
    "start_time": "2021-12-13T10:19:39.370Z"
   },
   {
    "duration": 32,
    "start_time": "2021-12-13T10:33:05.060Z"
   },
   {
    "duration": 28,
    "start_time": "2021-12-13T10:33:14.566Z"
   },
   {
    "duration": 29,
    "start_time": "2021-12-13T10:33:25.669Z"
   },
   {
    "duration": 330,
    "start_time": "2021-12-13T10:34:53.044Z"
   },
   {
    "duration": 336,
    "start_time": "2021-12-13T10:36:13.957Z"
   },
   {
    "duration": 377,
    "start_time": "2021-12-13T10:36:42.982Z"
   },
   {
    "duration": 28,
    "start_time": "2021-12-13T10:37:05.446Z"
   },
   {
    "duration": 30,
    "start_time": "2021-12-13T10:37:22.470Z"
   },
   {
    "duration": 627,
    "start_time": "2021-12-13T10:39:38.200Z"
   },
   {
    "duration": 316,
    "start_time": "2021-12-13T10:39:55.209Z"
   },
   {
    "duration": 349,
    "start_time": "2021-12-13T10:40:34.937Z"
   },
   {
    "duration": 23,
    "start_time": "2021-12-13T10:41:09.497Z"
   },
   {
    "duration": 13,
    "start_time": "2021-12-13T10:41:18.874Z"
   },
   {
    "duration": 11,
    "start_time": "2021-12-13T10:41:25.913Z"
   },
   {
    "duration": 141,
    "start_time": "2021-12-13T10:47:15.758Z"
   },
   {
    "duration": 17,
    "start_time": "2021-12-13T10:58:16.060Z"
   },
   {
    "duration": 129,
    "start_time": "2021-12-13T11:06:06.651Z"
   },
   {
    "duration": 147,
    "start_time": "2021-12-13T11:06:48.042Z"
   },
   {
    "duration": 4,
    "start_time": "2021-12-13T11:07:14.475Z"
   },
   {
    "duration": 4,
    "start_time": "2021-12-13T11:07:19.451Z"
   },
   {
    "duration": 140,
    "start_time": "2021-12-13T11:07:46.348Z"
   },
   {
    "duration": 433,
    "start_time": "2021-12-13T12:03:44.711Z"
   },
   {
    "duration": 12,
    "start_time": "2021-12-13T12:03:53.734Z"
   },
   {
    "duration": 15,
    "start_time": "2021-12-13T12:04:16.757Z"
   },
   {
    "duration": 12,
    "start_time": "2021-12-13T12:05:47.511Z"
   },
   {
    "duration": 12,
    "start_time": "2021-12-13T12:07:12.967Z"
   },
   {
    "duration": 118,
    "start_time": "2021-12-13T12:08:14.092Z"
   },
   {
    "duration": 12,
    "start_time": "2021-12-13T12:08:18.936Z"
   },
   {
    "duration": 12,
    "start_time": "2021-12-13T12:08:27.688Z"
   },
   {
    "duration": 12,
    "start_time": "2021-12-13T12:14:53.758Z"
   },
   {
    "duration": 13,
    "start_time": "2021-12-13T12:15:26.445Z"
   },
   {
    "duration": 123,
    "start_time": "2021-12-13T12:17:30.335Z"
   },
   {
    "duration": 12,
    "start_time": "2021-12-13T12:17:39.295Z"
   },
   {
    "duration": 14,
    "start_time": "2021-12-13T12:28:22.662Z"
   },
   {
    "duration": 13,
    "start_time": "2021-12-13T14:54:49.886Z"
   },
   {
    "duration": 12,
    "start_time": "2021-12-13T14:56:26.191Z"
   },
   {
    "duration": 18,
    "start_time": "2021-12-13T15:01:51.107Z"
   },
   {
    "duration": 13,
    "start_time": "2021-12-13T15:10:06.428Z"
   },
   {
    "duration": 724,
    "start_time": "2021-12-13T15:10:16.664Z"
   },
   {
    "duration": 13,
    "start_time": "2021-12-13T15:10:18.425Z"
   },
   {
    "duration": 14,
    "start_time": "2021-12-13T15:10:19.288Z"
   },
   {
    "duration": 13,
    "start_time": "2021-12-13T15:10:21.833Z"
   },
   {
    "duration": 13,
    "start_time": "2021-12-13T15:10:57.336Z"
   },
   {
    "duration": 324,
    "start_time": "2021-12-13T15:17:19.247Z"
   },
   {
    "duration": 124,
    "start_time": "2021-12-13T15:17:24.725Z"
   },
   {
    "duration": 171,
    "start_time": "2021-12-13T15:17:42.893Z"
   },
   {
    "duration": 368,
    "start_time": "2021-12-13T15:17:59.279Z"
   },
   {
    "duration": 6,
    "start_time": "2021-12-13T15:18:14.655Z"
   },
   {
    "duration": 259,
    "start_time": "2021-12-13T15:20:02.927Z"
   },
   {
    "duration": 1254,
    "start_time": "2021-12-13T15:20:13.263Z"
   },
   {
    "duration": 813,
    "start_time": "2021-12-13T15:20:21.615Z"
   },
   {
    "duration": 1107,
    "start_time": "2021-12-13T15:20:38.240Z"
   },
   {
    "duration": 9,
    "start_time": "2021-12-13T15:20:48.687Z"
   },
   {
    "duration": 695,
    "start_time": "2021-12-13T15:20:53.391Z"
   },
   {
    "duration": 8,
    "start_time": "2021-12-13T15:20:56.863Z"
   },
   {
    "duration": 6,
    "start_time": "2021-12-13T15:21:23.024Z"
   },
   {
    "duration": 7,
    "start_time": "2021-12-13T15:21:27.535Z"
   },
   {
    "duration": 127,
    "start_time": "2021-12-13T15:41:27.312Z"
   },
   {
    "duration": 187,
    "start_time": "2021-12-13T15:44:48.343Z"
   },
   {
    "duration": 277,
    "start_time": "2021-12-13T15:44:57.995Z"
   },
   {
    "duration": 10371,
    "start_time": "2021-12-13T15:55:57.994Z"
   },
   {
    "duration": 707,
    "start_time": "2021-12-13T15:56:07.661Z"
   },
   {
    "duration": 22,
    "start_time": "2021-12-13T15:56:13.120Z"
   },
   {
    "duration": 57,
    "start_time": "2021-12-13T15:56:37.180Z"
   },
   {
    "duration": 4,
    "start_time": "2021-12-13T15:56:49.647Z"
   },
   {
    "duration": 3,
    "start_time": "2021-12-13T15:56:49.662Z"
   },
   {
    "duration": 5,
    "start_time": "2021-12-13T15:56:49.667Z"
   },
   {
    "duration": 4,
    "start_time": "2021-12-13T15:56:49.675Z"
   },
   {
    "duration": 639,
    "start_time": "2021-12-13T15:56:49.681Z"
   },
   {
    "duration": 14,
    "start_time": "2021-12-13T15:56:50.323Z"
   },
   {
    "duration": 33,
    "start_time": "2021-12-13T15:56:50.340Z"
   },
   {
    "duration": 10,
    "start_time": "2021-12-13T15:56:50.375Z"
   },
   {
    "duration": 12,
    "start_time": "2021-12-13T15:56:50.389Z"
   },
   {
    "duration": 61,
    "start_time": "2021-12-13T15:56:50.406Z"
   },
   {
    "duration": 12,
    "start_time": "2021-12-13T15:56:50.470Z"
   },
   {
    "duration": 21,
    "start_time": "2021-12-13T15:56:50.484Z"
   },
   {
    "duration": 11,
    "start_time": "2021-12-13T15:56:50.507Z"
   },
   {
    "duration": 9,
    "start_time": "2021-12-13T15:56:50.560Z"
   },
   {
    "duration": 17,
    "start_time": "2021-12-13T15:56:50.572Z"
   },
   {
    "duration": 9,
    "start_time": "2021-12-13T15:56:50.592Z"
   },
   {
    "duration": 128,
    "start_time": "2021-12-13T15:56:50.603Z"
   },
   {
    "duration": 152,
    "start_time": "2021-12-13T15:56:50.734Z"
   },
   {
    "duration": 54,
    "start_time": "2021-12-13T15:56:50.888Z"
   },
   {
    "duration": 59,
    "start_time": "2021-12-13T15:56:50.945Z"
   },
   {
    "duration": 61,
    "start_time": "2021-12-13T15:56:51.007Z"
   },
   {
    "duration": 30,
    "start_time": "2021-12-13T15:56:51.073Z"
   },
   {
    "duration": 357,
    "start_time": "2021-12-13T15:56:51.107Z"
   },
   {
    "duration": 13,
    "start_time": "2021-12-13T15:56:51.467Z"
   },
   {
    "duration": 350,
    "start_time": "2021-12-13T15:56:51.483Z"
   },
   {
    "duration": 24,
    "start_time": "2021-12-13T15:56:51.836Z"
   },
   {
    "duration": 14,
    "start_time": "2021-12-13T15:56:51.862Z"
   },
   {
    "duration": 40,
    "start_time": "2021-12-13T15:56:51.878Z"
   },
   {
    "duration": 64,
    "start_time": "2021-12-13T15:56:51.921Z"
   },
   {
    "duration": 33,
    "start_time": "2021-12-13T15:56:51.987Z"
   },
   {
    "duration": 43,
    "start_time": "2021-12-13T15:56:52.022Z"
   },
   {
    "duration": 13,
    "start_time": "2021-12-13T15:56:52.068Z"
   },
   {
    "duration": 10,
    "start_time": "2021-12-13T15:56:52.084Z"
   },
   {
    "duration": 4,
    "start_time": "2021-12-13T15:56:52.097Z"
   },
   {
    "duration": 60,
    "start_time": "2021-12-13T15:56:52.104Z"
   },
   {
    "duration": 14,
    "start_time": "2021-12-13T15:56:52.168Z"
   },
   {
    "duration": 12,
    "start_time": "2021-12-13T15:56:52.184Z"
   },
   {
    "duration": 62,
    "start_time": "2021-12-13T15:56:52.199Z"
   },
   {
    "duration": 10,
    "start_time": "2021-12-13T15:56:52.264Z"
   },
   {
    "duration": 18,
    "start_time": "2021-12-13T15:56:52.276Z"
   },
   {
    "duration": 100,
    "start_time": "2021-12-13T15:56:52.297Z"
   },
   {
    "duration": 378,
    "start_time": "2021-12-13T15:56:52.400Z"
   },
   {
    "duration": 19,
    "start_time": "2021-12-13T15:56:52.781Z"
   },
   {
    "duration": 9,
    "start_time": "2021-12-13T15:56:52.803Z"
   },
   {
    "duration": 12,
    "start_time": "2021-12-13T15:56:52.814Z"
   },
   {
    "duration": 25,
    "start_time": "2021-12-13T15:56:52.860Z"
   },
   {
    "duration": 19,
    "start_time": "2021-12-13T15:56:52.887Z"
   },
   {
    "duration": 124,
    "start_time": "2021-12-13T15:56:52.909Z"
   },
   {
    "duration": 7,
    "start_time": "2021-12-13T15:56:53.035Z"
   },
   {
    "duration": 57,
    "start_time": "2021-12-13T15:56:53.060Z"
   },
   {
    "duration": 84,
    "start_time": "2021-12-13T15:56:53.119Z"
   },
   {
    "duration": 3,
    "start_time": "2021-12-13T15:56:53.205Z"
   },
   {
    "duration": 2529,
    "start_time": "2021-12-13T15:56:53.211Z"
   },
   {
    "duration": 1285,
    "start_time": "2021-12-13T15:56:55.743Z"
   },
   {
    "duration": 34,
    "start_time": "2021-12-13T15:56:57.031Z"
   },
   {
    "duration": 12,
    "start_time": "2021-12-13T15:56:57.067Z"
   },
   {
    "duration": 744,
    "start_time": "2021-12-13T15:56:57.081Z"
   },
   {
    "duration": 14,
    "start_time": "2021-12-13T15:56:57.827Z"
   },
   {
    "duration": 13,
    "start_time": "2021-12-13T15:56:57.860Z"
   },
   {
    "duration": 12,
    "start_time": "2021-12-13T15:56:57.875Z"
   },
   {
    "duration": 12,
    "start_time": "2021-12-13T15:56:57.893Z"
   },
   {
    "duration": 399,
    "start_time": "2021-12-13T15:58:09.789Z"
   },
   {
    "duration": 4,
    "start_time": "2021-12-13T15:58:44.795Z"
   },
   {
    "duration": 6,
    "start_time": "2021-12-13T15:58:44.802Z"
   },
   {
    "duration": 3,
    "start_time": "2021-12-13T15:58:44.811Z"
   },
   {
    "duration": 5,
    "start_time": "2021-12-13T15:58:44.817Z"
   },
   {
    "duration": 541,
    "start_time": "2021-12-13T15:58:44.825Z"
   },
   {
    "duration": 10,
    "start_time": "2021-12-13T15:58:45.369Z"
   },
   {
    "duration": 27,
    "start_time": "2021-12-13T15:58:45.382Z"
   },
   {
    "duration": 11,
    "start_time": "2021-12-13T15:58:45.412Z"
   },
   {
    "duration": 10,
    "start_time": "2021-12-13T15:58:45.461Z"
   },
   {
    "duration": 22,
    "start_time": "2021-12-13T15:58:45.474Z"
   },
   {
    "duration": 10,
    "start_time": "2021-12-13T15:58:45.499Z"
   },
   {
    "duration": 64,
    "start_time": "2021-12-13T15:58:45.511Z"
   },
   {
    "duration": 12,
    "start_time": "2021-12-13T15:58:45.577Z"
   },
   {
    "duration": 9,
    "start_time": "2021-12-13T15:58:45.591Z"
   },
   {
    "duration": 59,
    "start_time": "2021-12-13T15:58:45.602Z"
   },
   {
    "duration": 10,
    "start_time": "2021-12-13T15:58:45.663Z"
   },
   {
    "duration": 113,
    "start_time": "2021-12-13T15:58:45.675Z"
   },
   {
    "duration": 148,
    "start_time": "2021-12-13T15:58:45.791Z"
   },
   {
    "duration": 65,
    "start_time": "2021-12-13T15:58:45.942Z"
   },
   {
    "duration": 69,
    "start_time": "2021-12-13T15:58:46.009Z"
   },
   {
    "duration": 33,
    "start_time": "2021-12-13T15:58:46.080Z"
   },
   {
    "duration": 63,
    "start_time": "2021-12-13T15:58:46.115Z"
   },
   {
    "duration": 364,
    "start_time": "2021-12-13T15:58:46.181Z"
   },
   {
    "duration": 26,
    "start_time": "2021-12-13T15:58:46.548Z"
   },
   {
    "duration": 472,
    "start_time": "2021-12-13T15:58:46.577Z"
   },
   {
    "duration": 15,
    "start_time": "2021-12-13T15:58:47.060Z"
   },
   {
    "duration": 17,
    "start_time": "2021-12-13T15:58:47.085Z"
   },
   {
    "duration": 82,
    "start_time": "2021-12-13T15:58:47.106Z"
   },
   {
    "duration": 31,
    "start_time": "2021-12-13T15:58:47.192Z"
   },
   {
    "duration": 63,
    "start_time": "2021-12-13T15:58:47.226Z"
   },
   {
    "duration": 12,
    "start_time": "2021-12-13T15:58:47.291Z"
   },
   {
    "duration": 54,
    "start_time": "2021-12-13T15:58:47.306Z"
   },
   {
    "duration": 9,
    "start_time": "2021-12-13T15:58:47.362Z"
   },
   {
    "duration": 3,
    "start_time": "2021-12-13T15:58:47.374Z"
   },
   {
    "duration": 8,
    "start_time": "2021-12-13T15:58:47.380Z"
   },
   {
    "duration": 11,
    "start_time": "2021-12-13T15:58:47.390Z"
   },
   {
    "duration": 60,
    "start_time": "2021-12-13T15:58:47.404Z"
   },
   {
    "duration": 6,
    "start_time": "2021-12-13T15:58:47.466Z"
   },
   {
    "duration": 10,
    "start_time": "2021-12-13T15:58:47.475Z"
   },
   {
    "duration": 18,
    "start_time": "2021-12-13T15:58:47.487Z"
   },
   {
    "duration": 102,
    "start_time": "2021-12-13T15:58:47.507Z"
   },
   {
    "duration": 369,
    "start_time": "2021-12-13T15:58:47.612Z"
   },
   {
    "duration": 20,
    "start_time": "2021-12-13T15:58:47.983Z"
   },
   {
    "duration": 11,
    "start_time": "2021-12-13T15:58:48.006Z"
   },
   {
    "duration": 40,
    "start_time": "2021-12-13T15:58:48.019Z"
   },
   {
    "duration": 27,
    "start_time": "2021-12-13T15:58:48.062Z"
   },
   {
    "duration": 19,
    "start_time": "2021-12-13T15:58:48.091Z"
   },
   {
    "duration": 123,
    "start_time": "2021-12-13T15:58:48.113Z"
   },
   {
    "duration": 24,
    "start_time": "2021-12-13T15:58:48.238Z"
   },
   {
    "duration": 56,
    "start_time": "2021-12-13T15:58:48.264Z"
   },
   {
    "duration": 89,
    "start_time": "2021-12-13T15:58:48.323Z"
   },
   {
    "duration": 4,
    "start_time": "2021-12-13T15:58:48.415Z"
   },
   {
    "duration": 2586,
    "start_time": "2021-12-13T15:58:48.421Z"
   },
   {
    "duration": 1186,
    "start_time": "2021-12-13T15:58:51.011Z"
   },
   {
    "duration": 12,
    "start_time": "2021-12-13T15:58:52.200Z"
   },
   {
    "duration": 15,
    "start_time": "2021-12-13T15:58:52.214Z"
   },
   {
    "duration": 903,
    "start_time": "2021-12-13T15:58:52.259Z"
   },
   {
    "duration": 12,
    "start_time": "2021-12-13T15:58:53.165Z"
   },
   {
    "duration": 12,
    "start_time": "2021-12-13T15:58:53.179Z"
   },
   {
    "duration": 13,
    "start_time": "2021-12-13T15:58:53.193Z"
   },
   {
    "duration": 58,
    "start_time": "2021-12-13T15:58:53.209Z"
   },
   {
    "duration": 503,
    "start_time": "2021-12-13T16:11:45.800Z"
   },
   {
    "duration": 401,
    "start_time": "2021-12-13T16:13:16.439Z"
   },
   {
    "duration": 4,
    "start_time": "2021-12-13T16:13:22.781Z"
   },
   {
    "duration": 5,
    "start_time": "2021-12-13T16:13:22.788Z"
   },
   {
    "duration": 5,
    "start_time": "2021-12-13T16:13:22.795Z"
   },
   {
    "duration": 5,
    "start_time": "2021-12-13T16:13:22.803Z"
   },
   {
    "duration": 557,
    "start_time": "2021-12-13T16:13:22.812Z"
   },
   {
    "duration": 10,
    "start_time": "2021-12-13T16:13:23.372Z"
   },
   {
    "duration": 34,
    "start_time": "2021-12-13T16:13:23.384Z"
   },
   {
    "duration": 11,
    "start_time": "2021-12-13T16:13:23.420Z"
   },
   {
    "duration": 36,
    "start_time": "2021-12-13T16:13:23.433Z"
   },
   {
    "duration": 22,
    "start_time": "2021-12-13T16:13:23.472Z"
   },
   {
    "duration": 11,
    "start_time": "2021-12-13T16:13:23.497Z"
   },
   {
    "duration": 62,
    "start_time": "2021-12-13T16:13:23.510Z"
   },
   {
    "duration": 14,
    "start_time": "2021-12-13T16:13:23.575Z"
   },
   {
    "duration": 12,
    "start_time": "2021-12-13T16:13:23.592Z"
   },
   {
    "duration": 65,
    "start_time": "2021-12-13T16:13:23.607Z"
   },
   {
    "duration": 10,
    "start_time": "2021-12-13T16:13:23.674Z"
   },
   {
    "duration": 128,
    "start_time": "2021-12-13T16:13:23.687Z"
   },
   {
    "duration": 170,
    "start_time": "2021-12-13T16:13:23.817Z"
   },
   {
    "duration": 75,
    "start_time": "2021-12-13T16:13:23.989Z"
   },
   {
    "duration": 44,
    "start_time": "2021-12-13T16:13:24.067Z"
   },
   {
    "duration": 32,
    "start_time": "2021-12-13T16:13:24.113Z"
   },
   {
    "duration": 38,
    "start_time": "2021-12-13T16:13:24.147Z"
   },
   {
    "duration": 340,
    "start_time": "2021-12-13T16:13:24.187Z"
   },
   {
    "duration": 15,
    "start_time": "2021-12-13T16:13:24.532Z"
   },
   {
    "duration": 341,
    "start_time": "2021-12-13T16:13:24.558Z"
   },
   {
    "duration": 13,
    "start_time": "2021-12-13T16:13:24.901Z"
   },
   {
    "duration": 16,
    "start_time": "2021-12-13T16:13:24.917Z"
   },
   {
    "duration": 52,
    "start_time": "2021-12-13T16:13:24.935Z"
   },
   {
    "duration": 31,
    "start_time": "2021-12-13T16:13:24.990Z"
   },
   {
    "duration": 41,
    "start_time": "2021-12-13T16:13:25.023Z"
   },
   {
    "duration": 13,
    "start_time": "2021-12-13T16:13:25.066Z"
   },
   {
    "duration": 12,
    "start_time": "2021-12-13T16:13:25.081Z"
   },
   {
    "duration": 8,
    "start_time": "2021-12-13T16:13:25.096Z"
   },
   {
    "duration": 5,
    "start_time": "2021-12-13T16:13:25.106Z"
   },
   {
    "duration": 13,
    "start_time": "2021-12-13T16:13:25.113Z"
   },
   {
    "duration": 10,
    "start_time": "2021-12-13T16:13:25.128Z"
   },
   {
    "duration": 21,
    "start_time": "2021-12-13T16:13:25.140Z"
   },
   {
    "duration": 6,
    "start_time": "2021-12-13T16:13:25.163Z"
   },
   {
    "duration": 9,
    "start_time": "2021-12-13T16:13:25.171Z"
   },
   {
    "duration": 21,
    "start_time": "2021-12-13T16:13:25.183Z"
   },
   {
    "duration": 73,
    "start_time": "2021-12-13T16:13:25.207Z"
   },
   {
    "duration": 633,
    "start_time": "2021-12-13T16:13:25.282Z"
   },
   {
    "duration": 52,
    "start_time": "2021-12-13T16:13:25.918Z"
   },
   {
    "duration": 11,
    "start_time": "2021-12-13T16:13:25.973Z"
   },
   {
    "duration": 72,
    "start_time": "2021-12-13T16:13:25.987Z"
   },
   {
    "duration": 25,
    "start_time": "2021-12-13T16:13:26.062Z"
   },
   {
    "duration": 72,
    "start_time": "2021-12-13T16:13:26.089Z"
   },
   {
    "duration": 137,
    "start_time": "2021-12-13T16:13:26.164Z"
   },
   {
    "duration": 61,
    "start_time": "2021-12-13T16:13:26.303Z"
   },
   {
    "duration": 108,
    "start_time": "2021-12-13T16:13:26.366Z"
   },
   {
    "duration": 106,
    "start_time": "2021-12-13T16:13:26.477Z"
   },
   {
    "duration": 4,
    "start_time": "2021-12-13T16:13:26.585Z"
   },
   {
    "duration": 2444,
    "start_time": "2021-12-13T16:13:26.591Z"
   },
   {
    "duration": 1381,
    "start_time": "2021-12-13T16:13:29.037Z"
   },
   {
    "duration": 13,
    "start_time": "2021-12-13T16:13:30.421Z"
   },
   {
    "duration": 12,
    "start_time": "2021-12-13T16:13:30.460Z"
   },
   {
    "duration": 779,
    "start_time": "2021-12-13T16:13:30.475Z"
   },
   {
    "duration": 13,
    "start_time": "2021-12-13T16:13:31.260Z"
   },
   {
    "duration": 18,
    "start_time": "2021-12-13T16:13:31.275Z"
   },
   {
    "duration": 12,
    "start_time": "2021-12-13T16:13:31.296Z"
   },
   {
    "duration": 56,
    "start_time": "2021-12-13T16:13:31.311Z"
   },
   {
    "duration": 110,
    "start_time": "2021-12-13T16:14:30.008Z"
   },
   {
    "duration": 131,
    "start_time": "2021-12-13T16:14:54.488Z"
   },
   {
    "duration": 37,
    "start_time": "2021-12-13T16:15:00.681Z"
   },
   {
    "duration": 21,
    "start_time": "2021-12-13T16:15:04.343Z"
   },
   {
    "duration": 41,
    "start_time": "2021-12-13T16:15:13.624Z"
   },
   {
    "duration": 48,
    "start_time": "2021-12-13T16:16:16.874Z"
   },
   {
    "duration": 274,
    "start_time": "2021-12-13T16:16:17.785Z"
   },
   {
    "duration": 64,
    "start_time": "2021-12-13T16:16:20.282Z"
   },
   {
    "duration": 46,
    "start_time": "2021-12-13T16:18:27.467Z"
   },
   {
    "duration": 288,
    "start_time": "2021-12-13T16:18:28.314Z"
   },
   {
    "duration": 39,
    "start_time": "2021-12-13T16:18:31.308Z"
   },
   {
    "duration": 135,
    "start_time": "2021-12-13T16:19:02.266Z"
   },
   {
    "duration": 57,
    "start_time": "2021-12-13T16:19:10.859Z"
   },
   {
    "duration": 361,
    "start_time": "2021-12-13T16:19:11.483Z"
   },
   {
    "duration": 41,
    "start_time": "2021-12-13T16:19:16.156Z"
   },
   {
    "duration": 6,
    "start_time": "2021-12-13T16:20:04.459Z"
   },
   {
    "duration": 6,
    "start_time": "2021-12-13T16:20:10.985Z"
   },
   {
    "duration": 5,
    "start_time": "2021-12-13T16:20:10.994Z"
   },
   {
    "duration": 4,
    "start_time": "2021-12-13T16:20:11.003Z"
   },
   {
    "duration": 7,
    "start_time": "2021-12-13T16:20:11.010Z"
   },
   {
    "duration": 596,
    "start_time": "2021-12-13T16:20:11.020Z"
   },
   {
    "duration": 12,
    "start_time": "2021-12-13T16:20:11.619Z"
   },
   {
    "duration": 35,
    "start_time": "2021-12-13T16:20:11.633Z"
   },
   {
    "duration": 11,
    "start_time": "2021-12-13T16:20:11.672Z"
   },
   {
    "duration": 15,
    "start_time": "2021-12-13T16:20:11.686Z"
   },
   {
    "duration": 60,
    "start_time": "2021-12-13T16:20:11.704Z"
   },
   {
    "duration": 10,
    "start_time": "2021-12-13T16:20:11.766Z"
   },
   {
    "duration": 19,
    "start_time": "2021-12-13T16:20:11.779Z"
   },
   {
    "duration": 12,
    "start_time": "2021-12-13T16:20:11.801Z"
   },
   {
    "duration": 46,
    "start_time": "2021-12-13T16:20:11.815Z"
   },
   {
    "duration": 18,
    "start_time": "2021-12-13T16:20:11.864Z"
   },
   {
    "duration": 13,
    "start_time": "2021-12-13T16:20:11.884Z"
   },
   {
    "duration": 131,
    "start_time": "2021-12-13T16:20:11.899Z"
   },
   {
    "duration": 154,
    "start_time": "2021-12-13T16:20:12.032Z"
   },
   {
    "duration": 72,
    "start_time": "2021-12-13T16:20:12.189Z"
   },
   {
    "duration": 51,
    "start_time": "2021-12-13T16:20:12.264Z"
   },
   {
    "duration": 68,
    "start_time": "2021-12-13T16:20:12.318Z"
   },
   {
    "duration": 31,
    "start_time": "2021-12-13T16:20:12.389Z"
   },
   {
    "duration": 377,
    "start_time": "2021-12-13T16:20:12.426Z"
   },
   {
    "duration": 18,
    "start_time": "2021-12-13T16:20:12.808Z"
   },
   {
    "duration": 363,
    "start_time": "2021-12-13T16:20:12.829Z"
   },
   {
    "duration": 12,
    "start_time": "2021-12-13T16:20:13.195Z"
   },
   {
    "duration": 16,
    "start_time": "2021-12-13T16:20:13.209Z"
   },
   {
    "duration": 67,
    "start_time": "2021-12-13T16:20:13.227Z"
   },
   {
    "duration": 30,
    "start_time": "2021-12-13T16:20:13.296Z"
   },
   {
    "duration": 36,
    "start_time": "2021-12-13T16:20:13.360Z"
   },
   {
    "duration": 11,
    "start_time": "2021-12-13T16:20:13.399Z"
   },
   {
    "duration": 10,
    "start_time": "2021-12-13T16:20:13.412Z"
   },
   {
    "duration": 9,
    "start_time": "2021-12-13T16:20:13.460Z"
   },
   {
    "duration": 4,
    "start_time": "2021-12-13T16:20:13.471Z"
   },
   {
    "duration": 9,
    "start_time": "2021-12-13T16:20:13.477Z"
   },
   {
    "duration": 10,
    "start_time": "2021-12-13T16:20:13.488Z"
   },
   {
    "duration": 60,
    "start_time": "2021-12-13T16:20:13.501Z"
   },
   {
    "duration": 7,
    "start_time": "2021-12-13T16:20:13.563Z"
   },
   {
    "duration": 12,
    "start_time": "2021-12-13T16:20:13.573Z"
   },
   {
    "duration": 19,
    "start_time": "2021-12-13T16:20:13.587Z"
   },
   {
    "duration": 103,
    "start_time": "2021-12-13T16:20:13.608Z"
   },
   {
    "duration": 403,
    "start_time": "2021-12-13T16:20:13.713Z"
   },
   {
    "duration": 50,
    "start_time": "2021-12-13T16:20:14.119Z"
   },
   {
    "duration": 8,
    "start_time": "2021-12-13T16:20:14.172Z"
   },
   {
    "duration": 10,
    "start_time": "2021-12-13T16:20:14.182Z"
   },
   {
    "duration": 12,
    "start_time": "2021-12-13T16:20:14.195Z"
   },
   {
    "duration": 66,
    "start_time": "2021-12-13T16:20:14.210Z"
   },
   {
    "duration": 18,
    "start_time": "2021-12-13T16:20:14.279Z"
   },
   {
    "duration": 116,
    "start_time": "2021-12-13T16:20:14.299Z"
   },
   {
    "duration": 7,
    "start_time": "2021-12-13T16:20:14.417Z"
   },
   {
    "duration": 80,
    "start_time": "2021-12-13T16:20:14.426Z"
   },
   {
    "duration": 71,
    "start_time": "2021-12-13T16:20:14.509Z"
   },
   {
    "duration": 5,
    "start_time": "2021-12-13T16:20:14.582Z"
   },
   {
    "duration": 2422,
    "start_time": "2021-12-13T16:20:14.589Z"
   },
   {
    "duration": 1313,
    "start_time": "2021-12-13T16:20:17.014Z"
   },
   {
    "duration": 11,
    "start_time": "2021-12-13T16:20:18.330Z"
   },
   {
    "duration": 13,
    "start_time": "2021-12-13T16:20:18.360Z"
   },
   {
    "duration": 755,
    "start_time": "2021-12-13T16:20:18.376Z"
   },
   {
    "duration": 31,
    "start_time": "2021-12-13T16:20:19.134Z"
   },
   {
    "duration": 13,
    "start_time": "2021-12-13T16:20:19.168Z"
   },
   {
    "duration": 11,
    "start_time": "2021-12-13T16:20:19.183Z"
   },
   {
    "duration": 11,
    "start_time": "2021-12-13T16:20:19.197Z"
   },
   {
    "duration": 21,
    "start_time": "2021-12-13T16:25:09.280Z"
   },
   {
    "duration": 5,
    "start_time": "2021-12-13T16:25:59.149Z"
   },
   {
    "duration": 13,
    "start_time": "2021-12-13T16:25:59.158Z"
   },
   {
    "duration": 4,
    "start_time": "2021-12-13T16:25:59.176Z"
   },
   {
    "duration": 5,
    "start_time": "2021-12-13T16:25:59.184Z"
   },
   {
    "duration": 613,
    "start_time": "2021-12-13T16:25:59.193Z"
   },
   {
    "duration": 12,
    "start_time": "2021-12-13T16:25:59.808Z"
   },
   {
    "duration": 31,
    "start_time": "2021-12-13T16:25:59.822Z"
   },
   {
    "duration": 12,
    "start_time": "2021-12-13T16:25:59.857Z"
   },
   {
    "duration": 12,
    "start_time": "2021-12-13T16:25:59.873Z"
   },
   {
    "duration": 23,
    "start_time": "2021-12-13T16:25:59.887Z"
   },
   {
    "duration": 51,
    "start_time": "2021-12-13T16:25:59.913Z"
   },
   {
    "duration": 19,
    "start_time": "2021-12-13T16:25:59.966Z"
   },
   {
    "duration": 13,
    "start_time": "2021-12-13T16:25:59.987Z"
   },
   {
    "duration": 56,
    "start_time": "2021-12-13T16:26:00.003Z"
   },
   {
    "duration": 15,
    "start_time": "2021-12-13T16:26:00.062Z"
   },
   {
    "duration": 16,
    "start_time": "2021-12-13T16:26:00.079Z"
   },
   {
    "duration": 133,
    "start_time": "2021-12-13T16:26:00.098Z"
   },
   {
    "duration": 155,
    "start_time": "2021-12-13T16:26:00.234Z"
   },
   {
    "duration": 68,
    "start_time": "2021-12-13T16:26:00.392Z"
   },
   {
    "duration": 46,
    "start_time": "2021-12-13T16:26:00.463Z"
   },
   {
    "duration": 66,
    "start_time": "2021-12-13T16:26:00.511Z"
   },
   {
    "duration": 29,
    "start_time": "2021-12-13T16:26:00.579Z"
   },
   {
    "duration": 373,
    "start_time": "2021-12-13T16:26:00.614Z"
   },
   {
    "duration": 14,
    "start_time": "2021-12-13T16:26:00.990Z"
   },
   {
    "duration": 388,
    "start_time": "2021-12-13T16:26:01.006Z"
   },
   {
    "duration": 11,
    "start_time": "2021-12-13T16:26:01.396Z"
   },
   {
    "duration": 49,
    "start_time": "2021-12-13T16:26:01.410Z"
   },
   {
    "duration": 42,
    "start_time": "2021-12-13T16:26:01.462Z"
   },
   {
    "duration": 62,
    "start_time": "2021-12-13T16:26:01.507Z"
   },
   {
    "duration": 37,
    "start_time": "2021-12-13T16:26:01.571Z"
   },
   {
    "duration": 11,
    "start_time": "2021-12-13T16:26:01.610Z"
   },
   {
    "duration": 43,
    "start_time": "2021-12-13T16:26:01.624Z"
   },
   {
    "duration": 9,
    "start_time": "2021-12-13T16:26:01.669Z"
   },
   {
    "duration": 4,
    "start_time": "2021-12-13T16:26:01.680Z"
   },
   {
    "duration": 8,
    "start_time": "2021-12-13T16:26:01.688Z"
   },
   {
    "duration": 64,
    "start_time": "2021-12-13T16:26:01.699Z"
   },
   {
    "duration": 11,
    "start_time": "2021-12-13T16:26:01.765Z"
   },
   {
    "duration": 8,
    "start_time": "2021-12-13T16:26:01.778Z"
   },
   {
    "duration": 10,
    "start_time": "2021-12-13T16:26:01.788Z"
   },
   {
    "duration": 72,
    "start_time": "2021-12-13T16:26:01.800Z"
   },
   {
    "duration": 63,
    "start_time": "2021-12-13T16:26:01.874Z"
   },
   {
    "duration": 21,
    "start_time": "2021-12-13T16:26:01.939Z"
   },
   {
    "duration": 24,
    "start_time": "2021-12-13T16:26:01.962Z"
   },
   {
    "duration": 13,
    "start_time": "2021-12-13T16:26:01.988Z"
   },
   {
    "duration": 14,
    "start_time": "2021-12-13T16:26:02.004Z"
   },
   {
    "duration": 63,
    "start_time": "2021-12-13T16:26:02.020Z"
   },
   {
    "duration": 20,
    "start_time": "2021-12-13T16:26:02.085Z"
   },
   {
    "duration": 133,
    "start_time": "2021-12-13T16:26:02.108Z"
   },
   {
    "duration": 16,
    "start_time": "2021-12-13T16:26:02.245Z"
   },
   {
    "duration": 62,
    "start_time": "2021-12-13T16:26:02.263Z"
   },
   {
    "duration": 58,
    "start_time": "2021-12-13T16:26:02.358Z"
   },
   {
    "duration": 5,
    "start_time": "2021-12-13T16:26:02.419Z"
   },
   {
    "duration": 2602,
    "start_time": "2021-12-13T16:26:02.426Z"
   },
   {
    "duration": 1383,
    "start_time": "2021-12-13T16:26:05.032Z"
   },
   {
    "duration": 14,
    "start_time": "2021-12-13T16:26:06.417Z"
   },
   {
    "duration": 37,
    "start_time": "2021-12-13T16:26:06.433Z"
   },
   {
    "duration": 851,
    "start_time": "2021-12-13T16:26:06.473Z"
   },
   {
    "duration": 38,
    "start_time": "2021-12-13T16:26:07.327Z"
   },
   {
    "duration": 16,
    "start_time": "2021-12-13T16:26:07.368Z"
   },
   {
    "duration": 16,
    "start_time": "2021-12-13T16:26:07.387Z"
   },
   {
    "duration": 64,
    "start_time": "2021-12-13T16:26:07.406Z"
   },
   {
    "duration": 396,
    "start_time": "2021-12-13T16:31:00.931Z"
   },
   {
    "duration": 57,
    "start_time": "2021-12-13T16:31:06.963Z"
   },
   {
    "duration": 22,
    "start_time": "2021-12-13T16:31:15.043Z"
   },
   {
    "duration": 20,
    "start_time": "2021-12-13T16:34:06.741Z"
   },
   {
    "duration": 41,
    "start_time": "2021-12-13T16:34:12.758Z"
   },
   {
    "duration": 44,
    "start_time": "2021-12-13T16:35:08.423Z"
   },
   {
    "duration": 20,
    "start_time": "2021-12-13T16:39:43.212Z"
   },
   {
    "duration": 7,
    "start_time": "2021-12-13T16:40:13.194Z"
   },
   {
    "duration": 5,
    "start_time": "2021-12-13T16:40:17.263Z"
   },
   {
    "duration": 7,
    "start_time": "2021-12-13T16:40:17.271Z"
   },
   {
    "duration": 5,
    "start_time": "2021-12-13T16:40:17.281Z"
   },
   {
    "duration": 5,
    "start_time": "2021-12-13T16:40:17.289Z"
   },
   {
    "duration": 605,
    "start_time": "2021-12-13T16:40:17.296Z"
   },
   {
    "duration": 10,
    "start_time": "2021-12-13T16:40:17.904Z"
   },
   {
    "duration": 31,
    "start_time": "2021-12-13T16:40:17.916Z"
   },
   {
    "duration": 13,
    "start_time": "2021-12-13T16:40:17.951Z"
   },
   {
    "duration": 14,
    "start_time": "2021-12-13T16:40:17.968Z"
   },
   {
    "duration": 24,
    "start_time": "2021-12-13T16:40:17.985Z"
   },
   {
    "duration": 55,
    "start_time": "2021-12-13T16:40:18.011Z"
   },
   {
    "duration": 22,
    "start_time": "2021-12-13T16:40:18.068Z"
   },
   {
    "duration": 12,
    "start_time": "2021-12-13T16:40:18.093Z"
   },
   {
    "duration": 52,
    "start_time": "2021-12-13T16:40:18.108Z"
   },
   {
    "duration": 16,
    "start_time": "2021-12-13T16:40:18.163Z"
   },
   {
    "duration": 14,
    "start_time": "2021-12-13T16:40:18.182Z"
   },
   {
    "duration": 136,
    "start_time": "2021-12-13T16:40:18.199Z"
   },
   {
    "duration": 157,
    "start_time": "2021-12-13T16:40:18.337Z"
   },
   {
    "duration": 72,
    "start_time": "2021-12-13T16:40:18.497Z"
   },
   {
    "duration": 48,
    "start_time": "2021-12-13T16:40:18.572Z"
   },
   {
    "duration": 63,
    "start_time": "2021-12-13T16:40:18.622Z"
   },
   {
    "duration": 30,
    "start_time": "2021-12-13T16:40:18.687Z"
   },
   {
    "duration": 372,
    "start_time": "2021-12-13T16:40:18.724Z"
   },
   {
    "duration": 15,
    "start_time": "2021-12-13T16:40:19.100Z"
   },
   {
    "duration": 366,
    "start_time": "2021-12-13T16:40:19.118Z"
   },
   {
    "duration": 12,
    "start_time": "2021-12-13T16:40:19.487Z"
   },
   {
    "duration": 16,
    "start_time": "2021-12-13T16:40:19.501Z"
   },
   {
    "duration": 71,
    "start_time": "2021-12-13T16:40:19.519Z"
   },
   {
    "duration": 33,
    "start_time": "2021-12-13T16:40:19.593Z"
   },
   {
    "duration": 36,
    "start_time": "2021-12-13T16:40:19.659Z"
   },
   {
    "duration": 12,
    "start_time": "2021-12-13T16:40:19.697Z"
   },
   {
    "duration": 9,
    "start_time": "2021-12-13T16:40:19.712Z"
   },
   {
    "duration": 42,
    "start_time": "2021-12-13T16:40:19.724Z"
   },
   {
    "duration": 5,
    "start_time": "2021-12-13T16:40:19.769Z"
   },
   {
    "duration": 10,
    "start_time": "2021-12-13T16:40:19.776Z"
   },
   {
    "duration": 13,
    "start_time": "2021-12-13T16:40:19.788Z"
   },
   {
    "duration": 58,
    "start_time": "2021-12-13T16:40:19.804Z"
   },
   {
    "duration": 7,
    "start_time": "2021-12-13T16:40:19.864Z"
   },
   {
    "duration": 10,
    "start_time": "2021-12-13T16:40:19.873Z"
   },
   {
    "duration": 19,
    "start_time": "2021-12-13T16:40:19.885Z"
   },
   {
    "duration": 123,
    "start_time": "2021-12-13T16:40:19.907Z"
   },
   {
    "duration": 109,
    "start_time": "2021-12-13T16:40:20.033Z"
   },
   {
    "duration": 19,
    "start_time": "2021-12-13T16:40:20.145Z"
   },
   {
    "duration": 35,
    "start_time": "2021-12-13T16:40:20.168Z"
   },
   {
    "duration": 8,
    "start_time": "2021-12-13T16:40:20.205Z"
   },
   {
    "duration": 12,
    "start_time": "2021-12-13T16:40:20.215Z"
   },
   {
    "duration": 41,
    "start_time": "2021-12-13T16:40:20.229Z"
   },
   {
    "duration": 30,
    "start_time": "2021-12-13T16:40:20.272Z"
   },
   {
    "duration": 18,
    "start_time": "2021-12-13T16:40:20.305Z"
   },
   {
    "duration": 82,
    "start_time": "2021-12-13T16:40:20.360Z"
   },
   {
    "duration": 56,
    "start_time": "2021-12-13T16:40:20.460Z"
   },
   {
    "duration": 81,
    "start_time": "2021-12-13T16:40:20.518Z"
   },
   {
    "duration": 3,
    "start_time": "2021-12-13T16:40:20.601Z"
   },
   {
    "duration": 2545,
    "start_time": "2021-12-13T16:40:20.606Z"
   },
   {
    "duration": 1190,
    "start_time": "2021-12-13T16:40:23.160Z"
   },
   {
    "duration": 12,
    "start_time": "2021-12-13T16:40:24.360Z"
   },
   {
    "duration": 12,
    "start_time": "2021-12-13T16:40:24.374Z"
   },
   {
    "duration": 865,
    "start_time": "2021-12-13T16:40:24.389Z"
   },
   {
    "duration": 14,
    "start_time": "2021-12-13T16:40:25.259Z"
   },
   {
    "duration": 12,
    "start_time": "2021-12-13T16:40:25.275Z"
   },
   {
    "duration": 10,
    "start_time": "2021-12-13T16:40:25.289Z"
   },
   {
    "duration": 62,
    "start_time": "2021-12-13T16:40:25.302Z"
   },
   {
    "duration": 4,
    "start_time": "2021-12-13T16:42:03.905Z"
   },
   {
    "duration": 8,
    "start_time": "2021-12-13T16:42:03.912Z"
   },
   {
    "duration": 6,
    "start_time": "2021-12-13T16:42:03.923Z"
   },
   {
    "duration": 5,
    "start_time": "2021-12-13T16:42:03.931Z"
   },
   {
    "duration": 556,
    "start_time": "2021-12-13T16:42:03.939Z"
   },
   {
    "duration": 10,
    "start_time": "2021-12-13T16:42:04.498Z"
   },
   {
    "duration": 29,
    "start_time": "2021-12-13T16:42:04.510Z"
   },
   {
    "duration": 11,
    "start_time": "2021-12-13T16:42:04.542Z"
   },
   {
    "duration": 11,
    "start_time": "2021-12-13T16:42:04.556Z"
   },
   {
    "duration": 26,
    "start_time": "2021-12-13T16:42:04.570Z"
   },
   {
    "duration": 60,
    "start_time": "2021-12-13T16:42:04.599Z"
   },
   {
    "duration": 19,
    "start_time": "2021-12-13T16:42:04.661Z"
   },
   {
    "duration": 12,
    "start_time": "2021-12-13T16:42:04.682Z"
   },
   {
    "duration": 10,
    "start_time": "2021-12-13T16:42:04.697Z"
   },
   {
    "duration": 56,
    "start_time": "2021-12-13T16:42:04.709Z"
   },
   {
    "duration": 9,
    "start_time": "2021-12-13T16:42:04.768Z"
   },
   {
    "duration": 116,
    "start_time": "2021-12-13T16:42:04.779Z"
   },
   {
    "duration": 163,
    "start_time": "2021-12-13T16:42:04.897Z"
   },
   {
    "duration": 71,
    "start_time": "2021-12-13T16:42:05.065Z"
   },
   {
    "duration": 79,
    "start_time": "2021-12-13T16:42:05.139Z"
   },
   {
    "duration": 64,
    "start_time": "2021-12-13T16:42:05.221Z"
   },
   {
    "duration": 31,
    "start_time": "2021-12-13T16:42:05.288Z"
   },
   {
    "duration": 403,
    "start_time": "2021-12-13T16:42:05.328Z"
   },
   {
    "duration": 26,
    "start_time": "2021-12-13T16:42:05.735Z"
   },
   {
    "duration": 374,
    "start_time": "2021-12-13T16:42:05.763Z"
   },
   {
    "duration": 25,
    "start_time": "2021-12-13T16:42:06.141Z"
   },
   {
    "duration": 19,
    "start_time": "2021-12-13T16:42:06.170Z"
   },
   {
    "duration": 82,
    "start_time": "2021-12-13T16:42:06.191Z"
   },
   {
    "duration": 33,
    "start_time": "2021-12-13T16:42:06.276Z"
   },
   {
    "duration": 68,
    "start_time": "2021-12-13T16:42:06.311Z"
   },
   {
    "duration": 11,
    "start_time": "2021-12-13T16:42:06.381Z"
   },
   {
    "duration": 9,
    "start_time": "2021-12-13T16:42:06.395Z"
   },
   {
    "duration": 7,
    "start_time": "2021-12-13T16:42:06.407Z"
   },
   {
    "duration": 44,
    "start_time": "2021-12-13T16:42:06.417Z"
   },
   {
    "duration": 12,
    "start_time": "2021-12-13T16:42:06.463Z"
   },
   {
    "duration": 11,
    "start_time": "2021-12-13T16:42:06.477Z"
   },
   {
    "duration": 11,
    "start_time": "2021-12-13T16:42:06.491Z"
   },
   {
    "duration": 55,
    "start_time": "2021-12-13T16:42:06.504Z"
   },
   {
    "duration": 9,
    "start_time": "2021-12-13T16:42:06.562Z"
   },
   {
    "duration": 19,
    "start_time": "2021-12-13T16:42:06.573Z"
   },
   {
    "duration": 107,
    "start_time": "2021-12-13T16:42:06.594Z"
   },
   {
    "duration": 3,
    "start_time": "2021-12-13T16:42:06.704Z"
   },
   {
    "duration": 9,
    "start_time": "2021-12-13T16:42:06.711Z"
   },
   {
    "duration": 51,
    "start_time": "2021-12-13T16:42:06.723Z"
   },
   {
    "duration": 9,
    "start_time": "2021-12-13T16:42:06.777Z"
   },
   {
    "duration": 22,
    "start_time": "2021-12-13T16:42:06.788Z"
   },
   {
    "duration": 59,
    "start_time": "2021-12-13T16:42:06.813Z"
   },
   {
    "duration": 25,
    "start_time": "2021-12-13T16:42:06.875Z"
   },
   {
    "duration": 158,
    "start_time": "2021-12-13T16:42:06.903Z"
   },
   {
    "duration": 56,
    "start_time": "2021-12-13T16:42:07.064Z"
   },
   {
    "duration": 86,
    "start_time": "2021-12-13T16:42:07.123Z"
   },
   {
    "duration": 4,
    "start_time": "2021-12-13T16:42:07.211Z"
   },
   {
    "duration": 2474,
    "start_time": "2021-12-13T16:42:07.217Z"
   },
   {
    "duration": 1327,
    "start_time": "2021-12-13T16:42:09.693Z"
   },
   {
    "duration": 36,
    "start_time": "2021-12-13T16:42:11.023Z"
   },
   {
    "duration": 16,
    "start_time": "2021-12-13T16:42:11.062Z"
   },
   {
    "duration": 808,
    "start_time": "2021-12-13T16:42:11.082Z"
   },
   {
    "duration": 14,
    "start_time": "2021-12-13T16:42:11.892Z"
   },
   {
    "duration": 13,
    "start_time": "2021-12-13T16:42:11.909Z"
   },
   {
    "duration": 12,
    "start_time": "2021-12-13T16:42:11.959Z"
   },
   {
    "duration": 12,
    "start_time": "2021-12-13T16:42:11.974Z"
   },
   {
    "duration": 15,
    "start_time": "2021-12-13T16:47:20.095Z"
   },
   {
    "duration": 13,
    "start_time": "2021-12-13T16:47:27.215Z"
   },
   {
    "duration": 4,
    "start_time": "2021-12-13T16:51:08.447Z"
   },
   {
    "duration": 6,
    "start_time": "2021-12-13T16:51:08.454Z"
   },
   {
    "duration": 4,
    "start_time": "2021-12-13T16:51:08.463Z"
   },
   {
    "duration": 5,
    "start_time": "2021-12-13T16:51:08.469Z"
   },
   {
    "duration": 571,
    "start_time": "2021-12-13T16:51:08.476Z"
   },
   {
    "duration": 11,
    "start_time": "2021-12-13T16:51:09.050Z"
   },
   {
    "duration": 40,
    "start_time": "2021-12-13T16:51:09.063Z"
   },
   {
    "duration": 12,
    "start_time": "2021-12-13T16:51:09.105Z"
   },
   {
    "duration": 20,
    "start_time": "2021-12-13T16:51:09.119Z"
   },
   {
    "duration": 36,
    "start_time": "2021-12-13T16:51:09.142Z"
   },
   {
    "duration": 10,
    "start_time": "2021-12-13T16:51:09.181Z"
   },
   {
    "duration": 23,
    "start_time": "2021-12-13T16:51:09.193Z"
   },
   {
    "duration": 12,
    "start_time": "2021-12-13T16:51:09.259Z"
   },
   {
    "duration": 10,
    "start_time": "2021-12-13T16:51:09.277Z"
   },
   {
    "duration": 15,
    "start_time": "2021-12-13T16:51:09.290Z"
   },
   {
    "duration": 53,
    "start_time": "2021-12-13T16:51:09.307Z"
   },
   {
    "duration": 102,
    "start_time": "2021-12-13T16:51:09.363Z"
   },
   {
    "duration": 147,
    "start_time": "2021-12-13T16:51:09.468Z"
   },
   {
    "duration": 70,
    "start_time": "2021-12-13T16:51:09.618Z"
   },
   {
    "duration": 44,
    "start_time": "2021-12-13T16:51:09.691Z"
   },
   {
    "duration": 54,
    "start_time": "2021-12-13T16:51:09.737Z"
   },
   {
    "duration": 67,
    "start_time": "2021-12-13T16:51:09.794Z"
   },
   {
    "duration": 363,
    "start_time": "2021-12-13T16:51:09.863Z"
   },
   {
    "duration": 31,
    "start_time": "2021-12-13T16:51:10.228Z"
   },
   {
    "duration": 353,
    "start_time": "2021-12-13T16:51:10.261Z"
   },
   {
    "duration": 11,
    "start_time": "2021-12-13T16:51:10.617Z"
   },
   {
    "duration": 39,
    "start_time": "2021-12-13T16:51:10.631Z"
   },
   {
    "duration": 36,
    "start_time": "2021-12-13T16:51:10.672Z"
   },
   {
    "duration": 67,
    "start_time": "2021-12-13T16:51:10.711Z"
   },
   {
    "duration": 37,
    "start_time": "2021-12-13T16:51:10.781Z"
   },
   {
    "duration": 44,
    "start_time": "2021-12-13T16:51:10.822Z"
   },
   {
    "duration": 14,
    "start_time": "2021-12-13T16:51:10.868Z"
   },
   {
    "duration": 11,
    "start_time": "2021-12-13T16:51:10.884Z"
   },
   {
    "duration": 4,
    "start_time": "2021-12-13T16:51:10.897Z"
   },
   {
    "duration": 56,
    "start_time": "2021-12-13T16:51:10.903Z"
   },
   {
    "duration": 14,
    "start_time": "2021-12-13T16:51:10.962Z"
   },
   {
    "duration": 11,
    "start_time": "2021-12-13T16:51:10.978Z"
   },
   {
    "duration": 9,
    "start_time": "2021-12-13T16:51:10.998Z"
   },
   {
    "duration": 58,
    "start_time": "2021-12-13T16:51:11.012Z"
   },
   {
    "duration": 29,
    "start_time": "2021-12-13T16:51:11.073Z"
   },
   {
    "duration": 124,
    "start_time": "2021-12-13T16:51:11.105Z"
   },
   {
    "duration": 5,
    "start_time": "2021-12-13T16:51:11.232Z"
   },
   {
    "duration": 22,
    "start_time": "2021-12-13T16:51:11.240Z"
   },
   {
    "duration": 28,
    "start_time": "2021-12-13T16:51:11.265Z"
   },
   {
    "duration": 13,
    "start_time": "2021-12-13T16:51:11.296Z"
   },
   {
    "duration": 56,
    "start_time": "2021-12-13T16:51:11.311Z"
   },
   {
    "duration": 25,
    "start_time": "2021-12-13T16:51:11.370Z"
   },
   {
    "duration": 17,
    "start_time": "2021-12-13T16:51:11.398Z"
   },
   {
    "duration": 142,
    "start_time": "2021-12-13T16:51:11.417Z"
   },
   {
    "duration": 56,
    "start_time": "2021-12-13T16:51:11.562Z"
   },
   {
    "duration": 83,
    "start_time": "2021-12-13T16:51:11.622Z"
   },
   {
    "duration": 5,
    "start_time": "2021-12-13T16:51:11.709Z"
   },
   {
    "duration": 2574,
    "start_time": "2021-12-13T16:51:11.717Z"
   },
   {
    "duration": 1230,
    "start_time": "2021-12-13T16:51:14.295Z"
   },
   {
    "duration": 34,
    "start_time": "2021-12-13T16:51:15.527Z"
   },
   {
    "duration": 12,
    "start_time": "2021-12-13T16:51:15.563Z"
   },
   {
    "duration": 893,
    "start_time": "2021-12-13T16:51:15.578Z"
   },
   {
    "duration": 19,
    "start_time": "2021-12-13T16:51:16.474Z"
   },
   {
    "duration": 13,
    "start_time": "2021-12-13T16:51:16.496Z"
   },
   {
    "duration": 53,
    "start_time": "2021-12-13T16:51:16.512Z"
   },
   {
    "duration": 12,
    "start_time": "2021-12-13T16:51:16.568Z"
   },
   {
    "duration": 5,
    "start_time": "2021-12-13T16:52:39.840Z"
   },
   {
    "duration": 6,
    "start_time": "2021-12-13T16:52:39.848Z"
   },
   {
    "duration": 6,
    "start_time": "2021-12-13T16:52:39.857Z"
   },
   {
    "duration": 5,
    "start_time": "2021-12-13T16:52:39.866Z"
   },
   {
    "duration": 592,
    "start_time": "2021-12-13T16:52:39.873Z"
   },
   {
    "duration": 11,
    "start_time": "2021-12-13T16:52:40.467Z"
   },
   {
    "duration": 32,
    "start_time": "2021-12-13T16:52:40.480Z"
   },
   {
    "duration": 11,
    "start_time": "2021-12-13T16:52:40.516Z"
   },
   {
    "duration": 12,
    "start_time": "2021-12-13T16:52:40.558Z"
   },
   {
    "duration": 36,
    "start_time": "2021-12-13T16:52:40.572Z"
   },
   {
    "duration": 10,
    "start_time": "2021-12-13T16:52:40.612Z"
   },
   {
    "duration": 56,
    "start_time": "2021-12-13T16:52:40.625Z"
   },
   {
    "duration": 16,
    "start_time": "2021-12-13T16:52:40.684Z"
   },
   {
    "duration": 13,
    "start_time": "2021-12-13T16:52:40.703Z"
   },
   {
    "duration": 56,
    "start_time": "2021-12-13T16:52:40.719Z"
   },
   {
    "duration": 16,
    "start_time": "2021-12-13T16:52:40.778Z"
   },
   {
    "duration": 134,
    "start_time": "2021-12-13T16:52:40.797Z"
   },
   {
    "duration": 148,
    "start_time": "2021-12-13T16:52:40.933Z"
   },
   {
    "duration": 54,
    "start_time": "2021-12-13T16:52:41.084Z"
   },
   {
    "duration": 48,
    "start_time": "2021-12-13T16:52:41.159Z"
   },
   {
    "duration": 62,
    "start_time": "2021-12-13T16:52:41.209Z"
   },
   {
    "duration": 30,
    "start_time": "2021-12-13T16:52:41.278Z"
   },
   {
    "duration": 360,
    "start_time": "2021-12-13T16:52:41.312Z"
   },
   {
    "duration": 18,
    "start_time": "2021-12-13T16:52:41.676Z"
   },
   {
    "duration": 380,
    "start_time": "2021-12-13T16:52:41.697Z"
   },
   {
    "duration": 11,
    "start_time": "2021-12-13T16:52:42.080Z"
   },
   {
    "duration": 16,
    "start_time": "2021-12-13T16:52:42.094Z"
   },
   {
    "duration": 70,
    "start_time": "2021-12-13T16:52:42.113Z"
   },
   {
    "duration": 33,
    "start_time": "2021-12-13T16:52:42.186Z"
   },
   {
    "duration": 65,
    "start_time": "2021-12-13T16:52:42.222Z"
   },
   {
    "duration": 15,
    "start_time": "2021-12-13T16:52:42.291Z"
   },
   {
    "duration": 56,
    "start_time": "2021-12-13T16:52:42.309Z"
   },
   {
    "duration": 11,
    "start_time": "2021-12-13T16:52:42.368Z"
   },
   {
    "duration": 5,
    "start_time": "2021-12-13T16:52:42.382Z"
   },
   {
    "duration": 9,
    "start_time": "2021-12-13T16:52:42.389Z"
   },
   {
    "duration": 64,
    "start_time": "2021-12-13T16:52:42.401Z"
   },
   {
    "duration": 10,
    "start_time": "2021-12-13T16:52:42.467Z"
   },
   {
    "duration": 6,
    "start_time": "2021-12-13T16:52:42.479Z"
   },
   {
    "duration": 10,
    "start_time": "2021-12-13T16:52:42.487Z"
   },
   {
    "duration": 61,
    "start_time": "2021-12-13T16:52:42.500Z"
   },
   {
    "duration": 63,
    "start_time": "2021-12-13T16:52:42.564Z"
   },
   {
    "duration": 4,
    "start_time": "2021-12-13T16:52:42.629Z"
   },
   {
    "duration": 26,
    "start_time": "2021-12-13T16:52:42.635Z"
   },
   {
    "duration": 25,
    "start_time": "2021-12-13T16:52:42.663Z"
   },
   {
    "duration": 8,
    "start_time": "2021-12-13T16:52:42.691Z"
   },
   {
    "duration": 59,
    "start_time": "2021-12-13T16:52:42.702Z"
   },
   {
    "duration": 26,
    "start_time": "2021-12-13T16:52:42.763Z"
   },
   {
    "duration": 19,
    "start_time": "2021-12-13T16:52:42.792Z"
   },
   {
    "duration": 113,
    "start_time": "2021-12-13T16:52:42.813Z"
   },
   {
    "duration": 69,
    "start_time": "2021-12-13T16:52:42.928Z"
   },
   {
    "duration": 71,
    "start_time": "2021-12-13T16:52:43.000Z"
   },
   {
    "duration": 4,
    "start_time": "2021-12-13T16:52:43.073Z"
   },
   {
    "duration": 2537,
    "start_time": "2021-12-13T16:52:43.080Z"
   },
   {
    "duration": 1371,
    "start_time": "2021-12-13T16:52:45.619Z"
   },
   {
    "duration": 12,
    "start_time": "2021-12-13T16:52:46.993Z"
   },
   {
    "duration": 11,
    "start_time": "2021-12-13T16:52:47.007Z"
   },
   {
    "duration": 766,
    "start_time": "2021-12-13T16:52:47.021Z"
   },
   {
    "duration": 15,
    "start_time": "2021-12-13T16:52:47.789Z"
   },
   {
    "duration": 13,
    "start_time": "2021-12-13T16:52:47.807Z"
   },
   {
    "duration": 46,
    "start_time": "2021-12-13T16:52:47.822Z"
   },
   {
    "duration": 12,
    "start_time": "2021-12-13T16:52:47.870Z"
   }
  ],
  "kernelspec": {
   "display_name": "Python 3 (ipykernel)",
   "language": "python",
   "name": "python3"
  },
  "language_info": {
   "codemirror_mode": {
    "name": "ipython",
    "version": 3
   },
   "file_extension": ".py",
   "mimetype": "text/x-python",
   "name": "python",
   "nbconvert_exporter": "python",
   "pygments_lexer": "ipython3",
   "version": "3.8.10"
  },
  "toc": {
   "base_numbering": 1,
   "nav_menu": {},
   "number_sections": true,
   "sideBar": true,
   "skip_h1_title": true,
   "title_cell": "Table of Contents",
   "title_sidebar": "Contents",
   "toc_cell": false,
   "toc_position": {},
   "toc_section_display": true,
   "toc_window_display": true
  }
 },
 "nbformat": 4,
 "nbformat_minor": 2
}
